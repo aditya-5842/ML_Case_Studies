{
 "cells": [
  {
   "cell_type": "code",
   "execution_count": 1,
   "metadata": {
    "colab": {
     "base_uri": "https://localhost:8080/",
     "height": 34
    },
    "colab_type": "code",
    "id": "w03saARU2cj7",
    "outputId": "b6a0b7e9-7bf7-42e0-9b4d-30a1a02e174e"
   },
   "outputs": [
    {
     "name": "stdout",
     "output_type": "stream",
     "text": [
      "Drive already mounted at /content/drive; to attempt to forcibly remount, call drive.mount(\"/content/drive\", force_remount=True).\n"
     ]
    }
   ],
   "source": [
    "from google.colab import drive\n",
    "drive.mount(\"/content/drive\")"
   ]
  },
  {
   "cell_type": "markdown",
   "metadata": {
    "colab_type": "text",
    "id": "1kmagNKcxrjf"
   },
   "source": [
    "# **1. Business Problem**"
   ]
  },
  {
   "cell_type": "markdown",
   "metadata": {
    "colab_type": "text",
    "id": "7clD4Lcyxrjg"
   },
   "source": [
    "## **1.1 Problem Description**"
   ]
  },
  {
   "cell_type": "markdown",
   "metadata": {
    "colab_type": "text",
    "id": "0ziEM4YZxrji"
   },
   "source": [
    "Netflix is all about connecting people to the movies they love. To help customers find those movies, they developed world-class movie recommendation system: CinematchSM. Its job is to predict whether someone will enjoy a movie based on how much they liked or disliked other movies. Netflix use those predictions to make personal movie recommendations based on each customer’s unique tastes. And while <b>Cinematch</b> is doing pretty well, it can always be made better.\n",
    "\n",
    "Now there are a lot of interesting alternative approaches to how Cinematch works that netflix haven’t tried. Some are described in the literature, some aren’t. We’re curious whether any of these can beat Cinematch by making better predictions. Because, frankly, if there is a much better approach it could make a big difference to our customers and our business.\n",
    "\n",
    "**Credits:** https://www.netflixprize.com/rules.html"
   ]
  },
  {
   "cell_type": "markdown",
   "metadata": {
    "colab_type": "text",
    "id": "txuaAQapxrjk"
   },
   "source": [
    "## **1.2 Problem Statement**"
   ]
  },
  {
   "cell_type": "markdown",
   "metadata": {
    "colab_type": "text",
    "id": "5v50M1Zbxrjl"
   },
   "source": [
    "<p>\n",
    "Netflix provided a lot of anonymous rating data, and a prediction accuracy bar that is 10% better than what Cinematch can do on the same training data set. (Accuracy is a measurement of how closely predicted ratings of movies match subsequent actual ratings.) \n",
    "</p>"
   ]
  },
  {
   "cell_type": "markdown",
   "metadata": {
    "colab_type": "text",
    "id": "Na0e6yL_xrjn"
   },
   "source": [
    "## **1.3 Sources**"
   ]
  },
  {
   "cell_type": "markdown",
   "metadata": {
    "colab_type": "text",
    "id": "9FlrEeXhxrjo"
   },
   "source": [
    "\n",
    "* https://www.netflixprize.com/rules.html\n",
    "* https://www.kaggle.com/netflix-inc/netflix-prize-data\n",
    "* **Netflix blog:** https://medium.com/netflix-techblog/netflix-recommendations-beyond-the-5-stars-part-1-55838468f429 (very nice blog)\n",
    "\n",
    "* **surprise library:** http://surpriselib.com/ (we use many models from this library)\n",
    "* **surprise library doc:** http://surprise.readthedocs.io/en/stable/getting_started.html (we use many models from this library)\n",
    "* **installing surprise:** https://github.com/NicolasHug/Surprise#installation\n",
    "* **Research paper:** http://courses.ischool.berkeley.edu/i290-dm/s11/SECURE/a1-koren.pdf (most of our work was inspired by this paper)\n",
    "* **SVD Decomposition:** https://www.youtube.com/watch?v=P5mlg91as1c"
   ]
  },
  {
   "cell_type": "markdown",
   "metadata": {
    "colab_type": "text",
    "id": "7MrYkpDqxrjq"
   },
   "source": [
    "## **1.4 Real world/Business Objectives and constraints**"
   ]
  },
  {
   "cell_type": "markdown",
   "metadata": {
    "colab_type": "text",
    "id": "qU2RiBYSxrjs"
   },
   "source": [
    "**Objectives:**\n",
    "1. Predict the rating that a user would give to a movie that he ahs not yet rated.\n",
    "2. Minimize the difference between predicted and actual rating (RMSE and MAPE)\n",
    "\n",
    "**Constraints:**\n",
    "1. Some form of interpretability."
   ]
  },
  {
   "cell_type": "markdown",
   "metadata": {
    "colab_type": "text",
    "id": "OHaMsF48xrju"
   },
   "source": [
    "# **2. Machine Learning Problem**"
   ]
  },
  {
   "cell_type": "markdown",
   "metadata": {
    "colab_type": "text",
    "id": "ZvI3c9Nzxrjv"
   },
   "source": [
    "## **2.1 Data**"
   ]
  },
  {
   "cell_type": "markdown",
   "metadata": {
    "colab_type": "text",
    "id": "HumNBQ7Bxrjx"
   },
   "source": [
    "### **2.1.1 Data Overview**"
   ]
  },
  {
   "cell_type": "markdown",
   "metadata": {
    "colab_type": "text",
    "id": "VE1V4-Twxrjz"
   },
   "source": [
    "**Get the data from:** https://www.kaggle.com/netflix-inc/netflix-prize-data/data \n",
    "\n",
    "**Data files:** \n",
    "* combined_data_1.txt \n",
    "* combined_data_2.txt \n",
    "* combined_data_3.txt \n",
    "* combined_data_4.txt \n",
    "* movie_titles.csv \n",
    "  \n",
    "The first line of each file [combined_data_1.txt, combined_data_2.txt, combined_data_3.txt, combined_data_4.txt] contains the movie id followed by a colon. Each subsequent line in the file corresponds to a rating from a customer and its date in the following format: **CustomerID,Rating,Date**\n",
    "\n",
    "* MovieIDs range from 1 to 17770 sequentially.\n",
    "* CustomerIDs range from 1 to 2649429, with gaps. There are 480189 users.\n",
    "* Ratings are on a five star (integral) scale from 1 to 5.\n",
    "* Dates have the format YYYY-MM-DD."
   ]
  },
  {
   "cell_type": "markdown",
   "metadata": {
    "colab_type": "text",
    "id": "oyEGal9sxrj0"
   },
   "source": [
    "### **2.1.2 Example Data point**"
   ]
  },
  {
   "cell_type": "markdown",
   "metadata": {
    "colab_type": "text",
    "id": "-7vD4mHyxrj3"
   },
   "source": [
    "<pre>\n",
    "1:\n",
    "1488844,3,2005-09-06\n",
    "822109,5,2005-05-13\n",
    "885013,4,2005-10-19\n",
    "30878,4,2005-12-26\n",
    "823519,3,2004-05-03\n",
    "893988,3,2005-11-17\n",
    "124105,4,2004-08-05\n",
    "1248029,3,2004-04-22\n",
    "1842128,4,2004-05-09\n",
    "2238063,3,2005-05-11\n",
    "1503895,4,2005-05-19\n",
    "2207774,5,2005-06-06\n",
    "2590061,3,2004-08-12\n",
    "2442,3,2004-04-14\n",
    "543865,4,2004-05-28\n",
    "1209119,4,2004-03-23\n",
    "804919,4,2004-06-10\n",
    "1086807,3,2004-12-28\n",
    "1711859,4,2005-05-08\n",
    "372233,5,2005-11-23\n",
    "1080361,3,2005-03-28\n",
    "1245640,3,2005-12-19\n",
    "558634,4,2004-12-14\n",
    "2165002,4,2004-04-06\n",
    "1181550,3,2004-02-01\n",
    "1227322,4,2004-02-06\n",
    "427928,4,2004-02-26\n",
    "814701,5,2005-09-29\n",
    "808731,4,2005-10-31\n",
    "662870,5,2005-08-24\n",
    "337541,5,2005-03-23\n",
    "786312,3,2004-11-16\n",
    "1133214,4,2004-03-07\n",
    "1537427,4,2004-03-29\n",
    "1209954,5,2005-05-09\n",
    "2381599,3,2005-09-12\n",
    "525356,2,2004-07-11\n",
    "1910569,4,2004-04-12\n",
    "2263586,4,2004-08-20\n",
    "2421815,2,2004-02-26\n",
    "1009622,1,2005-01-19\n",
    "1481961,2,2005-05-24\n",
    "401047,4,2005-06-03\n",
    "2179073,3,2004-08-29\n",
    "1434636,3,2004-05-01\n",
    "93986,5,2005-10-06\n",
    "1308744,5,2005-10-29\n",
    "2647871,4,2005-12-30\n",
    "1905581,5,2005-08-16\n",
    "2508819,3,2004-05-18\n",
    "1578279,1,2005-05-19\n",
    "1159695,4,2005-02-15\n",
    "2588432,3,2005-03-31\n",
    "2423091,3,2005-09-12\n",
    "470232,4,2004-04-08\n",
    "2148699,2,2004-06-05\n",
    "1342007,3,2004-07-16\n",
    "466135,4,2004-07-13\n",
    "2472440,3,2005-08-13\n",
    "1283744,3,2004-04-17\n",
    "1927580,4,2004-11-08\n",
    "716874,5,2005-05-06\n",
    "4326,4,2005-10-29\n",
    "</pre>"
   ]
  },
  {
   "cell_type": "markdown",
   "metadata": {
    "colab_type": "text",
    "id": "vJAMqwT0xrj5"
   },
   "source": [
    "## **2.2 Mapping the real world problem to a Machine Learning Problem**"
   ]
  },
  {
   "cell_type": "markdown",
   "metadata": {
    "colab_type": "text",
    "id": "SmpWpWWnxrj6"
   },
   "source": [
    "### **2.2.1 Type of Machine Learning Problem**"
   ]
  },
  {
   "cell_type": "markdown",
   "metadata": {
    "colab_type": "text",
    "id": "Cr8wSkj5xrj8"
   },
   "source": [
    "For a given movie and user we need to predict the rating would be given by him/her to the movie. \n",
    "The given problem is a Recommendation problem \n",
    "It can also seen as a Regression problem "
   ]
  },
  {
   "cell_type": "markdown",
   "metadata": {
    "colab_type": "text",
    "id": "OTC1X3lZxrj9"
   },
   "source": [
    "### **2.2.2 Performance metric**"
   ]
  },
  {
   "cell_type": "markdown",
   "metadata": {
    "colab_type": "text",
    "id": "2zzpYin-xrj_"
   },
   "source": [
    "<ul>\n",
    "<li> Mean Absolute Percentage Error: https://en.wikipedia.org/wiki/Mean_absolute_percentage_error </li>\n",
    "<li> Root Mean Square Error: https://en.wikipedia.org/wiki/Root-mean-square_deviation </li>\n",
    "</ul>\n"
   ]
  },
  {
   "cell_type": "markdown",
   "metadata": {
    "colab_type": "text",
    "id": "ApZlKG6txrkB"
   },
   "source": [
    "### **2.2.3 Machine Learning Objective and Constraints**"
   ]
  },
  {
   "cell_type": "markdown",
   "metadata": {
    "colab_type": "text",
    "id": "nPmLCDJ3xrkC"
   },
   "source": [
    "1. Minimize RMSE.\n",
    "2. Try to provide some interpretability."
   ]
  },
  {
   "cell_type": "markdown",
   "metadata": {
    "colab_type": "text",
    "id": "lVyeqDMqxrkO"
   },
   "source": [
    "# **3. Exploratory Data Analysis**"
   ]
  },
  {
   "cell_type": "markdown",
   "metadata": {
    "colab_type": "text",
    "id": "xJ8HfkK72V_4"
   },
   "source": [
    "* Importing required libraries."
   ]
  },
  {
   "cell_type": "code",
   "execution_count": 0,
   "metadata": {
    "colab": {},
    "colab_type": "code",
    "id": "XhHX9KLo2U8-"
   },
   "outputs": [],
   "source": [
    "# this is just to know how much time will it take to run this entire ipython notebook \n",
    "from datetime import datetime\n",
    "import os\n",
    "\n",
    "import pandas as pd\n",
    "import numpy as np\n",
    "\n",
    "import matplotlib.pyplot as plt\n",
    "import seaborn as sns\n",
    "\n",
    "from scipy import sparse\n",
    "from scipy.sparse import csr_matrix\n",
    "\n",
    "from sklearn.decomposition import TruncatedSVD\n",
    "from sklearn.metrics.pairwise import cosine_similarity\n",
    "import random"
   ]
  },
  {
   "cell_type": "markdown",
   "metadata": {
    "colab_type": "text",
    "id": "hOBwSU1yxrkP"
   },
   "source": [
    "## **3.1 Preprocessing**"
   ]
  },
  {
   "cell_type": "markdown",
   "metadata": {
    "colab_type": "text",
    "id": "e6rSOBxIxrkR"
   },
   "source": [
    "### **3.1.1 Converting / Merging whole data to required format: u_i, m_j, r_ij**"
   ]
  },
  {
   "cell_type": "code",
   "execution_count": 0,
   "metadata": {
    "colab": {},
    "colab_type": "code",
    "id": "kYnpZoaNDvrc"
   },
   "outputs": [],
   "source": [
    "d = \"/content/drive/My Drive/Colab Notebooks/Dataset/Netflix Recommendation System/\""
   ]
  },
  {
   "cell_type": "code",
   "execution_count": 0,
   "metadata": {
    "colab": {
     "base_uri": "https://localhost:8080/",
     "height": 238
    },
    "colab_type": "code",
    "id": "HsP7Z3QtF6mY",
    "outputId": "52a3cbd3-9644-4283-e626-c72b244b045e"
   },
   "outputs": [
    {
     "name": "stdout",
     "output_type": "stream",
     "text": [
      "Reading ratings from combined_data_1.txt...\n",
      "Done.\n",
      "\n",
      "Reading ratings from combined_data_2.txt...\n",
      "Done.\n",
      "\n",
      "Reading ratings from combined_data_3.txt...\n",
      "Done.\n",
      "\n",
      "Reading ratings from combined_data_4.txt...\n",
      "Done.\n",
      "\n",
      "Time taken : 0:02:53.281180\n"
     ]
    }
   ],
   "source": [
    "if not os.path.isfile(d+'raw_data/data.csv'):\n",
    "    start = datetime.now()\n",
    "    # Create a file 'data.csv' before reading it\n",
    "    # Read all the files in netflix and store them in one big file('data.csv')\n",
    "    # We re reading from each of the four files and appendig each rating to a global file 'train.csv'\n",
    "    \n",
    "    row = list()\n",
    "    files=[d+'raw_data/combined_data_1.txt',d+'raw_data/combined_data_2.txt', \n",
    "           d+'raw_data/combined_data_3.txt', d+'raw_data/combined_data_4.txt']\n",
    "\n",
    "    with open(d+\"raw_data/data.csv\", mode = 'w') as data:\n",
    "        for file in files:\n",
    "            print(\"Reading ratings from {}...\".format(file.split('/')[-1]))\n",
    "            with open(file) as f:\n",
    "                for line in f: \n",
    "                    del row[:] # you don't have to do this.\n",
    "                    line = line.strip()\n",
    "                    if line.endswith(':'):\n",
    "                        # All below are ratings for this movie, until another movie appears.\n",
    "                        movie_id = line.replace(':', '')\n",
    "                    else:\n",
    "                        row = [x for x in line.split(',')]\n",
    "                        row.insert(0, movie_id)\n",
    "                        data.write(','.join(row))\n",
    "                        data.write('\\n')\n",
    "            print(\"Done.\\n\")\n",
    "    print('Time taken :', datetime.now() - start)\n",
    "else:\n",
    "    print(\"merged file is there!\")"
   ]
  },
  {
   "cell_type": "code",
   "execution_count": 0,
   "metadata": {
    "colab": {
     "base_uri": "https://localhost:8080/",
     "height": 102
    },
    "colab_type": "code",
    "id": "ustzFSyyHNic",
    "outputId": "0bdda7f1-b552-422b-d678-6f984fdda8f0"
   },
   "outputs": [
    {
     "name": "stdout",
     "output_type": "stream",
     "text": [
      "creating the dataframe from data.csv file..\n",
      "Done.\n",
      "\n",
      "Sorting the dataframe by date..\n",
      "Done..\n"
     ]
    }
   ],
   "source": [
    "print(\"creating the dataframe from data.csv file..\")\n",
    "df = pd.read_csv(d+'raw_data/data.csv', sep=',', \n",
    "                       names=['movie', 'user','rating','date'])\n",
    "df.date = pd.to_datetime(df.date)\n",
    "print('Done.\\n')\n",
    "\n",
    "# we are arranging the ratings according to time.\n",
    "print('Sorting the dataframe by date..')\n",
    "df.sort_values(by='date', inplace=True)\n",
    "print('Done..')"
   ]
  },
  {
   "cell_type": "code",
   "execution_count": 0,
   "metadata": {
    "colab": {
     "base_uri": "https://localhost:8080/",
     "height": 204
    },
    "colab_type": "code",
    "id": "2juDymqvJz-i",
    "outputId": "0a668854-6ab7-4007-fb5e-9e232f9d0044"
   },
   "outputs": [
    {
     "data": {
      "text/html": [
       "<div>\n",
       "<style scoped>\n",
       "    .dataframe tbody tr th:only-of-type {\n",
       "        vertical-align: middle;\n",
       "    }\n",
       "\n",
       "    .dataframe tbody tr th {\n",
       "        vertical-align: top;\n",
       "    }\n",
       "\n",
       "    .dataframe thead th {\n",
       "        text-align: right;\n",
       "    }\n",
       "</style>\n",
       "<table border=\"1\" class=\"dataframe\">\n",
       "  <thead>\n",
       "    <tr style=\"text-align: right;\">\n",
       "      <th></th>\n",
       "      <th>movie</th>\n",
       "      <th>user</th>\n",
       "      <th>rating</th>\n",
       "      <th>date</th>\n",
       "    </tr>\n",
       "  </thead>\n",
       "  <tbody>\n",
       "    <tr>\n",
       "      <th>56431994</th>\n",
       "      <td>10341</td>\n",
       "      <td>510180</td>\n",
       "      <td>4</td>\n",
       "      <td>1999-11-11</td>\n",
       "    </tr>\n",
       "    <tr>\n",
       "      <th>9056171</th>\n",
       "      <td>1798</td>\n",
       "      <td>510180</td>\n",
       "      <td>5</td>\n",
       "      <td>1999-11-11</td>\n",
       "    </tr>\n",
       "    <tr>\n",
       "      <th>58698779</th>\n",
       "      <td>10774</td>\n",
       "      <td>510180</td>\n",
       "      <td>3</td>\n",
       "      <td>1999-11-11</td>\n",
       "    </tr>\n",
       "    <tr>\n",
       "      <th>48101611</th>\n",
       "      <td>8651</td>\n",
       "      <td>510180</td>\n",
       "      <td>2</td>\n",
       "      <td>1999-11-11</td>\n",
       "    </tr>\n",
       "    <tr>\n",
       "      <th>81893208</th>\n",
       "      <td>14660</td>\n",
       "      <td>510180</td>\n",
       "      <td>2</td>\n",
       "      <td>1999-11-11</td>\n",
       "    </tr>\n",
       "  </tbody>\n",
       "</table>\n",
       "</div>"
      ],
      "text/plain": [
       "          movie    user  rating       date\n",
       "56431994  10341  510180       4 1999-11-11\n",
       "9056171    1798  510180       5 1999-11-11\n",
       "58698779  10774  510180       3 1999-11-11\n",
       "48101611   8651  510180       2 1999-11-11\n",
       "81893208  14660  510180       2 1999-11-11"
      ]
     },
     "execution_count": 5,
     "metadata": {
      "tags": []
     },
     "output_type": "execute_result"
    }
   ],
   "source": [
    "df.head()"
   ]
  },
  {
   "cell_type": "code",
   "execution_count": 0,
   "metadata": {
    "colab": {
     "base_uri": "https://localhost:8080/",
     "height": 170
    },
    "colab_type": "code",
    "id": "psJy4gUFJ3mQ",
    "outputId": "dc4b5426-2c64-418a-bb28-b7f5e693a1f7"
   },
   "outputs": [
    {
     "data": {
      "text/plain": [
       "count    1.004805e+08\n",
       "mean     3.604290e+00\n",
       "std      1.085219e+00\n",
       "min      1.000000e+00\n",
       "25%      3.000000e+00\n",
       "50%      4.000000e+00\n",
       "75%      4.000000e+00\n",
       "max      5.000000e+00\n",
       "Name: rating, dtype: float64"
      ]
     },
     "execution_count": 6,
     "metadata": {
      "tags": []
     },
     "output_type": "execute_result"
    }
   ],
   "source": [
    "df.describe()['rating']"
   ]
  },
  {
   "cell_type": "markdown",
   "metadata": {
    "colab_type": "text",
    "id": "O6Jh9hMUxrky"
   },
   "source": [
    "### **3.1.2 Checking for NaN values**"
   ]
  },
  {
   "cell_type": "code",
   "execution_count": 0,
   "metadata": {
    "colab": {
     "base_uri": "https://localhost:8080/",
     "height": 34
    },
    "colab_type": "code",
    "id": "2RX0XUYGxrkz",
    "outputId": "7fb72b16-98cc-45d8-bb08-0a43526ba243",
    "scrolled": false
   },
   "outputs": [
    {
     "name": "stdout",
     "output_type": "stream",
     "text": [
      "No of Nan values in our dataframe :  0\n"
     ]
    }
   ],
   "source": [
    "# just to make sure that all Nan containing rows are deleted..\n",
    "print(\"No of Nan values in our dataframe : \", sum(df.isnull().any()))"
   ]
  },
  {
   "cell_type": "markdown",
   "metadata": {
    "colab_type": "text",
    "id": "QofEYR63xrk9"
   },
   "source": [
    "### **3.1.3 Removing Duplicates**"
   ]
  },
  {
   "cell_type": "code",
   "execution_count": 0,
   "metadata": {
    "colab": {
     "base_uri": "https://localhost:8080/",
     "height": 34
    },
    "colab_type": "code",
    "id": "wDHFQBfCxrlA",
    "outputId": "b69635e5-cc0f-417f-acc2-086cefd241bb"
   },
   "outputs": [
    {
     "name": "stdout",
     "output_type": "stream",
     "text": [
      "There are 0 duplicate rating entries in the data..\n"
     ]
    }
   ],
   "source": [
    "dup_bool = df.duplicated(['movie','user','rating'])\n",
    "dups = sum(dup_bool) # by considering all columns..( including timestamp)\n",
    "print(\"There are {} duplicate rating entries in the data..\".format(dups))"
   ]
  },
  {
   "cell_type": "markdown",
   "metadata": {
    "colab_type": "text",
    "id": "OhrBQacmxrlM"
   },
   "source": [
    "### **3.1.4 Basic Statistics** (#Ratings, #Users, and #Movies)"
   ]
  },
  {
   "cell_type": "code",
   "execution_count": 0,
   "metadata": {
    "colab": {
     "base_uri": "https://localhost:8080/",
     "height": 119
    },
    "colab_type": "code",
    "id": "Gq66viptxrlP",
    "outputId": "feae8087-bf85-47ea-c632-ba677da69384"
   },
   "outputs": [
    {
     "name": "stdout",
     "output_type": "stream",
     "text": [
      "Total data \n",
      "--------------------------------------------------\n",
      "\n",
      "Total no of ratings : 100480507\n",
      "Total No of Users   : 480189\n",
      "Total No of movies  : 17770\n"
     ]
    }
   ],
   "source": [
    "print(\"Total data \")\n",
    "print(\"-\"*50)\n",
    "print(\"\\nTotal no of ratings :\",df.shape[0])\n",
    "print(\"Total No of Users   :\", len(np.unique(df[\"user\"])))\n",
    "print(\"Total No of movies  :\", len(np.unique(df[\"movie\"])))"
   ]
  },
  {
   "cell_type": "markdown",
   "metadata": {
    "colab_type": "text",
    "id": "FIduSZiexrlW"
   },
   "source": [
    "## **3.2 Spliting data into Train and Test(80:20)**"
   ]
  },
  {
   "cell_type": "markdown",
   "metadata": {
    "colab_type": "text",
    "id": "P0Y2HvyASuId"
   },
   "source": [
    "* This is temporal (i.e. time based) splitting. We're taking first 80% data for training and next 20% data for testing."
   ]
  },
  {
   "cell_type": "code",
   "execution_count": 0,
   "metadata": {
    "colab": {
     "base_uri": "https://localhost:8080/",
     "height": 68
    },
    "colab_type": "code",
    "id": "jpT2WRQjxrlY",
    "outputId": "94980dbb-2866-4746-8d0a-1cda01f487a6"
   },
   "outputs": [
    {
     "name": "stdout",
     "output_type": "stream",
     "text": [
      "Number of data points in\n",
      "Train: 80384405\n",
      "Test: 20096102\n"
     ]
    }
   ],
   "source": [
    "if not os.path.isfile(d+'processed_data/train.csv'):\n",
    "    # create the dataframe and store it in the disk for offline purposes..\n",
    "    df.iloc[:int(df.shape[0]*0.80)].to_csv(d+'processed_data/train.csv', index=False)\n",
    "\n",
    "if not os.path.isfile(d+'processed_data/test.csv'):\n",
    "    # create the dataframe and store it in the disk for offline purposes..\n",
    "    df.iloc[int(df.shape[0]*0.80):].to_csv(d+'processed_data/test.csv', index=False)\n",
    "\n",
    "train_df = pd.read_csv(d+\"processed_data/train.csv\", parse_dates=['date'])\n",
    "test_df = pd.read_csv(d+\"processed_data/test.csv\")\n",
    "\n",
    "print(\"Number of data points in\\nTrain: {}\\nTest: {}\".format(train_df.shape[0], test_df.shape[0]))"
   ]
  },
  {
   "cell_type": "markdown",
   "metadata": {
    "colab_type": "text",
    "id": "SCT91Uw5xrld"
   },
   "source": [
    "### **3.2.1 Basic Statistics in Train data** (#Ratings, #Users, and #Movies)"
   ]
  },
  {
   "cell_type": "code",
   "execution_count": 0,
   "metadata": {
    "colab": {
     "base_uri": "https://localhost:8080/",
     "height": 119
    },
    "colab_type": "code",
    "id": "Il1yfWfuxrle",
    "outputId": "11b1249b-30f7-47ff-94ac-0f2503146ebe"
   },
   "outputs": [
    {
     "name": "stdout",
     "output_type": "stream",
     "text": [
      "Training data \n",
      "--------------------------------------------------\n",
      "\n",
      "Total no of ratings : 80384405\n",
      "Total No of Users   : 405041\n",
      "Total No of movies  : 17424\n"
     ]
    }
   ],
   "source": [
    "print(\"Training data \")\n",
    "print(\"-\"*50)\n",
    "print(\"\\nTotal no of ratings :\",train_df.shape[0])\n",
    "print(\"Total No of Users   :\", len(np.unique(train_df.user)))\n",
    "print(\"Total No of movies  :\", len(np.unique(train_df.movie)))"
   ]
  },
  {
   "cell_type": "markdown",
   "metadata": {
    "colab_type": "text",
    "id": "eEVS0juVxrlk"
   },
   "source": [
    "### **3.2.2 Basic Statistics in Test data** (#Ratings, #Users, and #Movies)"
   ]
  },
  {
   "cell_type": "code",
   "execution_count": 0,
   "metadata": {
    "colab": {
     "base_uri": "https://localhost:8080/",
     "height": 119
    },
    "colab_type": "code",
    "id": "V0SLQlbNxrll",
    "outputId": "94d5d7c7-fbb1-4255-99ce-bd7071a451a8"
   },
   "outputs": [
    {
     "name": "stdout",
     "output_type": "stream",
     "text": [
      "Test data \n",
      "--------------------------------------------------\n",
      "\n",
      "Total no of ratings : 20096102\n",
      "Total No of Users   : 349312\n",
      "Total No of movies  : 17757\n"
     ]
    }
   ],
   "source": [
    "print(\"Test data \")\n",
    "print(\"-\"*50)\n",
    "print(\"\\nTotal no of ratings :\",test_df.shape[0])\n",
    "print(\"Total No of Users   :\", len(np.unique(test_df.user)))\n",
    "print(\"Total No of movies  :\", len(np.unique(test_df.movie)))"
   ]
  },
  {
   "cell_type": "markdown",
   "metadata": {
    "colab_type": "text",
    "id": "a_tk9Btvxrlq"
   },
   "source": [
    "## **3.3 Exploratory Data Analysis on Train data**"
   ]
  },
  {
   "cell_type": "code",
   "execution_count": 0,
   "metadata": {
    "colab": {},
    "colab_type": "code",
    "id": "tnjH03rkxrlx"
   },
   "outputs": [],
   "source": [
    "# method to make y-axis more readable\n",
    "def human(num, units = 'M'):\n",
    "    units = units.lower()\n",
    "    num = float(num)\n",
    "    if units == 'k':\n",
    "        return str(num/10**3) + \" K\"\n",
    "    elif units == 'm':\n",
    "        return str(num/10**6) + \" M\"\n",
    "    elif units == 'b':\n",
    "        return str(num/10**9) +  \" B\""
   ]
  },
  {
   "cell_type": "markdown",
   "metadata": {
    "colab_type": "text",
    "id": "m3SE677Jxrl0"
   },
   "source": [
    "### **3.3.1 Distribution of ratings**"
   ]
  },
  {
   "cell_type": "code",
   "execution_count": 0,
   "metadata": {
    "colab": {
     "base_uri": "https://localhost:8080/",
     "height": 409
    },
    "colab_type": "code",
    "id": "NRmmEFIAxrl2",
    "outputId": "7f8f24ae-2847-4f98-d9c0-4f5fd2e46af8",
    "scrolled": false
   },
   "outputs": [
    {
     "data": {
      "image/png": "[encoded data removed]",
      "text/plain": [
       "<Figure size 1368x432 with 2 Axes>"
      ]
     },
     "metadata": {
      "tags": []
     },
     "output_type": "display_data"
    }
   ],
   "source": [
    "fig, (ax1,ax2) = plt.subplots(1,2, figsize = (19, 6))\n",
    "ax1.set_title('Distribution of ratings over Training dataset', fontsize=15)\n",
    "sns.countplot(train_df[\"rating\"], ax = ax1)\n",
    "ax1.set_yticklabels([human(item, 'M') for item in ax1.get_yticks()])\n",
    "ax1.set_ylabel('No. of Ratings(Millions)', fontsize = 12)\n",
    "ax1.set_xlabel(\"Rating\", fontsize = 12)\n",
    "\n",
    "ax2.set_title('Distribution of ratings over Test dataset', fontsize=15)\n",
    "sns.countplot(test_df[\"rating\"], ax = ax2)\n",
    "ax2.set_yticklabels([human(item, 'M') for item in ax2.get_yticks()])\n",
    "ax2.set_ylabel('No. of Ratings(Millions)', fontsize = 12)\n",
    "ax2.set_xlabel(\"Rating\", fontsize = 12)\n",
    "\n",
    "plt.show()"
   ]
  },
  {
   "cell_type": "markdown",
   "metadata": {
    "colab_type": "text",
    "id": "xluJpeQNCQBp"
   },
   "source": [
    "* Distribution of rating for train and test data look almost very similar."
   ]
  },
  {
   "cell_type": "markdown",
   "metadata": {
    "colab_type": "text",
    "id": "iuHfNIS7xrl9"
   },
   "source": [
    "**Add new column (week day) to the data set  for analysis.**"
   ]
  },
  {
   "cell_type": "code",
   "execution_count": 0,
   "metadata": {
    "colab": {
     "base_uri": "https://localhost:8080/",
     "height": 204
    },
    "colab_type": "code",
    "id": "IUeYMtbtxrl-",
    "outputId": "1f6d4862-692a-446c-cf4c-36bf9528264f",
    "scrolled": true
   },
   "outputs": [
    {
     "data": {
      "text/html": [
       "<div>\n",
       "<style scoped>\n",
       "    .dataframe tbody tr th:only-of-type {\n",
       "        vertical-align: middle;\n",
       "    }\n",
       "\n",
       "    .dataframe tbody tr th {\n",
       "        vertical-align: top;\n",
       "    }\n",
       "\n",
       "    .dataframe thead th {\n",
       "        text-align: right;\n",
       "    }\n",
       "</style>\n",
       "<table border=\"1\" class=\"dataframe\">\n",
       "  <thead>\n",
       "    <tr style=\"text-align: right;\">\n",
       "      <th></th>\n",
       "      <th>movie</th>\n",
       "      <th>user</th>\n",
       "      <th>rating</th>\n",
       "      <th>date</th>\n",
       "      <th>day_of_week</th>\n",
       "    </tr>\n",
       "  </thead>\n",
       "  <tbody>\n",
       "    <tr>\n",
       "      <th>80384400</th>\n",
       "      <td>12074</td>\n",
       "      <td>2033618</td>\n",
       "      <td>4</td>\n",
       "      <td>2005-08-08</td>\n",
       "      <td>Monday</td>\n",
       "    </tr>\n",
       "    <tr>\n",
       "      <th>80384401</th>\n",
       "      <td>862</td>\n",
       "      <td>1797061</td>\n",
       "      <td>3</td>\n",
       "      <td>2005-08-08</td>\n",
       "      <td>Monday</td>\n",
       "    </tr>\n",
       "    <tr>\n",
       "      <th>80384402</th>\n",
       "      <td>10986</td>\n",
       "      <td>1498715</td>\n",
       "      <td>5</td>\n",
       "      <td>2005-08-08</td>\n",
       "      <td>Monday</td>\n",
       "    </tr>\n",
       "    <tr>\n",
       "      <th>80384403</th>\n",
       "      <td>14861</td>\n",
       "      <td>500016</td>\n",
       "      <td>4</td>\n",
       "      <td>2005-08-08</td>\n",
       "      <td>Monday</td>\n",
       "    </tr>\n",
       "    <tr>\n",
       "      <th>80384404</th>\n",
       "      <td>5926</td>\n",
       "      <td>1044015</td>\n",
       "      <td>5</td>\n",
       "      <td>2005-08-08</td>\n",
       "      <td>Monday</td>\n",
       "    </tr>\n",
       "  </tbody>\n",
       "</table>\n",
       "</div>"
      ],
      "text/plain": [
       "          movie     user  rating       date day_of_week\n",
       "80384400  12074  2033618       4 2005-08-08      Monday\n",
       "80384401    862  1797061       3 2005-08-08      Monday\n",
       "80384402  10986  1498715       5 2005-08-08      Monday\n",
       "80384403  14861   500016       4 2005-08-08      Monday\n",
       "80384404   5926  1044015       5 2005-08-08      Monday"
      ]
     },
     "execution_count": 13,
     "metadata": {
      "tags": []
     },
     "output_type": "execute_result"
    }
   ],
   "source": [
    "# It is used to skip the warning ''SettingWithCopyWarning''.. \n",
    "pd.options.mode.chained_assignment = None  # default='warn'\n",
    "\n",
    "train_df['day_of_week'] = train_df[\"date\"].dt.weekday_name\n",
    "train_df.tail()"
   ]
  },
  {
   "cell_type": "markdown",
   "metadata": {
    "colab_type": "text",
    "id": "uLqBOfOkxrmE"
   },
   "source": [
    "### **3.3.2 Number of Ratings per a month**"
   ]
  },
  {
   "cell_type": "code",
   "execution_count": 0,
   "metadata": {
    "colab": {
     "base_uri": "https://localhost:8080/",
     "height": 463
    },
    "colab_type": "code",
    "id": "4XoUFEM2xrmF",
    "outputId": "08fe3696-7d93-4e07-fde0-d61665497a4f",
    "scrolled": false
   },
   "outputs": [
    {
     "data": {
      "image/png": "[encoded data removed]",
      "text/plain": [
       "<Figure size 720x504 with 1 Axes>"
      ]
     },
     "metadata": {
      "tags": []
     },
     "output_type": "display_data"
    }
   ],
   "source": [
    "fig, ax = plt.subplots(figsize = (10,7))\n",
    "ax = train_df.resample('m', on='date')['rating'].count().plot()\n",
    "ax.set_title('No of ratings per month (Training data)', fontsize = 15)\n",
    "plt.xlabel('Month', fontsize = 12)\n",
    "plt.ylabel('No of ratings(per month)', fontsize = 12)\n",
    "ax.set_yticklabels([human(item, 'M') for item in ax.get_yticks()])\n",
    "plt.grid(1)\n",
    "plt.show()"
   ]
  },
  {
   "cell_type": "markdown",
   "metadata": {
    "colab_type": "text",
    "id": "Rm4JZhKixrmN"
   },
   "source": [
    "### **3.3.3 Analysis on the Ratings given by user**"
   ]
  },
  {
   "cell_type": "code",
   "execution_count": 0,
   "metadata": {
    "colab": {
     "base_uri": "https://localhost:8080/",
     "height": 136
    },
    "colab_type": "code",
    "id": "MT495cdNxrmO",
    "outputId": "a337f9c9-45d1-487c-acf5-ac3d8a75b9dc",
    "scrolled": true
   },
   "outputs": [
    {
     "data": {
      "text/plain": [
       "user\n",
       "305344     17112\n",
       "2439493    15896\n",
       "387418     15402\n",
       "1639792     9767\n",
       "1461435     9447\n",
       "Name: rating, dtype: int64"
      ]
     },
     "execution_count": 25,
     "metadata": {
      "tags": []
     },
     "output_type": "execute_result"
    }
   ],
   "source": [
    "no_of_rated_movies_per_user = train_df.groupby(by='user')['rating'].count().sort_values(ascending=False)\n",
    "\n",
    "no_of_rated_movies_per_user.head()"
   ]
  },
  {
   "cell_type": "code",
   "execution_count": 0,
   "metadata": {
    "colab": {
     "base_uri": "https://localhost:8080/",
     "height": 518
    },
    "colab_type": "code",
    "id": "j3TQq_DJxrmT",
    "outputId": "66d16683-4a00-40cc-d6bc-5370a3b177c2"
   },
   "outputs": [
    {
     "data": {
      "image/png": "[encoded data removed]",
      "text/plain": [
       "<Figure size 1368x576 with 2 Axes>"
      ]
     },
     "metadata": {
      "tags": []
     },
     "output_type": "display_data"
    }
   ],
   "source": [
    "fig, (ax1, ax2) = plt.subplots(1,2, figsize = (19, 8))\n",
    "\n",
    "sns.kdeplot(no_of_rated_movies_per_user, shade=True, ax=ax1)\n",
    "ax1.set_xlabel('No of ratings by user', fontsize = 12)\n",
    "ax1.set_title(\"PDF\", fontsize = 15)\n",
    "\n",
    "sns.kdeplot(no_of_rated_movies_per_user, shade=True, cumulative=True,ax=ax2)\n",
    "ax2.set_xlabel('No of ratings by user', fontsize= 12)\n",
    "ax2.set_title('CDF', fontsize = 15)\n",
    "\n",
    "plt.show()"
   ]
  },
  {
   "cell_type": "code",
   "execution_count": 0,
   "metadata": {
    "colab": {
     "base_uri": "https://localhost:8080/",
     "height": 170
    },
    "colab_type": "code",
    "id": "WPYD3A0ZxrmY",
    "outputId": "8ea79f2b-6bfd-4402-decc-142723ed550b",
    "scrolled": false
   },
   "outputs": [
    {
     "data": {
      "text/plain": [
       "count    405041.000000\n",
       "mean        198.459921\n",
       "std         290.793238\n",
       "min           1.000000\n",
       "25%          34.000000\n",
       "50%          89.000000\n",
       "75%         245.000000\n",
       "max       17112.000000\n",
       "Name: rating, dtype: float64"
      ]
     },
     "execution_count": 28,
     "metadata": {
      "tags": []
     },
     "output_type": "execute_result"
    }
   ],
   "source": [
    "no_of_rated_movies_per_user.describe()"
   ]
  },
  {
   "cell_type": "markdown",
   "metadata": {
    "colab_type": "text",
    "id": "_HGU2IKuxrmd"
   },
   "source": [
    "__There,  is something interesting going on with the quantiles..__"
   ]
  },
  {
   "cell_type": "code",
   "execution_count": 0,
   "metadata": {
    "colab": {},
    "colab_type": "code",
    "id": "1FJkU6DNxrmf"
   },
   "outputs": [],
   "source": [
    "quantiles = no_of_rated_movies_per_user.quantile(np.arange(0,1.01,0.01), interpolation='higher')"
   ]
  },
  {
   "cell_type": "code",
   "execution_count": 0,
   "metadata": {
    "colab": {
     "base_uri": "https://localhost:8080/",
     "height": 463
    },
    "colab_type": "code",
    "id": "moUrxKoVxrmj",
    "outputId": "14e40fc1-1229-4d30-a22b-18abcc9f0529",
    "scrolled": false
   },
   "outputs": [
    {
     "data": {
      "image/png": "[encoded data removed]",
      "text/plain": [
       "<Figure size 720x504 with 1 Axes>"
      ]
     },
     "metadata": {
      "tags": []
     },
     "output_type": "display_data"
    }
   ],
   "source": [
    "plt.figure(figsize = (10, 7))\n",
    "plt.title(\"Quantiles and their Values\", fontsize = 15)\n",
    "quantiles.plot()\n",
    "# quantiles with 0.05 difference\n",
    "plt.scatter(x=quantiles.index[::5], y=quantiles.values[::5], c='orange', label=\"quantiles with 0.05 intervals\")\n",
    "# quantiles with 0.25 difference\n",
    "plt.scatter(x=quantiles.index[::25], y=quantiles.values[::25], c='m', label = \"quantiles with 0.25 intervals\")\n",
    "plt.ylabel('No of ratings by user', fontsize = 12)\n",
    "plt.xlabel('Value at the quantile', fontsize = 12)\n",
    "plt.legend(loc='upper left', fontsize = 12)\n",
    "\n",
    "# annotate the 25th, 50th, 75th and 100th percentile values....\n",
    "for x,y in zip(quantiles.index[::25], quantiles[::25]):\n",
    "    plt.annotate(s=\"({} , {})\".format(x,y), xy=(x,y), xytext=(x-0.05, y+500)\n",
    "                ,fontweight='bold')\n",
    "\n",
    "plt.show()"
   ]
  },
  {
   "cell_type": "code",
   "execution_count": 0,
   "metadata": {
    "colab": {
     "base_uri": "https://localhost:8080/",
     "height": 391
    },
    "colab_type": "code",
    "id": "YjWhUIoUxrmr",
    "outputId": "0f3c7690-720d-4d1a-bcc1-e94e8db21383",
    "scrolled": false
   },
   "outputs": [
    {
     "data": {
      "text/plain": [
       "0.00        1\n",
       "0.05        7\n",
       "0.10       15\n",
       "0.15       21\n",
       "0.20       27\n",
       "0.25       34\n",
       "0.30       41\n",
       "0.35       50\n",
       "0.40       60\n",
       "0.45       73\n",
       "0.50       89\n",
       "0.55      109\n",
       "0.60      133\n",
       "0.65      163\n",
       "0.70      199\n",
       "0.75      245\n",
       "0.80      307\n",
       "0.85      392\n",
       "0.90      520\n",
       "0.95      749\n",
       "1.00    17112\n",
       "Name: rating, dtype: int64"
      ]
     },
     "execution_count": 40,
     "metadata": {
      "tags": []
     },
     "output_type": "execute_result"
    }
   ],
   "source": [
    "quantiles[::5]"
   ]
  },
  {
   "cell_type": "markdown",
   "metadata": {
    "colab_type": "text",
    "id": "_evJBswjxrm2"
   },
   "source": [
    "__how many ratings at the last 5% of all ratings__??"
   ]
  },
  {
   "cell_type": "code",
   "execution_count": 0,
   "metadata": {
    "colab": {
     "base_uri": "https://localhost:8080/",
     "height": 34
    },
    "colab_type": "code",
    "id": "x6Ofcbc5xrm3",
    "outputId": "9edc6f15-aaa8-4fb8-eadd-481a96a76b6a"
   },
   "outputs": [
    {
     "name": "stdout",
     "output_type": "stream",
     "text": [
      "No of ratings at last 5 percentile : 20305\n"
     ]
    }
   ],
   "source": [
    "print('No of ratings at last 5 percentile : {}'.format(sum(no_of_rated_movies_per_user>= 749)) )"
   ]
  },
  {
   "cell_type": "markdown",
   "metadata": {
    "colab_type": "text",
    "id": "uhqHW352xrm9"
   },
   "source": [
    "### **3.3.4 Analysis of ratings of a movie given by a user** "
   ]
  },
  {
   "cell_type": "code",
   "execution_count": 0,
   "metadata": {
    "colab": {
     "base_uri": "https://localhost:8080/",
     "height": 453
    },
    "colab_type": "code",
    "id": "rfRBkAYUxrm_",
    "outputId": "8783ad5f-fc29-4ecb-cc80-b56cf3da21c4"
   },
   "outputs": [
    {
     "data": {
      "image/png": "[encoded data removed]",
      "text/plain": [
       "<Figure size 720x504 with 1 Axes>"
      ]
     },
     "metadata": {
      "tags": []
     },
     "output_type": "display_data"
    }
   ],
   "source": [
    "no_of_ratings_per_movie = train_df.groupby(by='movie')['rating'].count().sort_values(ascending=False)\n",
    "\n",
    "fig = plt.figure(figsize = (10, 7))\n",
    "ax = plt.gca()\n",
    "plt.plot(no_of_ratings_per_movie.values)\n",
    "plt.title('# RATINGS per Movie', fontsize = 15)\n",
    "plt.xlabel('Movie', fontsize =12)\n",
    "plt.ylabel('No of Users who rated a movie', fontsize = 12)\n",
    "ax.set_xticklabels([])\n",
    "plt.grid(1)\n",
    "\n",
    "plt.show()"
   ]
  },
  {
   "cell_type": "markdown",
   "metadata": {
    "colab_type": "text",
    "id": "Wpq4_qXOxrnF"
   },
   "source": [
    "- __It is very skewed.. just like nunmber of ratings given per user.__\n",
    "    \n",
    "    \n",
    "    - There are some movies (which are very popular) which are rated by huge number of users.\n",
    "    \n",
    "    - But most of the movies(like 90%) got some hundereds of ratings."
   ]
  },
  {
   "cell_type": "markdown",
   "metadata": {
    "colab_type": "text",
    "id": "F6ZrsYiIxrnH"
   },
   "source": [
    "### **3.3.5 Number of ratings on each day of the week**"
   ]
  },
  {
   "cell_type": "code",
   "execution_count": 0,
   "metadata": {
    "colab": {
     "base_uri": "https://localhost:8080/",
     "height": 446
    },
    "colab_type": "code",
    "id": "SGGpqq23xrnH",
    "outputId": "55ecc944-716d-4ff9-cb37-512cea098947",
    "scrolled": false
   },
   "outputs": [
    {
     "data": {
      "image/png": "[encoded data removed]",
      "text/plain": [
       "<Figure size 720x504 with 1 Axes>"
      ]
     },
     "metadata": {
      "tags": []
     },
     "output_type": "display_data"
    }
   ],
   "source": [
    "fig, ax = plt.subplots(figsize = (10, 7))\n",
    "sns.countplot(x='day_of_week', data=train_df, ax=ax)\n",
    "plt.title('No of ratings on each day...', fontsize = 15)\n",
    "plt.ylabel('Total no of ratings', fontsize = 12)\n",
    "plt.xlabel('')\n",
    "ax.set_yticklabels([human(item, 'M') for item in ax.get_yticks()])\n",
    "plt.grid(1)\n",
    "plt.show()"
   ]
  },
  {
   "cell_type": "code",
   "execution_count": 0,
   "metadata": {
    "colab": {
     "base_uri": "https://localhost:8080/",
     "height": 372
    },
    "colab_type": "code",
    "id": "nNhOQY9cxrnL",
    "outputId": "88fdfcbe-6564-4efa-a9bb-47f9ef928240",
    "scrolled": false
   },
   "outputs": [
    {
     "data": {
      "image/png": "[encoded data removed]",
      "text/plain": [
       "<Figure size 1224x360 with 1 Axes>"
      ]
     },
     "metadata": {
      "tags": []
     },
     "output_type": "display_data"
    },
    {
     "name": "stdout",
     "output_type": "stream",
     "text": [
      "0:00:27.914079\n"
     ]
    }
   ],
   "source": [
    "start = datetime.now()\n",
    "fig = plt.figure(figsize=(17, 5))\n",
    "sns.boxplot(y='rating', x='day_of_week', data=train_df)\n",
    "plt.grid(1)\n",
    "plt.title(\"Box Plot of rating (week wise)\", fontsize = 15)\n",
    "plt.xlabel(\"day_of_week\", fontsize = 12)\n",
    "plt.ylabel(\"rating\", fontsize = 12)\n",
    "plt.show()\n",
    "print(datetime.now() - start)"
   ]
  },
  {
   "cell_type": "code",
   "execution_count": 0,
   "metadata": {
    "colab": {
     "base_uri": "https://localhost:8080/",
     "height": 238
    },
    "colab_type": "code",
    "id": "YU5UuCpHxrnR",
    "outputId": "99ba9658-3aaf-4198-d3a3-cec64dfc141b",
    "scrolled": false
   },
   "outputs": [
    {
     "name": "stdout",
     "output_type": "stream",
     "text": [
      " AVerage ratings\n",
      "------------------------------\n",
      "day_of_week\n",
      "Friday       3.585274\n",
      "Monday       3.577250\n",
      "Saturday     3.591791\n",
      "Sunday       3.594144\n",
      "Thursday     3.582463\n",
      "Tuesday      3.574438\n",
      "Wednesday    3.583751\n",
      "Name: rating, dtype: float64\n",
      "\n",
      "\n"
     ]
    }
   ],
   "source": [
    "avg_week_df = train_df.groupby(by=['day_of_week'])['rating'].mean()\n",
    "print(\" AVerage ratings\")\n",
    "print(\"-\"*30)\n",
    "print(avg_week_df)\n",
    "print(\"\\n\")"
   ]
  },
  {
   "cell_type": "markdown",
   "metadata": {
    "colab_type": "text",
    "id": "xdR-HpOAO-am"
   },
   "source": [
    "* By looking at the box plot of feature `day_of_week`, we can say that this will not play useful role in predicting the rating.\n",
    "* But by looking at bar plot of number of rating each day we can say that on __weekends__ movies tend to have lower rating."
   ]
  },
  {
   "cell_type": "markdown",
   "metadata": {
    "colab_type": "text",
    "collapsed": true,
    "id": "Cd1Mv38GxrnX"
   },
   "source": [
    "### **3.3.6 Creating sparse matrix from data frame**"
   ]
  },
  {
   "cell_type": "markdown",
   "metadata": {
    "colab_type": "text",
    "id": "KJhTXsCVxrnZ"
   },
   "source": [
    "#### **3.3.6.1 Creating sparse matrix from train data frame**"
   ]
  },
  {
   "cell_type": "code",
   "execution_count": 0,
   "metadata": {
    "colab": {
     "base_uri": "https://localhost:8080/",
     "height": 68
    },
    "colab_type": "code",
    "id": "tj6TVYrRxrna",
    "outputId": "639be67c-17a5-4282-b244-de2e2eac7798",
    "scrolled": true
   },
   "outputs": [
    {
     "name": "stdout",
     "output_type": "stream",
     "text": [
      "It is present in your pwd, getting it from disk....\n",
      "DONE..\n",
      "time taken to load the data is  0:00:09.001717\n"
     ]
    }
   ],
   "source": [
    "if os.path.isfile(d+'processed_data/train_sparse_matrix.npz'):\n",
    "    start = datetime.now()\n",
    "    print(\"It is present in your pwd, getting it from disk....\")\n",
    "    # just get it from the disk instead of computing it\n",
    "    train_sparse_matrix = sparse.load_npz(d+'processed_data/train_sparse_matrix.npz')\n",
    "    print(\"DONE..\")\n",
    "    print(\"time taken to load the data is \", datetime.now() - start)\n",
    "else: \n",
    "    start = datetime.now()\n",
    "    print(\"We are creating sparse_matrix from the dataframe..\")\n",
    "    # create sparse_matrix and store it for after usage.\n",
    "    # csr_matrix(data_values, (row_index, col_index), shape_of_matrix)\n",
    "    # It should be in such a way that, MATRIX[row, col] = data\n",
    "    train_sparse_matrix = sparse.csr_matrix((train_df[\"rating\"].values, (train_df[\"user\"].values,\n",
    "                                               train_df[\"movie\"].values)),)\n",
    "    \n",
    "    print('Done. It\\'s shape is : (user, movie) : ',train_sparse_matrix.shape)\n",
    "    print('Saving it into disk for furthur usage..')\n",
    "    # save it into disk\n",
    "    sparse.save_npz(d+\"processed_data/train_sparse_matrix.npz\", train_sparse_matrix)\n",
    "    print('Done..\\n')\n",
    "    print(\"time taken to convert and save the data in sparse form (csr):\", datetime.now() - start)"
   ]
  },
  {
   "cell_type": "markdown",
   "metadata": {
    "colab_type": "text",
    "id": "pC3exGbRxrne"
   },
   "source": [
    "<p><b>The Sparsity of Train Sparse Matrix</b></p>"
   ]
  },
  {
   "cell_type": "code",
   "execution_count": 0,
   "metadata": {
    "colab": {
     "base_uri": "https://localhost:8080/",
     "height": 34
    },
    "colab_type": "code",
    "id": "oXQkR5Xhxrng",
    "outputId": "775e69d5-c2e8-421b-9bae-cf2994d0ec58"
   },
   "outputs": [
    {
     "name": "stdout",
     "output_type": "stream",
     "text": [
      "Sparsity Of Train matrix : 99.8292709259195 % \n"
     ]
    }
   ],
   "source": [
    "us,mv = train_sparse_matrix.shape\n",
    "elem = train_sparse_matrix.count_nonzero()\n",
    "\n",
    "print(\"Sparsity Of Train matrix : {} % \".format(  (1-(elem/(us*mv))) * 100) )"
   ]
  },
  {
   "cell_type": "markdown",
   "metadata": {
    "colab_type": "text",
    "id": "SYOctHZ2xrnn"
   },
   "source": [
    "#### **3.3.6.2 Creating sparse matrix from test data frame**"
   ]
  },
  {
   "cell_type": "code",
   "execution_count": 0,
   "metadata": {
    "colab": {
     "base_uri": "https://localhost:8080/",
     "height": 68
    },
    "colab_type": "code",
    "id": "WZl8EAedxrnq",
    "outputId": "1756b8bb-d096-4347-acd0-e57c0d67536a"
   },
   "outputs": [
    {
     "name": "stdout",
     "output_type": "stream",
     "text": [
      "It is present in your pwd, getting it from disk....\n",
      "DONE..\n",
      "time taken to load the csr data:  0:00:01.942324\n"
     ]
    }
   ],
   "source": [
    "if os.path.isfile(d+'processed_data/test_sparse_matrix.npz'):\n",
    "    start = datetime.now()\n",
    "    print(\"It is present in your pwd, getting it from disk....\")\n",
    "    # just get it from the disk instead of computing it\n",
    "    test_sparse_matrix = sparse.load_npz(d+'processed_data/test_sparse_matrix.npz')\n",
    "    print(\"DONE..\")\n",
    "    print(\"time taken to load the csr data: \", datetime.now() - start)\n",
    "else: \n",
    "    start = datetime.now()\n",
    "    print(\"We are creating sparse_matrix from the dataframe..\")\n",
    "    # create sparse_matrix and store it for after usage.\n",
    "    # csr_matrix(data_values, (row_index, col_index), shape_of_matrix)\n",
    "    # It should be in such a way that, MATRIX[row, col] = data\n",
    "    test_sparse_matrix = sparse.csr_matrix((test_df[\"rating\"].values, (test_df[\"user\"].values,\n",
    "                                               test_df[\"movie\"].values)))\n",
    "    \n",
    "    print('Done. It\\'s shape is : (user, movie) : ',test_sparse_matrix.shape)\n",
    "    print('Saving it into disk for furthur usage..')\n",
    "    # save it into disk\n",
    "    sparse.save_npz(d+\"processed_data/test_sparse_matrix.npz\", test_sparse_matrix)\n",
    "    print('Done..\\n')\n",
    "    print(\"time taken to convert and save in csr form: \", datetime.now() - start)"
   ]
  },
  {
   "cell_type": "markdown",
   "metadata": {
    "colab_type": "text",
    "id": "p9J75aRtxrnu"
   },
   "source": [
    "<p><b>The Sparsity of Test data Matrix</b></p>"
   ]
  },
  {
   "cell_type": "code",
   "execution_count": 0,
   "metadata": {
    "colab": {
     "base_uri": "https://localhost:8080/",
     "height": 34
    },
    "colab_type": "code",
    "id": "RzgJhjorxrnz",
    "outputId": "2a97feb2-18c6-4c93-dc3d-2ae893d586c5"
   },
   "outputs": [
    {
     "name": "stdout",
     "output_type": "stream",
     "text": [
      "Sparsity Of Test matrix : 99.95731772988694 % \n"
     ]
    }
   ],
   "source": [
    "us,mv = test_sparse_matrix.shape\n",
    "elem = test_sparse_matrix.count_nonzero()\n",
    "\n",
    "print(\"Sparsity Of Test matrix : {} % \".format(  (1-(elem/(us*mv))) * 100) )"
   ]
  },
  {
   "cell_type": "markdown",
   "metadata": {
    "colab_type": "text",
    "id": "uk90Yucuxrn3"
   },
   "source": [
    "### **3.3.7 Finding Global average of all movie ratings, Average rating per user, and Average rating per movie**"
   ]
  },
  {
   "cell_type": "code",
   "execution_count": 0,
   "metadata": {
    "colab": {},
    "colab_type": "code",
    "id": "vJehxyKexrn7"
   },
   "outputs": [],
   "source": [
    "# get the user averages in dictionary (key: user_id/movie_id, value: avg rating)\n",
    "\n",
    "def get_average_ratings(sparse_matrix, of_users):\n",
    "    \n",
    "    # average ratings of user/axes\n",
    "    ax = 1 if of_users else 0 # 1 - User axes,0 - Movie axes\n",
    "\n",
    "    # \".A1\" is for converting Column_Matrix to 1-D numpy array \n",
    "    sum_of_ratings = sparse_matrix.sum(axis=ax).A1\n",
    "    # Boolean matrix of ratings ( whether a user rated that movie or not)\n",
    "    is_rated = sparse_matrix!=0\n",
    "    # no of ratings that each user OR movie..\n",
    "    no_of_ratings = is_rated.sum(axis=ax).A1\n",
    "    \n",
    "    # max_user  and max_movie ids in sparse matrix \n",
    "    u,m = sparse_matrix.shape\n",
    "    # creae a dictonary of users and their average ratigns..\n",
    "    average_ratings = { i : sum_of_ratings[i]/no_of_ratings[i]\n",
    "                                 for i in range(u if of_users else m) \n",
    "                                    if no_of_ratings[i] !=0}\n",
    "\n",
    "    # return that dictionary of average ratings\n",
    "    return average_ratings"
   ]
  },
  {
   "cell_type": "markdown",
   "metadata": {
    "colab_type": "text",
    "id": "BHO3sF5zxrn-"
   },
   "source": [
    "#### **3.3.7.1 finding global average of all movie ratings**"
   ]
  },
  {
   "cell_type": "code",
   "execution_count": 0,
   "metadata": {
    "colab": {
     "base_uri": "https://localhost:8080/",
     "height": 34
    },
    "colab_type": "code",
    "id": "tVpUl-ZfxroB",
    "outputId": "45f4896e-0ef9-4877-f10f-fb95b27e4d1f",
    "scrolled": false
   },
   "outputs": [
    {
     "data": {
      "text/plain": [
       "{'global': 3.582890686321557}"
      ]
     },
     "execution_count": 5,
     "metadata": {
      "tags": []
     },
     "output_type": "execute_result"
    }
   ],
   "source": [
    "train_averages = dict()\n",
    "# get the global average of ratings in our train set.\n",
    "train_global_average = train_sparse_matrix.sum()/train_sparse_matrix.count_nonzero()\n",
    "train_averages['global'] = train_global_average\n",
    "train_averages"
   ]
  },
  {
   "cell_type": "markdown",
   "metadata": {
    "colab_type": "text",
    "id": "NZICFv1fxroF"
   },
   "source": [
    "#### **3.3.7.2 finding average rating per user**"
   ]
  },
  {
   "cell_type": "code",
   "execution_count": 0,
   "metadata": {
    "colab": {
     "base_uri": "https://localhost:8080/",
     "height": 51
    },
    "colab_type": "code",
    "id": "J1fOjIi4xroF",
    "outputId": "0f0109aa-3cb1-4189-8a56-408c00d4d719",
    "scrolled": true
   },
   "outputs": [
    {
     "name": "stdout",
     "output_type": "stream",
     "text": [
      "\n",
      "Average rating of user 10 : 3.3781094527363185\n"
     ]
    }
   ],
   "source": [
    "train_averages['user'] = get_average_ratings(train_sparse_matrix, of_users=True)\n",
    "print('\\nAverage rating of user 10 :',train_averages['user'][10])"
   ]
  },
  {
   "cell_type": "markdown",
   "metadata": {
    "colab_type": "text",
    "id": "6CAv2kHHxroJ"
   },
   "source": [
    "#### **3.3.7.3 finding average rating per movie**"
   ]
  },
  {
   "cell_type": "code",
   "execution_count": 0,
   "metadata": {
    "colab": {
     "base_uri": "https://localhost:8080/",
     "height": 51
    },
    "colab_type": "code",
    "id": "Azt21nAGxroJ",
    "outputId": "b2f3015a-d6f6-4607-e34d-4f883ffd06d7",
    "scrolled": true
   },
   "outputs": [
    {
     "name": "stdout",
     "output_type": "stream",
     "text": [
      "\n",
      " AVerage rating of movie 15 : 3.3038461538461537\n"
     ]
    }
   ],
   "source": [
    "train_averages['movie'] =  get_average_ratings(train_sparse_matrix, of_users=False)\n",
    "print('\\n AVerage rating of movie 15 :',train_averages['movie'][15])"
   ]
  },
  {
   "cell_type": "markdown",
   "metadata": {
    "colab_type": "text",
    "id": "FKLbra7FxroQ"
   },
   "source": [
    "#### **3.3.7.4 PDF's & CDF's of Avg.Ratings of Users & Movies (In Train Data)**"
   ]
  },
  {
   "cell_type": "code",
   "execution_count": 0,
   "metadata": {
    "colab": {
     "base_uri": "https://localhost:8080/",
     "height": 496
    },
    "colab_type": "code",
    "id": "6ZBOnhTVxroR",
    "outputId": "c3551842-cc91-436f-c35b-700291b79ba4",
    "scrolled": false
   },
   "outputs": [
    {
     "data": {
      "image/png": "[encoded data removed]",
      "text/plain": [
       "<Figure size 1368x504 with 2 Axes>"
      ]
     },
     "metadata": {
      "tags": []
     },
     "output_type": "display_data"
    },
    {
     "name": "stdout",
     "output_type": "stream",
     "text": [
      "0:00:34.572714\n"
     ]
    }
   ],
   "source": [
    "start = datetime.now()\n",
    "# draw pdfs for average rating per user and average\n",
    "fig, (ax1, ax2) = plt.subplots(nrows=1, ncols=2, figsize= (19, 7))\n",
    "fig.suptitle('Avg Ratings per User and per Movie', fontsize=18)\n",
    "\n",
    "ax1.set_title('Users-Avg-Ratings', fontsize = 15)\n",
    "# get the list of average user ratings from the averages dictionary..\n",
    "user_averages = [rat for rat in train_averages['user'].values()]\n",
    "sns.distplot(user_averages, hist=False, kde_kws=dict(cumulative=True), label='Cdf', ax = ax1)\n",
    "sns.distplot(user_averages, hist=False,label='Pdf', ax=ax1)\n",
    "ax1.legend(fontsize = 12)\n",
    "ax1.grid(1)\n",
    "\n",
    "ax2.set_title('Movies-Avg-Rating', fontsize = 15)\n",
    "# get the list of movie_average_ratings from the dictionary..\n",
    "movie_averages = [rat for rat in train_averages['movie'].values()]\n",
    "sns.distplot(movie_averages, hist=False, kde_kws=dict(cumulative=True), label='Cdf', ax=ax2)\n",
    "sns.distplot(movie_averages, hist=False, label='Pdf', ax=ax2)\n",
    "ax2.legend(fontsize = 12)\n",
    "ax2.grid(1)\n",
    "\n",
    "plt.show()\n",
    "print(datetime.now() - start)"
   ]
  },
  {
   "cell_type": "markdown",
   "metadata": {
    "colab_type": "text",
    "id": "4GD_Wv3jxroX"
   },
   "source": [
    "### **3.3.8 Cold Start problem**"
   ]
  },
  {
   "cell_type": "markdown",
   "metadata": {
    "colab_type": "text",
    "id": "nZcVtFdFxroY"
   },
   "source": [
    "#### **3.3.8.1 Cold Start problem with Users**"
   ]
  },
  {
   "cell_type": "code",
   "execution_count": 0,
   "metadata": {
    "colab": {
     "base_uri": "https://localhost:8080/",
     "height": 136
    },
    "colab_type": "code",
    "id": "RHuIbxaWxroZ",
    "outputId": "9f1a1d51-15a5-4710-ed0f-55bc35e130d6"
   },
   "outputs": [
    {
     "name": "stdout",
     "output_type": "stream",
     "text": [
      "\n",
      "Total number of Users  : 480189\n",
      "\n",
      "Number of Users in Train data : 405041\n",
      "\n",
      "No of Users that didn't appear in train data: 75148(15.65 %) \n",
      " \n"
     ]
    }
   ],
   "source": [
    "total_users = len(np.unique(df.user))\n",
    "users_train = len(train_averages['user'])\n",
    "new_users = total_users - users_train\n",
    "\n",
    "print('\\nTotal number of Users  :', total_users)\n",
    "print('\\nNumber of Users in Train data :', users_train)\n",
    "print(\"\\nNo of Users that didn't appear in train data: {}({} %) \\n \".format(new_users,\n",
    "                                                                        np.round((new_users/total_users)*100, 2)))"
   ]
  },
  {
   "cell_type": "markdown",
   "metadata": {
    "colab_type": "text",
    "id": "NcSQjhBhxroc"
   },
   "source": [
    "> We might have to handle __new users__ ( ___75148___ ) who didn't appear in train data."
   ]
  },
  {
   "cell_type": "markdown",
   "metadata": {
    "colab_type": "text",
    "id": "CXXLI7nKxrod"
   },
   "source": [
    "#### **3.3.8.2 Cold Start problem with Movies**"
   ]
  },
  {
   "cell_type": "code",
   "execution_count": 0,
   "metadata": {
    "colab": {
     "base_uri": "https://localhost:8080/",
     "height": 136
    },
    "colab_type": "code",
    "id": "lXNwDgeSxroe",
    "outputId": "faa0a854-71d5-4a34-8b33-618c55776e5c"
   },
   "outputs": [
    {
     "name": "stdout",
     "output_type": "stream",
     "text": [
      "\n",
      "Total number of Movies  : 17770\n",
      "\n",
      "Number of Users in Train data : 17424\n",
      "\n",
      "No of Movies that didn't appear in train data: 346(1.95 %) \n",
      " \n"
     ]
    }
   ],
   "source": [
    "total_movies = len(np.unique(df.movie))\n",
    "movies_train = len(train_averages['movie'])\n",
    "new_movies = total_movies - movies_train\n",
    "\n",
    "print('\\nTotal number of Movies  :', total_movies)\n",
    "print('\\nNumber of Users in Train data :', movies_train)\n",
    "print(\"\\nNo of Movies that didn't appear in train data: {}({} %) \\n \".format(new_movies,\n",
    "                                                                        np.round((new_movies/total_movies)*100, 2)))"
   ]
  },
  {
   "cell_type": "markdown",
   "metadata": {
    "colab_type": "text",
    "id": "CegdvJEKxrog"
   },
   "source": [
    "> We might have to handle __346 movies__ (small comparatively) in test data"
   ]
  },
  {
   "cell_type": "markdown",
   "metadata": {
    "colab_type": "text",
    "id": "PmM8S6yaxroi"
   },
   "source": [
    "## **3.4 Computing Similarity matrices**"
   ]
  },
  {
   "cell_type": "markdown",
   "metadata": {
    "colab_type": "text",
    "id": "ipdAdhb3xrok"
   },
   "source": [
    "### **3.4.1 Computing User-User Similarity matrix**"
   ]
  },
  {
   "cell_type": "markdown",
   "metadata": {
    "colab_type": "text",
    "collapsed": true,
    "id": "CzaXbFY2xrol"
   },
   "source": [
    "1. Calculating User User Similarity_Matrix is __not very easy__(_unless you have huge Computing Power and lots of time_) because of number of. usersbeing lare.\n",
    "\n",
    "    * You can try if you want to. Your system could crash or the program stops with **Memory Error**\n"
   ]
  },
  {
   "cell_type": "markdown",
   "metadata": {
    "colab_type": "text",
    "id": "o21mlVQ-xrom"
   },
   "source": [
    "#### **3.4.1.1 Trying with all dimensions (17k dimensions per user)**"
   ]
  },
  {
   "cell_type": "code",
   "execution_count": 0,
   "metadata": {
    "colab": {},
    "colab_type": "code",
    "id": "tzc_pANsxron"
   },
   "outputs": [],
   "source": [
    "from sklearn.metrics.pairwise import cosine_similarity\n",
    "\n",
    "def compute_user_similarity(sparse_matrix, compute_for_few=False, top = 100, verbose=False, verb_for_n_rows = 20,\n",
    "                            draw_time_taken=True):\n",
    "    no_of_users, _ = sparse_matrix.shape\n",
    "    # get the indices of  non zero rows(users) from our sparse matrix\n",
    "    row_ind, col_ind = sparse_matrix.nonzero()\n",
    "    row_ind = sorted(set(row_ind)) # we don't have to\n",
    "    time_taken = list() #  time taken for finding similar users for an user..\n",
    "    \n",
    "    # we create rows, cols, and data lists.., which can be used to create sparse matrices\n",
    "    rows, cols, data = list(), list(), list()\n",
    "    if verbose: print(\"Computing top\",top,\"similarities for each user..\")\n",
    "    \n",
    "    start = datetime.now()\n",
    "    temp = 0\n",
    "    \n",
    "    for row in row_ind[:top] if compute_for_few else row_ind:\n",
    "        temp = temp+1\n",
    "        prev = datetime.now()\n",
    "        \n",
    "        # get the similarity row for this user with all other users\n",
    "        sim = cosine_similarity(sparse_matrix.getrow(row), sparse_matrix).ravel()\n",
    "        # We will get only the top ''top'' most similar users and ignore rest of them..\n",
    "        top_sim_ind = sim.argsort()[::-1][-top:]\n",
    "        top_sim_val = sim[top_sim_ind]\n",
    "        \n",
    "        # add them to our rows, cols and data\n",
    "        rows.extend([row]*top)\n",
    "        cols.extend(top_sim_ind)\n",
    "        data.extend(top_sim_val)\n",
    "        time_taken.append(datetime.now().timestamp() - prev.timestamp())\n",
    "        if verbose:\n",
    "            if temp%verb_for_n_rows == 0:\n",
    "                print(\"computing done for {} users [  time elapsed : {}  ]\"\n",
    "                      .format(temp, datetime.now()-start))\n",
    "            \n",
    "        \n",
    "    # lets create sparse matrix out of these and return it\n",
    "    if verbose: print('Creating Sparse matrix from the computed similarities')\n",
    "    #return rows, cols, data\n",
    "    \n",
    "    if draw_time_taken:\n",
    "        print(\"\\n \\n\")\n",
    "        plt.figure(figsize = (10, 7))\n",
    "        plt.plot(time_taken, label = 'time taken for each user')\n",
    "        plt.plot(np.cumsum(time_taken), label='Total time')\n",
    "        plt.legend(loc='best')\n",
    "        plt.xlabel('User')\n",
    "        plt.ylabel('Time (seconds)')\n",
    "        plt.show()\n",
    "        \n",
    "    return sparse.csr_matrix((data, (rows, cols)), shape=(no_of_users, no_of_users)), time_taken      "
   ]
  },
  {
   "cell_type": "code",
   "execution_count": 0,
   "metadata": {
    "colab": {
     "base_uri": "https://localhost:8080/",
     "height": 646
    },
    "colab_type": "code",
    "id": "CZgRmOS_xrop",
    "outputId": "aadcf663-b599-40fa-c1f0-47dc01784df0",
    "scrolled": false
   },
   "outputs": [
    {
     "name": "stdout",
     "output_type": "stream",
     "text": [
      "Computing top 100 similarities for each user..\n",
      "computing done for 20 users [  time elapsed : 0:02:39.957490  ]\n",
      "computing done for 40 users [  time elapsed : 0:05:16.519745  ]\n",
      "computing done for 60 users [  time elapsed : 0:07:48.561729  ]\n",
      "computing done for 80 users [  time elapsed : 0:10:10.385842  ]\n",
      "computing done for 100 users [  time elapsed : 0:12:31.769313  ]\n",
      "Creating Sparse matrix from the computed similarities\n",
      "\n",
      " \n",
      "\n"
     ]
    },
    {
     "data": {
      "image/png": "[encoded data removed]",
      "text/plain": [
       "<Figure size 720x504 with 1 Axes>"
      ]
     },
     "metadata": {
      "tags": []
     },
     "output_type": "display_data"
    },
    {
     "name": "stdout",
     "output_type": "stream",
     "text": [
      "----------------------------------------------------------------------------------------------------\n",
      "Time taken : 0:12:43.099760\n"
     ]
    }
   ],
   "source": [
    "start = datetime.now()\n",
    "u_u_sim_sparse, _ = compute_user_similarity(train_sparse_matrix, compute_for_few=True, top = 100,\n",
    "                                                     verbose=True)\n",
    "print(\"-\"*100)\n",
    "print(\"Time taken :\",datetime.now()-start)"
   ]
  },
  {
   "cell_type": "markdown",
   "metadata": {
    "colab_type": "text",
    "id": "BqzQHJkqxros"
   },
   "source": [
    "#### **3.4.1.2 Trying with reduced dimensions (Using TruncatedSVD for dimensionality reduction of user vector)**"
   ]
  },
  {
   "cell_type": "markdown",
   "metadata": {
    "colab_type": "text",
    "id": "slAk4ivQxrou"
   },
   "source": [
    "* We have  **405,041 users** in out training set and computing similarities between them..( **17K dimensional vector..**) is time consuming..\n",
    "\n",
    "\n",
    "- From above plot, It took roughly __8.88 sec__ for computing simlilar users for __one user__\n",
    "    \n",
    "    \n",
    "- We have __405,041 users__ with us in training set.\n",
    "\n",
    "\n",
    "- ${ 405041 \\times 8.88 = 3596764.08  \\sec } =  59946.068 \\min = 999.101133333 \\text{ hours}\n",
    "= 41.629213889 \\text{ days}...$\n",
    "\n",
    "    - Even if we run on 4 cores parallelly (a typical system now a days), It will still take almost __10 and 1/2__ days.\n",
    "    \n",
    " IDEA:  Instead, we will try to reduce the dimentsions using SVD, so that __it might__ speed up the process..."
   ]
  },
  {
   "cell_type": "code",
   "execution_count": 0,
   "metadata": {
    "colab": {},
    "colab_type": "code",
    "id": "4Vf4cD_Exrov"
   },
   "outputs": [],
   "source": [
    "from datetime import datetime\n",
    "from sklearn.decomposition import TruncatedSVD\n",
    "\n",
    "start = datetime.now()\n",
    "\n",
    "# initilaize the algorithm with some parameters..\n",
    "# All of them are default except n_components. n_itr is for Randomized SVD solver.\n",
    "netflix_svd = TruncatedSVD(n_components=500, algorithm='randomized', random_state=15)\n",
    "trunc_svd = netflix_svd.fit_transform(train_sparse_matrix)\n",
    "\n",
    "print(datetime.now()-start)"
   ]
  },
  {
   "cell_type": "markdown",
   "metadata": {
    "colab_type": "text",
    "id": "JVvrBnpmxroy"
   },
   "source": [
    "Here,\n",
    "\n",
    "\n",
    "- $\\sum \\longleftarrow$ (netflix\\_svd.**singular\\_values\\_** )\n",
    "\n",
    "\n",
    "- $\\bigvee^T \\longleftarrow$ (netflix\\_svd.**components_**)\n",
    "\n",
    "\n",
    "- $\\bigcup$ is not returned. instead **Projection_of_X** onto the new vectorspace is returned. \n",
    "\n",
    "\n",
    "- It uses **randomized svd** internally, which returns **All 3 of them saperately**. Use that instead.. "
   ]
  },
  {
   "cell_type": "code",
   "execution_count": 0,
   "metadata": {
    "colab": {},
    "colab_type": "code",
    "id": "-cJHgpAtxroy"
   },
   "outputs": [],
   "source": [
    "expl_var = np.cumsum(netflix_svd.explained_variance_ratio_)"
   ]
  },
  {
   "cell_type": "code",
   "execution_count": 0,
   "metadata": {
    "colab": {},
    "colab_type": "code",
    "id": "0YptAx89xro4",
    "outputId": "237de9aa-848a-47b8-ffcf-e7ebacce3905",
    "scrolled": false
   },
   "outputs": [
    {
     "data": {
      "application/javascript": [
       "/* Put everything inside the global mpl namespace */\n",
       "window.mpl = {};\n",
       "\n",
       "\n",
       "mpl.get_websocket_type = function() {\n",
       "    if (typeof(WebSocket) !== 'undefined') {\n",
       "        return WebSocket;\n",
       "    } else if (typeof(MozWebSocket) !== 'undefined') {\n",
       "        return MozWebSocket;\n",
       "    } else {\n",
       "        alert('Your browser does not have WebSocket support.' +\n",
       "              'Please try Chrome, Safari or Firefox ≥ 6. ' +\n",
       "              'Firefox 4 and 5 are also supported but you ' +\n",
       "              'have to enable WebSockets in about:config.');\n",
       "    };\n",
       "}\n",
       "\n",
       "mpl.figure = function(figure_id, websocket, ondownload, parent_element) {\n",
       "    this.id = figure_id;\n",
       "\n",
       "    this.ws = websocket;\n",
       "\n",
       "    this.supports_binary = (this.ws.binaryType != undefined);\n",
       "\n",
       "    if (!this.supports_binary) {\n",
       "        var warnings = document.getElementById(\"mpl-warnings\");\n",
       "        if (warnings) {\n",
       "            warnings.style.display = 'block';\n",
       "            warnings.textContent = (\n",
       "                \"This browser does not support binary websocket messages. \" +\n",
       "                    \"Performance may be slow.\");\n",
       "        }\n",
       "    }\n",
       "\n",
       "    this.imageObj = new Image();\n",
       "\n",
       "    this.context = undefined;\n",
       "    this.message = undefined;\n",
       "    this.canvas = undefined;\n",
       "    this.rubberband_canvas = undefined;\n",
       "    this.rubberband_context = undefined;\n",
       "    this.format_dropdown = undefined;\n",
       "\n",
       "    this.image_mode = 'full';\n",
       "\n",
       "    this.root = $('<div/>');\n",
       "    this._root_extra_style(this.root)\n",
       "    this.root.attr('style', 'display: inline-block');\n",
       "\n",
       "    $(parent_element).append(this.root);\n",
       "\n",
       "    this._init_header(this);\n",
       "    this._init_canvas(this);\n",
       "    this._init_toolbar(this);\n",
       "\n",
       "    var fig = this;\n",
       "\n",
       "    this.waiting = false;\n",
       "\n",
       "    this.ws.onopen =  function () {\n",
       "            fig.send_message(\"supports_binary\", {value: fig.supports_binary});\n",
       "            fig.send_message(\"send_image_mode\", {});\n",
       "            if (mpl.ratio != 1) {\n",
       "                fig.send_message(\"set_dpi_ratio\", {'dpi_ratio': mpl.ratio});\n",
       "            }\n",
       "            fig.send_message(\"refresh\", {});\n",
       "        }\n",
       "\n",
       "    this.imageObj.onload = function() {\n",
       "            if (fig.image_mode == 'full') {\n",
       "                // Full images could contain transparency (where diff images\n",
       "                // almost always do), so we need to clear the canvas so that\n",
       "                // there is no ghosting.\n",
       "                fig.context.clearRect(0, 0, fig.canvas.width, fig.canvas.height);\n",
       "            }\n",
       "            fig.context.drawImage(fig.imageObj, 0, 0);\n",
       "        };\n",
       "\n",
       "    this.imageObj.onunload = function() {\n",
       "        fig.ws.close();\n",
       "    }\n",
       "\n",
       "    this.ws.onmessage = this._make_on_message_function(this);\n",
       "\n",
       "    this.ondownload = ondownload;\n",
       "}\n",
       "\n",
       "mpl.figure.prototype._init_header = function() {\n",
       "    var titlebar = $(\n",
       "        '<div class=\"ui-dialog-titlebar ui-widget-header ui-corner-all ' +\n",
       "        'ui-helper-clearfix\"/>');\n",
       "    var titletext = $(\n",
       "        '<div class=\"ui-dialog-title\" style=\"width: 100%; ' +\n",
       "        'text-align: center; padding: 3px;\"/>');\n",
       "    titlebar.append(titletext)\n",
       "    this.root.append(titlebar);\n",
       "    this.header = titletext[0];\n",
       "}\n",
       "\n",
       "\n",
       "\n",
       "mpl.figure.prototype._canvas_extra_style = function(canvas_div) {\n",
       "\n",
       "}\n",
       "\n",
       "\n",
       "mpl.figure.prototype._root_extra_style = function(canvas_div) {\n",
       "\n",
       "}\n",
       "\n",
       "mpl.figure.prototype._init_canvas = function() {\n",
       "    var fig = this;\n",
       "\n",
       "    var canvas_div = $('<div/>');\n",
       "\n",
       "    canvas_div.attr('style', 'position: relative; clear: both; outline: 0');\n",
       "\n",
       "    function canvas_keyboard_event(event) {\n",
       "        return fig.key_event(event, event['data']);\n",
       "    }\n",
       "\n",
       "    canvas_div.keydown('key_press', canvas_keyboard_event);\n",
       "    canvas_div.keyup('key_release', canvas_keyboard_event);\n",
       "    this.canvas_div = canvas_div\n",
       "    this._canvas_extra_style(canvas_div)\n",
       "    this.root.append(canvas_div);\n",
       "\n",
       "    var canvas = $('<canvas/>');\n",
       "    canvas.addClass('mpl-canvas');\n",
       "    canvas.attr('style', \"left: 0; top: 0; z-index: 0; outline: 0\")\n",
       "\n",
       "    this.canvas = canvas[0];\n",
       "    this.context = canvas[0].getContext(\"2d\");\n",
       "\n",
       "    var backingStore = this.context.backingStorePixelRatio ||\n",
       "\tthis.context.webkitBackingStorePixelRatio ||\n",
       "\tthis.context.mozBackingStorePixelRatio ||\n",
       "\tthis.context.msBackingStorePixelRatio ||\n",
       "\tthis.context.oBackingStorePixelRatio ||\n",
       "\tthis.context.backingStorePixelRatio || 1;\n",
       "\n",
       "    mpl.ratio = (window.devicePixelRatio || 1) / backingStore;\n",
       "\n",
       "    var rubberband = $('<canvas/>');\n",
       "    rubberband.attr('style', \"position: absolute; left: 0; top: 0; z-index: 1;\")\n",
       "\n",
       "    var pass_mouse_events = true;\n",
       "\n",
       "    canvas_div.resizable({\n",
       "        start: function(event, ui) {\n",
       "            pass_mouse_events = false;\n",
       "        },\n",
       "        resize: function(event, ui) {\n",
       "            fig.request_resize(ui.size.width, ui.size.height);\n",
       "        },\n",
       "        stop: function(event, ui) {\n",
       "            pass_mouse_events = true;\n",
       "            fig.request_resize(ui.size.width, ui.size.height);\n",
       "        },\n",
       "    });\n",
       "\n",
       "    function mouse_event_fn(event) {\n",
       "        if (pass_mouse_events)\n",
       "            return fig.mouse_event(event, event['data']);\n",
       "    }\n",
       "\n",
       "    rubberband.mousedown('button_press', mouse_event_fn);\n",
       "    rubberband.mouseup('button_release', mouse_event_fn);\n",
       "    // Throttle sequential mouse events to 1 every 20ms.\n",
       "    rubberband.mousemove('motion_notify', mouse_event_fn);\n",
       "\n",
       "    rubberband.mouseenter('figure_enter', mouse_event_fn);\n",
       "    rubberband.mouseleave('figure_leave', mouse_event_fn);\n",
       "\n",
       "    canvas_div.on(\"wheel\", function (event) {\n",
       "        event = event.originalEvent;\n",
       "        event['data'] = 'scroll'\n",
       "        if (event.deltaY < 0) {\n",
       "            event.step = 1;\n",
       "        } else {\n",
       "            event.step = -1;\n",
       "        }\n",
       "        mouse_event_fn(event);\n",
       "    });\n",
       "\n",
       "    canvas_div.append(canvas);\n",
       "    canvas_div.append(rubberband);\n",
       "\n",
       "    this.rubberband = rubberband;\n",
       "    this.rubberband_canvas = rubberband[0];\n",
       "    this.rubberband_context = rubberband[0].getContext(\"2d\");\n",
       "    this.rubberband_context.strokeStyle = \"#000000\";\n",
       "\n",
       "    this._resize_canvas = function(width, height) {\n",
       "        // Keep the size of the canvas, canvas container, and rubber band\n",
       "        // canvas in synch.\n",
       "        canvas_div.css('width', width)\n",
       "        canvas_div.css('height', height)\n",
       "\n",
       "        canvas.attr('width', width * mpl.ratio);\n",
       "        canvas.attr('height', height * mpl.ratio);\n",
       "        canvas.attr('style', 'width: ' + width + 'px; height: ' + height + 'px;');\n",
       "\n",
       "        rubberband.attr('width', width);\n",
       "        rubberband.attr('height', height);\n",
       "    }\n",
       "\n",
       "    // Set the figure to an initial 600x600px, this will subsequently be updated\n",
       "    // upon first draw.\n",
       "    this._resize_canvas(600, 600);\n",
       "\n",
       "    // Disable right mouse context menu.\n",
       "    $(this.rubberband_canvas).bind(\"contextmenu\",function(e){\n",
       "        return false;\n",
       "    });\n",
       "\n",
       "    function set_focus () {\n",
       "        canvas.focus();\n",
       "        canvas_div.focus();\n",
       "    }\n",
       "\n",
       "    window.setTimeout(set_focus, 100);\n",
       "}\n",
       "\n",
       "mpl.figure.prototype._init_toolbar = function() {\n",
       "    var fig = this;\n",
       "\n",
       "    var nav_element = $('<div/>')\n",
       "    nav_element.attr('style', 'width: 100%');\n",
       "    this.root.append(nav_element);\n",
       "\n",
       "    // Define a callback function for later on.\n",
       "    function toolbar_event(event) {\n",
       "        return fig.toolbar_button_onclick(event['data']);\n",
       "    }\n",
       "    function toolbar_mouse_event(event) {\n",
       "        return fig.toolbar_button_onmouseover(event['data']);\n",
       "    }\n",
       "\n",
       "    for(var toolbar_ind in mpl.toolbar_items) {\n",
       "        var name = mpl.toolbar_items[toolbar_ind][0];\n",
       "        var tooltip = mpl.toolbar_items[toolbar_ind][1];\n",
       "        var image = mpl.toolbar_items[toolbar_ind][2];\n",
       "        var method_name = mpl.toolbar_items[toolbar_ind][3];\n",
       "\n",
       "        if (!name) {\n",
       "            // put a spacer in here.\n",
       "            continue;\n",
       "        }\n",
       "        var button = $('<button/>');\n",
       "        button.addClass('ui-button ui-widget ui-state-default ui-corner-all ' +\n",
       "                        'ui-button-icon-only');\n",
       "        button.attr('role', 'button');\n",
       "        button.attr('aria-disabled', 'false');\n",
       "        button.click(method_name, toolbar_event);\n",
       "        button.mouseover(tooltip, toolbar_mouse_event);\n",
       "\n",
       "        var icon_img = $('<span/>');\n",
       "        icon_img.addClass('ui-button-icon-primary ui-icon');\n",
       "        icon_img.addClass(image);\n",
       "        icon_img.addClass('ui-corner-all');\n",
       "\n",
       "        var tooltip_span = $('<span/>');\n",
       "        tooltip_span.addClass('ui-button-text');\n",
       "        tooltip_span.html(tooltip);\n",
       "\n",
       "        button.append(icon_img);\n",
       "        button.append(tooltip_span);\n",
       "\n",
       "        nav_element.append(button);\n",
       "    }\n",
       "\n",
       "    var fmt_picker_span = $('<span/>');\n",
       "\n",
       "    var fmt_picker = $('<select/>');\n",
       "    fmt_picker.addClass('mpl-toolbar-option ui-widget ui-widget-content');\n",
       "    fmt_picker_span.append(fmt_picker);\n",
       "    nav_element.append(fmt_picker_span);\n",
       "    this.format_dropdown = fmt_picker[0];\n",
       "\n",
       "    for (var ind in mpl.extensions) {\n",
       "        var fmt = mpl.extensions[ind];\n",
       "        var option = $(\n",
       "            '<option/>', {selected: fmt === mpl.default_extension}).html(fmt);\n",
       "        fmt_picker.append(option)\n",
       "    }\n",
       "\n",
       "    // Add hover states to the ui-buttons\n",
       "    $( \".ui-button\" ).hover(\n",
       "        function() { $(this).addClass(\"ui-state-hover\");},\n",
       "        function() { $(this).removeClass(\"ui-state-hover\");}\n",
       "    );\n",
       "\n",
       "    var status_bar = $('<span class=\"mpl-message\"/>');\n",
       "    nav_element.append(status_bar);\n",
       "    this.message = status_bar[0];\n",
       "}\n",
       "\n",
       "mpl.figure.prototype.request_resize = function(x_pixels, y_pixels) {\n",
       "    // Request matplotlib to resize the figure. Matplotlib will then trigger a resize in the client,\n",
       "    // which will in turn request a refresh of the image.\n",
       "    this.send_message('resize', {'width': x_pixels, 'height': y_pixels});\n",
       "}\n",
       "\n",
       "mpl.figure.prototype.send_message = function(type, properties) {\n",
       "    properties['type'] = type;\n",
       "    properties['figure_id'] = this.id;\n",
       "    this.ws.send(JSON.stringify(properties));\n",
       "}\n",
       "\n",
       "mpl.figure.prototype.send_draw_message = function() {\n",
       "    if (!this.waiting) {\n",
       "        this.waiting = true;\n",
       "        this.ws.send(JSON.stringify({type: \"draw\", figure_id: this.id}));\n",
       "    }\n",
       "}\n",
       "\n",
       "\n",
       "mpl.figure.prototype.handle_save = function(fig, msg) {\n",
       "    var format_dropdown = fig.format_dropdown;\n",
       "    var format = format_dropdown.options[format_dropdown.selectedIndex].value;\n",
       "    fig.ondownload(fig, format);\n",
       "}\n",
       "\n",
       "\n",
       "mpl.figure.prototype.handle_resize = function(fig, msg) {\n",
       "    var size = msg['size'];\n",
       "    if (size[0] != fig.canvas.width || size[1] != fig.canvas.height) {\n",
       "        fig._resize_canvas(size[0], size[1]);\n",
       "        fig.send_message(\"refresh\", {});\n",
       "    };\n",
       "}\n",
       "\n",
       "mpl.figure.prototype.handle_rubberband = function(fig, msg) {\n",
       "    var x0 = msg['x0'] / mpl.ratio;\n",
       "    var y0 = (fig.canvas.height - msg['y0']) / mpl.ratio;\n",
       "    var x1 = msg['x1'] / mpl.ratio;\n",
       "    var y1 = (fig.canvas.height - msg['y1']) / mpl.ratio;\n",
       "    x0 = Math.floor(x0) + 0.5;\n",
       "    y0 = Math.floor(y0) + 0.5;\n",
       "    x1 = Math.floor(x1) + 0.5;\n",
       "    y1 = Math.floor(y1) + 0.5;\n",
       "    var min_x = Math.min(x0, x1);\n",
       "    var min_y = Math.min(y0, y1);\n",
       "    var width = Math.abs(x1 - x0);\n",
       "    var height = Math.abs(y1 - y0);\n",
       "\n",
       "    fig.rubberband_context.clearRect(\n",
       "        0, 0, fig.canvas.width, fig.canvas.height);\n",
       "\n",
       "    fig.rubberband_context.strokeRect(min_x, min_y, width, height);\n",
       "}\n",
       "\n",
       "mpl.figure.prototype.handle_figure_label = function(fig, msg) {\n",
       "    // Updates the figure title.\n",
       "    fig.header.textContent = msg['label'];\n",
       "}\n",
       "\n",
       "mpl.figure.prototype.handle_cursor = function(fig, msg) {\n",
       "    var cursor = msg['cursor'];\n",
       "    switch(cursor)\n",
       "    {\n",
       "    case 0:\n",
       "        cursor = 'pointer';\n",
       "        break;\n",
       "    case 1:\n",
       "        cursor = 'default';\n",
       "        break;\n",
       "    case 2:\n",
       "        cursor = 'crosshair';\n",
       "        break;\n",
       "    case 3:\n",
       "        cursor = 'move';\n",
       "        break;\n",
       "    }\n",
       "    fig.rubberband_canvas.style.cursor = cursor;\n",
       "}\n",
       "\n",
       "mpl.figure.prototype.handle_message = function(fig, msg) {\n",
       "    fig.message.textContent = msg['message'];\n",
       "}\n",
       "\n",
       "mpl.figure.prototype.handle_draw = function(fig, msg) {\n",
       "    // Request the server to send over a new figure.\n",
       "    fig.send_draw_message();\n",
       "}\n",
       "\n",
       "mpl.figure.prototype.handle_image_mode = function(fig, msg) {\n",
       "    fig.image_mode = msg['mode'];\n",
       "}\n",
       "\n",
       "mpl.figure.prototype.updated_canvas_event = function() {\n",
       "    // Called whenever the canvas gets updated.\n",
       "    this.send_message(\"ack\", {});\n",
       "}\n",
       "\n",
       "// A function to construct a web socket function for onmessage handling.\n",
       "// Called in the figure constructor.\n",
       "mpl.figure.prototype._make_on_message_function = function(fig) {\n",
       "    return function socket_on_message(evt) {\n",
       "        if (evt.data instanceof Blob) {\n",
       "            /* FIXME: We get \"Resource interpreted as Image but\n",
       "             * transferred with MIME type text/plain:\" errors on\n",
       "             * Chrome.  But how to set the MIME type?  It doesn't seem\n",
       "             * to be part of the websocket stream */\n",
       "            evt.data.type = \"image/png\";\n",
       "\n",
       "            /* Free the memory for the previous frames */\n",
       "            if (fig.imageObj.src) {\n",
       "                (window.URL || window.webkitURL).revokeObjectURL(\n",
       "                    fig.imageObj.src);\n",
       "            }\n",
       "\n",
       "            fig.imageObj.src = (window.URL || window.webkitURL).createObjectURL(\n",
       "                evt.data);\n",
       "            fig.updated_canvas_event();\n",
       "            fig.waiting = false;\n",
       "            return;\n",
       "        }\n",
       "        else if (typeof evt.data === 'string' && evt.data.slice(0, 21) == \"data:image/png;base64\") {\n",
       "            fig.imageObj.src = evt.data;\n",
       "            fig.updated_canvas_event();\n",
       "            fig.waiting = false;\n",
       "            return;\n",
       "        }\n",
       "\n",
       "        var msg = JSON.parse(evt.data);\n",
       "        var msg_type = msg['type'];\n",
       "\n",
       "        // Call the  \"handle_{type}\" callback, which takes\n",
       "        // the figure and JSON message as its only arguments.\n",
       "        try {\n",
       "            var callback = fig[\"handle_\" + msg_type];\n",
       "        } catch (e) {\n",
       "            console.log(\"No handler for the '\" + msg_type + \"' message type: \", msg);\n",
       "            return;\n",
       "        }\n",
       "\n",
       "        if (callback) {\n",
       "            try {\n",
       "                // console.log(\"Handling '\" + msg_type + \"' message: \", msg);\n",
       "                callback(fig, msg);\n",
       "            } catch (e) {\n",
       "                console.log(\"Exception inside the 'handler_\" + msg_type + \"' callback:\", e, e.stack, msg);\n",
       "            }\n",
       "        }\n",
       "    };\n",
       "}\n",
       "\n",
       "// from http://stackoverflow.com/questions/1114465/getting-mouse-location-in-canvas\n",
       "mpl.findpos = function(e) {\n",
       "    //this section is from http://www.quirksmode.org/js/events_properties.html\n",
       "    var targ;\n",
       "    if (!e)\n",
       "        e = window.event;\n",
       "    if (e.target)\n",
       "        targ = e.target;\n",
       "    else if (e.srcElement)\n",
       "        targ = e.srcElement;\n",
       "    if (targ.nodeType == 3) // defeat Safari bug\n",
       "        targ = targ.parentNode;\n",
       "\n",
       "    // jQuery normalizes the pageX and pageY\n",
       "    // pageX,Y are the mouse positions relative to the document\n",
       "    // offset() returns the position of the element relative to the document\n",
       "    var x = e.pageX - $(targ).offset().left;\n",
       "    var y = e.pageY - $(targ).offset().top;\n",
       "\n",
       "    return {\"x\": x, \"y\": y};\n",
       "};\n",
       "\n",
       "/*\n",
       " * return a copy of an object with only non-object keys\n",
       " * we need this to avoid circular references\n",
       " * http://stackoverflow.com/a/24161582/3208463\n",
       " */\n",
       "function simpleKeys (original) {\n",
       "  return Object.keys(original).reduce(function (obj, key) {\n",
       "    if (typeof original[key] !== 'object')\n",
       "        obj[key] = original[key]\n",
       "    return obj;\n",
       "  }, {});\n",
       "}\n",
       "\n",
       "mpl.figure.prototype.mouse_event = function(event, name) {\n",
       "    var canvas_pos = mpl.findpos(event)\n",
       "\n",
       "    if (name === 'button_press')\n",
       "    {\n",
       "        this.canvas.focus();\n",
       "        this.canvas_div.focus();\n",
       "    }\n",
       "\n",
       "    var x = canvas_pos.x * mpl.ratio;\n",
       "    var y = canvas_pos.y * mpl.ratio;\n",
       "\n",
       "    this.send_message(name, {x: x, y: y, button: event.button,\n",
       "                             step: event.step,\n",
       "                             guiEvent: simpleKeys(event)});\n",
       "\n",
       "    /* This prevents the web browser from automatically changing to\n",
       "     * the text insertion cursor when the button is pressed.  We want\n",
       "     * to control all of the cursor setting manually through the\n",
       "     * 'cursor' event from matplotlib */\n",
       "    event.preventDefault();\n",
       "    return false;\n",
       "}\n",
       "\n",
       "mpl.figure.prototype._key_event_extra = function(event, name) {\n",
       "    // Handle any extra behaviour associated with a key event\n",
       "}\n",
       "\n",
       "mpl.figure.prototype.key_event = function(event, name) {\n",
       "\n",
       "    // Prevent repeat events\n",
       "    if (name == 'key_press')\n",
       "    {\n",
       "        if (event.which === this._key)\n",
       "            return;\n",
       "        else\n",
       "            this._key = event.which;\n",
       "    }\n",
       "    if (name == 'key_release')\n",
       "        this._key = null;\n",
       "\n",
       "    var value = '';\n",
       "    if (event.ctrlKey && event.which != 17)\n",
       "        value += \"ctrl+\";\n",
       "    if (event.altKey && event.which != 18)\n",
       "        value += \"alt+\";\n",
       "    if (event.shiftKey && event.which != 16)\n",
       "        value += \"shift+\";\n",
       "\n",
       "    value += 'k';\n",
       "    value += event.which.toString();\n",
       "\n",
       "    this._key_event_extra(event, name);\n",
       "\n",
       "    this.send_message(name, {key: value,\n",
       "                             guiEvent: simpleKeys(event)});\n",
       "    return false;\n",
       "}\n",
       "\n",
       "mpl.figure.prototype.toolbar_button_onclick = function(name) {\n",
       "    if (name == 'download') {\n",
       "        this.handle_save(this, null);\n",
       "    } else {\n",
       "        this.send_message(\"toolbar_button\", {name: name});\n",
       "    }\n",
       "};\n",
       "\n",
       "mpl.figure.prototype.toolbar_button_onmouseover = function(tooltip) {\n",
       "    this.message.textContent = tooltip;\n",
       "};\n",
       "mpl.toolbar_items = [[\"Home\", \"Reset original view\", \"fa fa-home icon-home\", \"home\"], [\"Back\", \"Back to  previous view\", \"fa fa-arrow-left icon-arrow-left\", \"back\"], [\"Forward\", \"Forward to next view\", \"fa fa-arrow-right icon-arrow-right\", \"forward\"], [\"\", \"\", \"\", \"\"], [\"Pan\", \"Pan axes with left mouse, zoom with right\", \"fa fa-arrows icon-move\", \"pan\"], [\"Zoom\", \"Zoom to rectangle\", \"fa fa-square-o icon-check-empty\", \"zoom\"], [\"\", \"\", \"\", \"\"], [\"Download\", \"Download plot\", \"fa fa-floppy-o icon-save\", \"download\"]];\n",
       "\n",
       "mpl.extensions = [\"eps\", \"jpeg\", \"pdf\", \"png\", \"ps\", \"raw\", \"svg\", \"tif\"];\n",
       "\n",
       "mpl.default_extension = \"png\";var comm_websocket_adapter = function(comm) {\n",
       "    // Create a \"websocket\"-like object which calls the given IPython comm\n",
       "    // object with the appropriate methods. Currently this is a non binary\n",
       "    // socket, so there is still some room for performance tuning.\n",
       "    var ws = {};\n",
       "\n",
       "    ws.close = function() {\n",
       "        comm.close()\n",
       "    };\n",
       "    ws.send = function(m) {\n",
       "        //console.log('sending', m);\n",
       "        comm.send(m);\n",
       "    };\n",
       "    // Register the callback with on_msg.\n",
       "    comm.on_msg(function(msg) {\n",
       "        //console.log('receiving', msg['content']['data'], msg);\n",
       "        // Pass the mpl event to the overriden (by mpl) onmessage function.\n",
       "        ws.onmessage(msg['content']['data'])\n",
       "    });\n",
       "    return ws;\n",
       "}\n",
       "\n",
       "mpl.mpl_figure_comm = function(comm, msg) {\n",
       "    // This is the function which gets called when the mpl process\n",
       "    // starts-up an IPython Comm through the \"matplotlib\" channel.\n",
       "\n",
       "    var id = msg.content.data.id;\n",
       "    // Get hold of the div created by the display call when the Comm\n",
       "    // socket was opened in Python.\n",
       "    var element = $(\"#\" + id);\n",
       "    var ws_proxy = comm_websocket_adapter(comm)\n",
       "\n",
       "    function ondownload(figure, format) {\n",
       "        window.open(figure.imageObj.src);\n",
       "    }\n",
       "\n",
       "    var fig = new mpl.figure(id, ws_proxy,\n",
       "                           ondownload,\n",
       "                           element.get(0));\n",
       "\n",
       "    // Call onopen now - mpl needs it, as it is assuming we've passed it a real\n",
       "    // web socket which is closed, not our websocket->open comm proxy.\n",
       "    ws_proxy.onopen();\n",
       "\n",
       "    fig.parent_element = element.get(0);\n",
       "    fig.cell_info = mpl.find_output_cell(\"<div id='\" + id + \"'></div>\");\n",
       "    if (!fig.cell_info) {\n",
       "        console.error(\"Failed to find cell for figure\", id, fig);\n",
       "        return;\n",
       "    }\n",
       "\n",
       "    var output_index = fig.cell_info[2]\n",
       "    var cell = fig.cell_info[0];\n",
       "\n",
       "};\n",
       "\n",
       "mpl.figure.prototype.handle_close = function(fig, msg) {\n",
       "    var width = fig.canvas.width/mpl.ratio\n",
       "    fig.root.unbind('remove')\n",
       "\n",
       "    // Update the output cell to use the data from the current canvas.\n",
       "    fig.push_to_output();\n",
       "    var dataURL = fig.canvas.toDataURL();\n",
       "    // Re-enable the keyboard manager in IPython - without this line, in FF,\n",
       "    // the notebook keyboard shortcuts fail.\n",
       "    IPython.keyboard_manager.enable()\n",
       "    $(fig.parent_element).html('<img src=\"' + dataURL + '\" width=\"' + width + '\">');\n",
       "    fig.close_ws(fig, msg);\n",
       "}\n",
       "\n",
       "mpl.figure.prototype.close_ws = function(fig, msg){\n",
       "    fig.send_message('closing', msg);\n",
       "    // fig.ws.close()\n",
       "}\n",
       "\n",
       "mpl.figure.prototype.push_to_output = function(remove_interactive) {\n",
       "    // Turn the data on the canvas into data in the output cell.\n",
       "    var width = this.canvas.width/mpl.ratio\n",
       "    var dataURL = this.canvas.toDataURL();\n",
       "    this.cell_info[1]['text/html'] = '<img src=\"' + dataURL + '\" width=\"' + width + '\">';\n",
       "}\n",
       "\n",
       "mpl.figure.prototype.updated_canvas_event = function() {\n",
       "    // Tell IPython that the notebook contents must change.\n",
       "    IPython.notebook.set_dirty(true);\n",
       "    this.send_message(\"ack\", {});\n",
       "    var fig = this;\n",
       "    // Wait a second, then push the new image to the DOM so\n",
       "    // that it is saved nicely (might be nice to debounce this).\n",
       "    setTimeout(function () { fig.push_to_output() }, 1000);\n",
       "}\n",
       "\n",
       "mpl.figure.prototype._init_toolbar = function() {\n",
       "    var fig = this;\n",
       "\n",
       "    var nav_element = $('<div/>')\n",
       "    nav_element.attr('style', 'width: 100%');\n",
       "    this.root.append(nav_element);\n",
       "\n",
       "    // Define a callback function for later on.\n",
       "    function toolbar_event(event) {\n",
       "        return fig.toolbar_button_onclick(event['data']);\n",
       "    }\n",
       "    function toolbar_mouse_event(event) {\n",
       "        return fig.toolbar_button_onmouseover(event['data']);\n",
       "    }\n",
       "\n",
       "    for(var toolbar_ind in mpl.toolbar_items){\n",
       "        var name = mpl.toolbar_items[toolbar_ind][0];\n",
       "        var tooltip = mpl.toolbar_items[toolbar_ind][1];\n",
       "        var image = mpl.toolbar_items[toolbar_ind][2];\n",
       "        var method_name = mpl.toolbar_items[toolbar_ind][3];\n",
       "\n",
       "        if (!name) { continue; };\n",
       "\n",
       "        var button = $('<button class=\"btn btn-default\" href=\"#\" title=\"' + name + '\"><i class=\"fa ' + image + ' fa-lg\"></i></button>');\n",
       "        button.click(method_name, toolbar_event);\n",
       "        button.mouseover(tooltip, toolbar_mouse_event);\n",
       "        nav_element.append(button);\n",
       "    }\n",
       "\n",
       "    // Add the status bar.\n",
       "    var status_bar = $('<span class=\"mpl-message\" style=\"text-align:right; float: right;\"/>');\n",
       "    nav_element.append(status_bar);\n",
       "    this.message = status_bar[0];\n",
       "\n",
       "    // Add the close button to the window.\n",
       "    var buttongrp = $('<div class=\"btn-group inline pull-right\"></div>');\n",
       "    var button = $('<button class=\"btn btn-mini btn-primary\" href=\"#\" title=\"Stop Interaction\"><i class=\"fa fa-power-off icon-remove icon-large\"></i></button>');\n",
       "    button.click(function (evt) { fig.handle_close(fig, {}); } );\n",
       "    button.mouseover('Stop Interaction', toolbar_mouse_event);\n",
       "    buttongrp.append(button);\n",
       "    var titlebar = this.root.find($('.ui-dialog-titlebar'));\n",
       "    titlebar.prepend(buttongrp);\n",
       "}\n",
       "\n",
       "mpl.figure.prototype._root_extra_style = function(el){\n",
       "    var fig = this\n",
       "    el.on(\"remove\", function(){\n",
       "\tfig.close_ws(fig, {});\n",
       "    });\n",
       "}\n",
       "\n",
       "mpl.figure.prototype._canvas_extra_style = function(el){\n",
       "    // this is important to make the div 'focusable\n",
       "    el.attr('tabindex', 0)\n",
       "    // reach out to IPython and tell the keyboard manager to turn it's self\n",
       "    // off when our div gets focus\n",
       "\n",
       "    // location in version 3\n",
       "    if (IPython.notebook.keyboard_manager) {\n",
       "        IPython.notebook.keyboard_manager.register_events(el);\n",
       "    }\n",
       "    else {\n",
       "        // location in version 2\n",
       "        IPython.keyboard_manager.register_events(el);\n",
       "    }\n",
       "\n",
       "}\n",
       "\n",
       "mpl.figure.prototype._key_event_extra = function(event, name) {\n",
       "    var manager = IPython.notebook.keyboard_manager;\n",
       "    if (!manager)\n",
       "        manager = IPython.keyboard_manager;\n",
       "\n",
       "    // Check for shift+enter\n",
       "    if (event.shiftKey && event.which == 13) {\n",
       "        this.canvas_div.blur();\n",
       "        event.shiftKey = false;\n",
       "        // Send a \"J\" for go to next cell\n",
       "        event.which = 74;\n",
       "        event.keyCode = 74;\n",
       "        manager.command_mode();\n",
       "        manager.handle_keydown(event);\n",
       "    }\n",
       "}\n",
       "\n",
       "mpl.figure.prototype.handle_save = function(fig, msg) {\n",
       "    fig.ondownload(fig, null);\n",
       "}\n",
       "\n",
       "\n",
       "mpl.find_output_cell = function(html_output) {\n",
       "    // Return the cell and output element which can be found *uniquely* in the notebook.\n",
       "    // Note - this is a bit hacky, but it is done because the \"notebook_saving.Notebook\"\n",
       "    // IPython event is triggered only after the cells have been serialised, which for\n",
       "    // our purposes (turning an active figure into a static one), is too late.\n",
       "    var cells = IPython.notebook.get_cells();\n",
       "    var ncells = cells.length;\n",
       "    for (var i=0; i<ncells; i++) {\n",
       "        var cell = cells[i];\n",
       "        if (cell.cell_type === 'code'){\n",
       "            for (var j=0; j<cell.output_area.outputs.length; j++) {\n",
       "                var data = cell.output_area.outputs[j];\n",
       "                if (data.data) {\n",
       "                    // IPython >= 3 moved mimebundle to data attribute of output\n",
       "                    data = data.data;\n",
       "                }\n",
       "                if (data['text/html'] == html_output) {\n",
       "                    return [cell, data, j];\n",
       "                }\n",
       "            }\n",
       "        }\n",
       "    }\n",
       "}\n",
       "\n",
       "// Register the function which deals with the matplotlib target/channel.\n",
       "// The kernel may be null if the page has been refreshed.\n",
       "if (IPython.notebook.kernel != null) {\n",
       "    IPython.notebook.kernel.comm_manager.register_target('matplotlib', mpl.mpl_figure_comm);\n",
       "}\n"
      ],
      "text/plain": [
       "<IPython.core.display.Javascript object>"
      ]
     },
     "metadata": {
      "tags": []
     },
     "output_type": "display_data"
    },
    {
     "data": {
      "text/html": [
       "<img src=\"data:image/png;base64,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\" width=\"960\">"
      ],
      "text/plain": [
       "<IPython.core.display.HTML object>"
      ]
     },
     "metadata": {
      "tags": []
     },
     "output_type": "display_data"
    }
   ],
   "source": [
    "fig, (ax1, ax2) = plt.subplots(nrows=1, ncols=2, figsize=plt.figaspect(.5))\n",
    "\n",
    "ax1.set_ylabel(\"Variance Explained\", fontsize=15)\n",
    "ax1.set_xlabel(\"# Latent Facors\", fontsize=15)\n",
    "ax1.plot(expl_var)\n",
    "# annote some (latentfactors, expl_var) to make it clear\n",
    "ind = [1, 2,4,8,20, 60, 100, 200, 300, 400, 500]\n",
    "ax1.scatter(x = [i-1 for i in ind], y = expl_var[[i-1 for i in ind]], c='#ff3300')\n",
    "for i in ind:\n",
    "    ax1.annotate(s =\"({}, {})\".format(i,  np.round(expl_var[i-1], 2)), xy=(i-1, expl_var[i-1]),\n",
    "                xytext = ( i+20, expl_var[i-1] - 0.01), fontweight='bold')\n",
    "\n",
    "change_in_expl_var = [expl_var[i+1] - expl_var[i] for i in range(len(expl_var)-1)]\n",
    "ax2.plot(change_in_expl_var)\n",
    "\n",
    "x = np.array([[1, 2, 3], [4, 5, 6]])\n",
    "\n",
    "ax2.set_ylabel(\"Gain in Var_Expl with One Additional LF\", fontsize=10)\n",
    "ax2.yaxis.set_label_position(\"right\")\n",
    "ax2.set_xlabel(\"# Latent Facors\", fontsize=20)\n",
    "\n",
    "plt.show()"
   ]
  },
  {
   "cell_type": "code",
   "execution_count": 0,
   "metadata": {
    "colab": {},
    "colab_type": "code",
    "id": "3kI-9jQ7xro9",
    "outputId": "2f18f097-5405-42ff-9a09-20b8ea1e559e",
    "scrolled": true
   },
   "outputs": [
    {
     "name": "stdout",
     "output_type": "stream",
     "text": [
      "(1, 0.23)\n",
      "(2, 0.26)\n",
      "(4, 0.3)\n",
      "(8, 0.34)\n",
      "(20, 0.38)\n",
      "(60, 0.44)\n",
      "(100, 0.47)\n",
      "(200, 0.53)\n",
      "(300, 0.57)\n",
      "(400, 0.61)\n",
      "(500, 0.64)\n"
     ]
    }
   ],
   "source": [
    "for i in ind:\n",
    "    print(\"({}, {})\".format(i, np.round(expl_var[i-1], 2)))"
   ]
  },
  {
   "cell_type": "markdown",
   "metadata": {
    "colab_type": "text",
    "id": "urHM6UzrxrpC"
   },
   "source": [
    " \n",
    "> I think 500 dimensions is good enough \n",
    "\n",
    "---------\n",
    "\n",
    "-  By just taking __(20 to 30)__ latent factors, explained variance that we could get is __20 %__. \n",
    "\n",
    "- To take it to __60%__, we have to take  __almost 400 latent factors__. It is not fare.\n",
    "\n",
    "\n",
    "\n",
    "- It basically is the __gain of variance explained__, if we ___add one additional latent factor to it.___\n",
    "\n",
    "\n",
    "- By adding one by one latent factore too it, the ___gain in expained variance__ with that addition is decreasing. (Obviously, because they are sorted that way).\n",
    "- ___LHS Graph___:\n",
    "    - __x__ --- ( No of latent factors ),\n",
    "    - __y__ --- ( The variance explained by taking x latent factors)\n",
    "\n",
    "\n",
    "\n",
    "- __More decrease in the line (RHS graph) __:\n",
    "    - We  are getting more expained variance than before.\n",
    "- __Less decrease in that line (RHS graph)__  :\n",
    "    - We are not getting benifitted from adding latent factor furthur. This is what is shown in the plots.\n",
    "\n",
    "\n",
    "- ___RHS Graph___:\n",
    "    - __x__ --- ( No of latent factors ),\n",
    "    - __y__ --- ( Gain n Expl_Var by taking one additional latent factor) "
   ]
  },
  {
   "cell_type": "code",
   "execution_count": 0,
   "metadata": {
    "colab": {},
    "colab_type": "code",
    "id": "1oeIcSxYxrpD",
    "outputId": "5f7de336-1593-41ee-8d5e-522ed4b6555d",
    "scrolled": true
   },
   "outputs": [
    {
     "name": "stdout",
     "output_type": "stream",
     "text": [
      "0:00:45.670265\n"
     ]
    }
   ],
   "source": [
    "# Let's project our Original U_M matrix into into 500 Dimensional space...\n",
    "start = datetime.now()\n",
    "trunc_matrix = train_sparse_matrix.dot(netflix_svd.components_.T)\n",
    "print(datetime.now()- start)"
   ]
  },
  {
   "cell_type": "code",
   "execution_count": 0,
   "metadata": {
    "colab": {},
    "colab_type": "code",
    "id": "MAwRD5AwxrpG",
    "outputId": "a5194761-c6da-4f25-a31e-89cc55033f45",
    "scrolled": true
   },
   "outputs": [
    {
     "data": {
      "text/plain": [
       "(numpy.ndarray, (2649430, 500))"
      ]
     },
     "execution_count": 53,
     "metadata": {
      "tags": []
     },
     "output_type": "execute_result"
    }
   ],
   "source": [
    "type(trunc_matrix), trunc_matrix.shape"
   ]
  },
  {
   "cell_type": "markdown",
   "metadata": {
    "colab_type": "text",
    "id": "1J2zqArKxrpL"
   },
   "source": [
    "* Let's convert this to actual sparse matrix and store it for future purposes"
   ]
  },
  {
   "cell_type": "code",
   "execution_count": 0,
   "metadata": {
    "colab": {},
    "colab_type": "code",
    "id": "zikAa8pkxrpM"
   },
   "outputs": [],
   "source": [
    "if not os.path.isfile(d+'data_folder/trunc_sparse_matrix.npz'):\n",
    "    # create that sparse sparse matrix\n",
    "    trunc_sparse_matrix = sparse.csr_matrix(trunc_matrix)\n",
    "    # Save this truncated sparse matrix for later usage..\n",
    "    sparse.save_npz(d+'data_folder/trunc_sparse_matrix', trunc_sparse_matrix)\n",
    "else:\n",
    "    trunc_sparse_matrix = sparse.load_npz(d+'data_folder/trunc_sparse_matrix.npz')"
   ]
  },
  {
   "cell_type": "code",
   "execution_count": 0,
   "metadata": {
    "colab": {
     "base_uri": "https://localhost:8080/",
     "height": 34
    },
    "colab_type": "code",
    "id": "TR9TF1rVxrpP",
    "outputId": "d25e9d9c-5e83-4c1f-8631-92029e634b46"
   },
   "outputs": [
    {
     "data": {
      "text/plain": [
       "(2649430, 500)"
      ]
     },
     "execution_count": 9,
     "metadata": {
      "tags": []
     },
     "output_type": "execute_result"
    }
   ],
   "source": [
    "trunc_sparse_matrix.shape"
   ]
  },
  {
   "cell_type": "code",
   "execution_count": 0,
   "metadata": {
    "colab": {
     "base_uri": "https://localhost:8080/",
     "height": 646
    },
    "colab_type": "code",
    "id": "Nq6-WQa3xrpR",
    "outputId": "4575a006-cd19-483a-d5f0-0e00fce113e0"
   },
   "outputs": [
    {
     "name": "stdout",
     "output_type": "stream",
     "text": [
      "Computing top 50 similarities for each user..\n",
      "computing done for 10 users [  time elapsed : 0:01:35.634968  ]\n",
      "computing done for 20 users [  time elapsed : 0:03:09.603020  ]\n",
      "computing done for 30 users [  time elapsed : 0:04:45.308893  ]\n",
      "computing done for 40 users [  time elapsed : 0:06:19.591781  ]\n",
      "computing done for 50 users [  time elapsed : 0:07:51.984243  ]\n",
      "Creating Sparse matrix from the computed similarities\n",
      "\n",
      " \n",
      "\n"
     ]
    },
    {
     "data": {
      "image/png": "[encoded data removed]",
      "text/plain": [
       "<Figure size 720x504 with 1 Axes>"
      ]
     },
     "metadata": {
      "tags": []
     },
     "output_type": "display_data"
    },
    {
     "name": "stdout",
     "output_type": "stream",
     "text": [
      "--------------------------------------------------\n",
      "time: 0:08:25.903131\n"
     ]
    }
   ],
   "source": [
    "start = datetime.now()\n",
    "trunc_u_u_sim_matrix, _ = compute_user_similarity(trunc_sparse_matrix, compute_for_few=True, top=50, verbose=True, \n",
    "                                                 verb_for_n_rows=10)\n",
    "print(\"-\"*50)\n",
    "print(\"time:\",datetime.now()-start)"
   ]
  },
  {
   "cell_type": "markdown",
   "metadata": {
    "colab_type": "text",
    "id": "xccLgInHxrpZ"
   },
   "source": [
    "**: This is taking more time for each user than Original one.**"
   ]
  },
  {
   "cell_type": "markdown",
   "metadata": {
    "colab_type": "text",
    "id": "vz0YrbXuxrpd"
   },
   "source": [
    "- from above plot, It took almost __12.18__ for computing simlilar users for __one user__\n",
    "    \n",
    "    \n",
    "- We have __405041 users__ with us in training set.\n",
    "\n",
    "\n",
    "- ${ 405041 \\times 12.18 ==== 4933399.38 \\sec } ====  82223.323 \\min ==== 1370.388716667 \\text{ hours}\n",
    "==== 57.099529861 \\text{ days}...$\n",
    "\n",
    "    - Even we run on 4 cores parallelly (a typical system now a days), It will still take almost __(14 - 15) __ days.\n"
   ]
  },
  {
   "cell_type": "markdown",
   "metadata": {
    "colab_type": "text",
    "id": "Sq-8XYXjxrpd"
   },
   "source": [
    "- __Why did this happen...??__\n",
    "    - It happened because after redcuing the dimension using __SVD__ components our dataset become dense form sparse. Before in our data there were very few ratings per user and when we reduced the dimensions but make data dense which means more number of rating per user NOW. That's why second method will take more time."
   ]
  },
  {
   "cell_type": "markdown",
   "metadata": {
    "colab_type": "text",
    "id": "U4Zj4YuXxrpf"
   },
   "source": [
    "__Is there any other way to compute user user similarity..??__"
   ]
  },
  {
   "cell_type": "markdown",
   "metadata": {
    "colab_type": "text",
    "id": "QfiKDgY0xrpg"
   },
   "source": [
    "- An alternative is to compute similar users for a particular user,  whenenver required (**ie., Run time**)\n",
    "    - We maintain a binary Vector for users, which tells us whether we already computed or not..\n",
    "    - ***If not*** : \n",
    "        - Compute top (let's just say, 1000) most similar users for this given user, and add this to our datastructure, so that we can just access it(similar users) without recomputing it again.\n",
    "         \n",
    "    - ***If It is already Computed***:\n",
    "        - Just get it directly from our datastructure, which has that information.\n",
    "        - In production time, We might have to recompute similarities, if it is computed a long time ago. Because user preferences changes over time. If we could maintain some kind of Timer, which when expires, we have to update it ( recompute it ). \n",
    "        \n",
    "- **Which datastructure to use:**\n",
    "    - It is purely implementation dependant. \n",
    "    - One simple method is to maintain a **Dictionary Of Dictionaries**.\n",
    "        - **key    :** _userid_ \n",
    "        - __value__: _Again a dictionary_\n",
    "            - __key__  : _Similar User_\n",
    "            - __value__: _Similarity Value_"
   ]
  },
  {
   "cell_type": "markdown",
   "metadata": {
    "colab_type": "text",
    "collapsed": true,
    "id": "kb9Yk2f5xrpg"
   },
   "source": [
    "### **3.4.2 Computing Movie-Movie Similarity matrix**"
   ]
  },
  {
   "cell_type": "code",
   "execution_count": 0,
   "metadata": {
    "colab": {
     "base_uri": "https://localhost:8080/",
     "height": 68
    },
    "colab_type": "code",
    "id": "xX24qLe3xrph",
    "outputId": "d9a7b662-4b32-4f6e-886f-3df9361176e6"
   },
   "outputs": [
    {
     "name": "stdout",
     "output_type": "stream",
     "text": [
      "It is there, loading the data.\n",
      "Done ...\n",
      "It's a  (17771, 17771)  dimensional matrix\n"
     ]
    }
   ],
   "source": [
    "if not os.path.isfile(d+'processed_data/m_m_sim_sparse.npz'):\n",
    "    print(\"It seems you don't have that file. Computing movie_movie similarity...\")\n",
    "    start = datetime.now()\n",
    "    m_m_sim_sparse = cosine_similarity(X=train_sparse_matrix.T, dense_output=False)\n",
    "    print(\"Done..\")\n",
    "    # store this sparse matrix in disk before using it. For future purposes.\n",
    "    print(\"Saving it to disk without the need of re-computing it again.. \")\n",
    "    sparse.save_npz(d+\"processed_data/m_m_sim_sparse.npz\", m_m_sim_sparse)\n",
    "    print(\"Done..\")\n",
    "    print(\"time taken to\",datetime.now() - start)\n",
    "else:\n",
    "    print(\"It is there, loading the data.\")\n",
    "    m_m_sim_sparse = sparse.load_npz(d+\"processed_data/m_m_sim_sparse.npz\")\n",
    "    print(\"Done ...\")\n",
    "\n",
    "print(\"It's a \",m_m_sim_sparse.shape,\" dimensional matrix\")"
   ]
  },
  {
   "cell_type": "markdown",
   "metadata": {
    "colab_type": "text",
    "id": "wjGcfeyFxrpp"
   },
   "source": [
    "- Even though we have similarity measure of each movie, with all other movies, We generally don't care much about least similar movies.\n",
    "\n",
    "\n",
    "- Most of the times, only top_xxx similar items matters. It may be 10 or 100.\n",
    "\n",
    "\n",
    "- We take only those top similar movie ratings and store them  in a saperate dictionary."
   ]
  },
  {
   "cell_type": "code",
   "execution_count": 0,
   "metadata": {
    "colab": {},
    "colab_type": "code",
    "id": "zg3aFVclxrpp"
   },
   "outputs": [],
   "source": [
    "movie_ids = np.unique(m_m_sim_sparse.nonzero()[1])"
   ]
  },
  {
   "cell_type": "code",
   "execution_count": 0,
   "metadata": {
    "colab": {
     "base_uri": "https://localhost:8080/",
     "height": 238
    },
    "colab_type": "code",
    "id": "JB_LiDL5xrps",
    "outputId": "bcb85db4-1443-4405-f81f-131d2e0ed821"
   },
   "outputs": [
    {
     "name": "stdout",
     "output_type": "stream",
     "text": [
      "0:00:29.599431\n"
     ]
    },
    {
     "data": {
      "text/plain": [
       "array([ 8279,  8013, 16528,  5927, 13105, 12049,  4424, 10193, 17590,\n",
       "        4549,  3755,   590, 14059, 15144, 15054,  9584,  9071,  6349,\n",
       "       16402,  3973,  1720,  5370, 16309,  9376,  6116,  4706,  2818,\n",
       "         778, 15331,  1416, 12979, 17139, 17710,  5452,  2534,   164,\n",
       "       15188,  8323,  2450, 16331,  9566, 15301, 13213, 14308, 15984,\n",
       "       10597,  6426,  5500,  7068,  7328,  5720,  9802,   376, 13013,\n",
       "        8003, 10199,  3338, 15390,  9688, 16455, 11730,  4513,   598,\n",
       "       12762,  2187,   509,  5865,  9166, 17115, 16334,  1942,  7282,\n",
       "       17584,  4376,  8988,  8873,  5921,  2716, 14679, 11947, 11981,\n",
       "        4649,   565, 12954, 10788, 10220, 10963,  9427,  1690,  5107,\n",
       "        7859,  5969,  1510,  2429,   847,  7845,  6410, 13931,  9840,\n",
       "        3706])"
      ]
     },
     "execution_count": 11,
     "metadata": {
      "tags": []
     },
     "output_type": "execute_result"
    }
   ],
   "source": [
    "start = datetime.now()\n",
    "similar_movies = dict()\n",
    "for movie in movie_ids:\n",
    "    # get the top similar movies and store them in the dictionary\n",
    "    sim_movies = m_m_sim_sparse[movie].toarray().ravel().argsort()[::-1][1:] #leaving first one becasue it'll be same movie\n",
    "    similar_movies[movie] = sim_movies[:100]\n",
    "print(datetime.now() - start)\n",
    "\n",
    "# just testing similar movies for movie_15\n",
    "similar_movies[15]"
   ]
  },
  {
   "cell_type": "markdown",
   "metadata": {
    "colab_type": "text",
    "id": "eJIAvNB9xrpv"
   },
   "source": [
    "### **3.4.3 Finding most similar movies using similarity matrix**"
   ]
  },
  {
   "cell_type": "markdown",
   "metadata": {
    "colab_type": "text",
    "id": "FPlIy7uTxrpw"
   },
   "source": [
    "__Does Similarity really works as the way we expected...?__\n",
    "- Let's pick some random movie and check for its similar movies...._"
   ]
  },
  {
   "cell_type": "code",
   "execution_count": 0,
   "metadata": {
    "colab": {
     "base_uri": "https://localhost:8080/",
     "height": 286
    },
    "colab_type": "code",
    "id": "SM7gPvCSxrpx",
    "outputId": "40ea6667-9e24-4f26-b666-0c3cb31a23e7"
   },
   "outputs": [
    {
     "name": "stdout",
     "output_type": "stream",
     "text": [
      "Tokenization took: 3.05 ms\n",
      "Type conversion took: 9.32 ms\n",
      "Parser memory cleanup took: 0.01 ms\n"
     ]
    },
    {
     "data": {
      "text/html": [
       "<div>\n",
       "<style scoped>\n",
       "    .dataframe tbody tr th:only-of-type {\n",
       "        vertical-align: middle;\n",
       "    }\n",
       "\n",
       "    .dataframe tbody tr th {\n",
       "        vertical-align: top;\n",
       "    }\n",
       "\n",
       "    .dataframe thead th {\n",
       "        text-align: right;\n",
       "    }\n",
       "</style>\n",
       "<table border=\"1\" class=\"dataframe\">\n",
       "  <thead>\n",
       "    <tr style=\"text-align: right;\">\n",
       "      <th></th>\n",
       "      <th>year_of_release</th>\n",
       "      <th>title</th>\n",
       "    </tr>\n",
       "    <tr>\n",
       "      <th>movie_id</th>\n",
       "      <th></th>\n",
       "      <th></th>\n",
       "    </tr>\n",
       "  </thead>\n",
       "  <tbody>\n",
       "    <tr>\n",
       "      <th>1</th>\n",
       "      <td>2003.0</td>\n",
       "      <td>Dinosaur Planet</td>\n",
       "    </tr>\n",
       "    <tr>\n",
       "      <th>2</th>\n",
       "      <td>2004.0</td>\n",
       "      <td>Isle of Man TT 2004 Review</td>\n",
       "    </tr>\n",
       "    <tr>\n",
       "      <th>3</th>\n",
       "      <td>1997.0</td>\n",
       "      <td>Character</td>\n",
       "    </tr>\n",
       "    <tr>\n",
       "      <th>4</th>\n",
       "      <td>1994.0</td>\n",
       "      <td>Paula Abdul's Get Up &amp; Dance</td>\n",
       "    </tr>\n",
       "    <tr>\n",
       "      <th>5</th>\n",
       "      <td>2004.0</td>\n",
       "      <td>The Rise and Fall of ECW</td>\n",
       "    </tr>\n",
       "  </tbody>\n",
       "</table>\n",
       "</div>"
      ],
      "text/plain": [
       "          year_of_release                         title\n",
       "movie_id                                               \n",
       "1                  2003.0               Dinosaur Planet\n",
       "2                  2004.0    Isle of Man TT 2004 Review\n",
       "3                  1997.0                     Character\n",
       "4                  1994.0  Paula Abdul's Get Up & Dance\n",
       "5                  2004.0      The Rise and Fall of ECW"
      ]
     },
     "execution_count": 12,
     "metadata": {
      "tags": []
     },
     "output_type": "execute_result"
    }
   ],
   "source": [
    "# First Let's load the movie details into soe dataframe..\n",
    "# movie details are in 'netflix/movie_titles.csv'\n",
    "\n",
    "movie_titles = pd.read_csv(d+\"raw_data/movie_titles.csv\", sep=',', header = None,\n",
    "                           names=['movie_id', 'year_of_release', 'title'], verbose=True,\n",
    "                      index_col = 'movie_id', encoding = \"ISO-8859-1\")\n",
    "\n",
    "movie_titles.head()"
   ]
  },
  {
   "cell_type": "markdown",
   "metadata": {
    "colab_type": "text",
    "id": "sUT8MvZlxrpz"
   },
   "source": [
    "<p style='font-size:15px'><b>Similar Movies for 'Vampire Journals'</b></p>"
   ]
  },
  {
   "cell_type": "code",
   "execution_count": 0,
   "metadata": {
    "colab": {
     "base_uri": "https://localhost:8080/",
     "height": 85
    },
    "colab_type": "code",
    "id": "amTIWwyqxrpz",
    "outputId": "26dacc4e-8b7b-4ed4-b9f0-ff3c3de2242b"
   },
   "outputs": [
    {
     "name": "stdout",
     "output_type": "stream",
     "text": [
      "Movie ----->>> Vampire Journals\n",
      "It has 270 Ratings from users.\n",
      "\n",
      "We have 17284 movies which are similar to this  and we will get only top most..\n"
     ]
    }
   ],
   "source": [
    "mv_id = 67\n",
    "\n",
    "print(\"Movie ----->>>\",movie_titles.loc[mv_id].values[1])\n",
    "print(\"It has {} Ratings from users.\".format(train_sparse_matrix[:,mv_id].getnnz()))\n",
    "print(\"\\nWe have {} movies which are similar to this  and we will get only top most..\".format(m_m_sim_sparse[:,mv_id].getnnz()))"
   ]
  },
  {
   "cell_type": "code",
   "execution_count": 0,
   "metadata": {
    "colab": {},
    "colab_type": "code",
    "id": "qGKTUo41xrp1"
   },
   "outputs": [],
   "source": [
    "similarities = m_m_sim_sparse[mv_id].toarray().ravel()\n",
    "sim_indices = similarities.argsort()[::-1][1:] # It will sort and return indices then reverse the array \n",
    "                                               # and ignore its similarity (ie.,1)\n",
    "                                               # and return its indices(movie_ids)"
   ]
  },
  {
   "cell_type": "code",
   "execution_count": 0,
   "metadata": {
    "colab": {
     "base_uri": "https://localhost:8080/",
     "height": 469
    },
    "colab_type": "code",
    "id": "LkmEthwOxrp3",
    "outputId": "7389ac07-2637-47ec-e785-e75195af5bd0"
   },
   "outputs": [
    {
     "data": {
      "image/png": "[encoded data removed]",
      "text/plain": [
       "<Figure size 720x504 with 1 Axes>"
      ]
     },
     "metadata": {
      "tags": []
     },
     "output_type": "display_data"
    }
   ],
   "source": [
    "plt.figure(figsize = (10, 7))\n",
    "plt.plot(similarities[sim_indices], label='All the ratings')\n",
    "plt.plot(similarities[sim_indices[:100]], label='top 100 similar movies')\n",
    "plt.title(\"Similar Movies of {}(movie_id)\".format(mv_id), fontsize=18)\n",
    "plt.xlabel(\"Movies (Not Movie_Ids)\", fontsize=15)\n",
    "plt.ylabel(\"Cosine Similarity\",fontsize=15)\n",
    "plt.grid(1)\n",
    "plt.legend(fontsize = 12)\n",
    "plt.show()"
   ]
  },
  {
   "cell_type": "markdown",
   "metadata": {
    "colab_type": "text",
    "id": "myQr_h7Lxrp8"
   },
   "source": [
    "__Top 10 similar movies__"
   ]
  },
  {
   "cell_type": "code",
   "execution_count": 0,
   "metadata": {
    "colab": {
     "base_uri": "https://localhost:8080/",
     "height": 390
    },
    "colab_type": "code",
    "id": "4PrIew0Pxrp8",
    "outputId": "09ffbabf-1376-42e3-d979-a559d896b2e9",
    "scrolled": true
   },
   "outputs": [
    {
     "data": {
      "text/html": [
       "<div>\n",
       "<style scoped>\n",
       "    .dataframe tbody tr th:only-of-type {\n",
       "        vertical-align: middle;\n",
       "    }\n",
       "\n",
       "    .dataframe tbody tr th {\n",
       "        vertical-align: top;\n",
       "    }\n",
       "\n",
       "    .dataframe thead th {\n",
       "        text-align: right;\n",
       "    }\n",
       "</style>\n",
       "<table border=\"1\" class=\"dataframe\">\n",
       "  <thead>\n",
       "    <tr style=\"text-align: right;\">\n",
       "      <th></th>\n",
       "      <th>year_of_release</th>\n",
       "      <th>title</th>\n",
       "    </tr>\n",
       "    <tr>\n",
       "      <th>movie_id</th>\n",
       "      <th></th>\n",
       "      <th></th>\n",
       "    </tr>\n",
       "  </thead>\n",
       "  <tbody>\n",
       "    <tr>\n",
       "      <th>323</th>\n",
       "      <td>1999.0</td>\n",
       "      <td>Modern Vampires</td>\n",
       "    </tr>\n",
       "    <tr>\n",
       "      <th>4044</th>\n",
       "      <td>1998.0</td>\n",
       "      <td>Subspecies 4: Bloodstorm</td>\n",
       "    </tr>\n",
       "    <tr>\n",
       "      <th>1688</th>\n",
       "      <td>1993.0</td>\n",
       "      <td>To Sleep With a Vampire</td>\n",
       "    </tr>\n",
       "    <tr>\n",
       "      <th>13962</th>\n",
       "      <td>2001.0</td>\n",
       "      <td>Dracula: The Dark Prince</td>\n",
       "    </tr>\n",
       "    <tr>\n",
       "      <th>12053</th>\n",
       "      <td>1993.0</td>\n",
       "      <td>Dracula Rising</td>\n",
       "    </tr>\n",
       "    <tr>\n",
       "      <th>16279</th>\n",
       "      <td>2002.0</td>\n",
       "      <td>Vampires: Los Muertos</td>\n",
       "    </tr>\n",
       "    <tr>\n",
       "      <th>4667</th>\n",
       "      <td>1996.0</td>\n",
       "      <td>Vampirella</td>\n",
       "    </tr>\n",
       "    <tr>\n",
       "      <th>1900</th>\n",
       "      <td>1997.0</td>\n",
       "      <td>Club Vampire</td>\n",
       "    </tr>\n",
       "    <tr>\n",
       "      <th>13873</th>\n",
       "      <td>2001.0</td>\n",
       "      <td>The Breed</td>\n",
       "    </tr>\n",
       "    <tr>\n",
       "      <th>15867</th>\n",
       "      <td>2003.0</td>\n",
       "      <td>Dracula II: Ascension</td>\n",
       "    </tr>\n",
       "  </tbody>\n",
       "</table>\n",
       "</div>"
      ],
      "text/plain": [
       "          year_of_release                     title\n",
       "movie_id                                           \n",
       "323                1999.0           Modern Vampires\n",
       "4044               1998.0  Subspecies 4: Bloodstorm\n",
       "1688               1993.0   To Sleep With a Vampire\n",
       "13962              2001.0  Dracula: The Dark Prince\n",
       "12053              1993.0            Dracula Rising\n",
       "16279              2002.0     Vampires: Los Muertos\n",
       "4667               1996.0                Vampirella\n",
       "1900               1997.0              Club Vampire\n",
       "13873              2001.0                 The Breed\n",
       "15867              2003.0     Dracula II: Ascension"
      ]
     },
     "execution_count": 21,
     "metadata": {
      "tags": []
     },
     "output_type": "execute_result"
    }
   ],
   "source": [
    "movie_titles.loc[sim_indices[:10]]"
   ]
  },
  {
   "cell_type": "markdown",
   "metadata": {
    "colab_type": "text",
    "id": "PnfBBmdgxrp_"
   },
   "source": [
    " > Similarly, we can ___find similar users___ and compare how similar they are. "
   ]
  },
  {
   "cell_type": "markdown",
   "metadata": {
    "colab_type": "text",
    "id": "4Tro44QZxrqB"
   },
   "source": [
    "# **4.  Machine Learning Models**"
   ]
  },
  {
   "cell_type": "code",
   "execution_count": 0,
   "metadata": {
    "colab": {},
    "colab_type": "code",
    "id": "oBOQj4nmxrqD"
   },
   "outputs": [],
   "source": [
    "def get_sample_sparse_matrix(sparse_matrix, no_users, no_movies, path, verbose = True):\n",
    "    \"\"\"\n",
    "        It will get it from the ''path'' if it is present  or It will create \n",
    "        and store the sampled sparse matrix in the path specified.\n",
    "    \"\"\"\n",
    "\n",
    "    # get (row, col) and (rating) tuple from sparse_matrix...\n",
    "    row_ind, col_ind, ratings = sparse.find(sparse_matrix)\n",
    "    users = np.unique(row_ind)\n",
    "    movies = np.unique(col_ind)\n",
    "\n",
    "    print(\"Original Matrix : (users, movies) -- ({}, {})\".format(len(users), len(movies)))\n",
    "    print(\"Original Matrix : Ratings -- {}\\n\".format(len(ratings)))\n",
    "\n",
    "    # It just to make sure to get same sample everytime we run this program..\n",
    "    # and pick without replacement....\n",
    "    np.random.seed(15)\n",
    "    sample_users = np.random.choice(users, no_users, replace=False)\n",
    "    sample_movies = np.random.choice(movies, no_movies, replace=False)\n",
    "    # get the boolean mask or these sampled_items in originl row/col_inds..\n",
    "    mask = np.logical_and( np.isin(row_ind, sample_users),\n",
    "                      np.isin(col_ind, sample_movies) )\n",
    "    \n",
    "    sample_sparse_matrix = sparse.csr_matrix((ratings[mask], (row_ind[mask], col_ind[mask])),\n",
    "                                             shape=(max(sample_users)+1, max(sample_movies)+1))\n",
    "\n",
    "    if verbose:\n",
    "        print(\"Sampled Matrix : (users, movies) -- ({} {})\".format(len(sample_users), len(sample_movies)))\n",
    "        print(\"Sampled Matrix : Ratings --\", format(ratings[mask].shape[0]))\n",
    "\n",
    "    print('Saving it into disk for furthur usage..')\n",
    "    # save it into disk\n",
    "    sparse.save_npz(path, sample_sparse_matrix)\n",
    "    if verbose:\n",
    "            print('Done..\\n')\n",
    "    \n",
    "    return sample_sparse_matrix"
   ]
  },
  {
   "cell_type": "markdown",
   "metadata": {
    "colab_type": "text",
    "id": "qKFfQ0bgxrqF"
   },
   "source": [
    "## **4.1 Sampling Data**"
   ]
  },
  {
   "cell_type": "markdown",
   "metadata": {
    "colab_type": "text",
    "id": "0jLFR-p1xrqG"
   },
   "source": [
    "### **4.1.1 Build sample train data from the train data**"
   ]
  },
  {
   "cell_type": "code",
   "execution_count": 0,
   "metadata": {
    "colab": {
     "base_uri": "https://localhost:8080/",
     "height": 68
    },
    "colab_type": "code",
    "id": "l5dJ4yzVxrqH",
    "outputId": "7ebba912-01c4-4047-abc6-ea50c6f62e53"
   },
   "outputs": [
    {
     "name": "stdout",
     "output_type": "stream",
     "text": [
      "It is present in your pwd, getting it from disk....\n",
      "DONE..\n",
      "0:00:00.398216\n"
     ]
    }
   ],
   "source": [
    "start = datetime.now()\n",
    "path = d+\"processed_data/sample_train_sparse_matrix.npz\"\n",
    "if os.path.isfile(path):\n",
    "    print(\"It is present in your pwd, getting it from disk....\")\n",
    "    # just get it from the disk instead of computing it\n",
    "    sample_train_sparse_matrix = sparse.load_npz(path)\n",
    "    print(\"DONE..\")\n",
    "else: \n",
    "    # get 10k users and 1k movies from available data \n",
    "    sample_train_sparse_matrix = get_sample_sparse_matrix(train_sparse_matrix, no_users = 15000, no_movies = 1500,\n",
    "                                             path = path)\n",
    "\n",
    "print(datetime.now() - start)"
   ]
  },
  {
   "cell_type": "markdown",
   "metadata": {
    "colab_type": "text",
    "id": "fQJ8BE0IxrqJ"
   },
   "source": [
    "### **4.1.2 Build sample test data from the test data**"
   ]
  },
  {
   "cell_type": "code",
   "execution_count": 0,
   "metadata": {
    "colab": {
     "base_uri": "https://localhost:8080/",
     "height": 68
    },
    "colab_type": "code",
    "id": "8tPszXJ1xrqJ",
    "outputId": "3c6de23f-64e7-4f1e-b6b2-5d3af91ac7cc"
   },
   "outputs": [
    {
     "name": "stdout",
     "output_type": "stream",
     "text": [
      "It is present in your pwd, getting it from disk....\n",
      "DONE..\n",
      "0:00:00.280739\n"
     ]
    }
   ],
   "source": [
    "start = datetime.now()\n",
    "\n",
    "path = d+\"processed_data/sample_test_sparse_matrix.npz\"\n",
    "if os.path.isfile(path):\n",
    "    print(\"It is present in your pwd, getting it from disk....\")\n",
    "    # just get it from the disk instead of computing it\n",
    "    sample_test_sparse_matrix = sparse.load_npz(path)\n",
    "    print(\"DONE..\")\n",
    "else:\n",
    "    # get 5k users and 500 movies from available data \n",
    "    sample_test_sparse_matrix = get_sample_sparse_matrix(test_sparse_matrix, no_users = 7500, no_movies = 750,\n",
    "                                                 path = path)\n",
    "print(datetime.now() - start)"
   ]
  },
  {
   "cell_type": "markdown",
   "metadata": {
    "colab_type": "text",
    "id": "BgTx-m-cxrqM"
   },
   "source": [
    "## **4.2 Finding Global Average of all movie ratings, Average rating per User, and Average rating per Movie (from sampled train)**>"
   ]
  },
  {
   "cell_type": "markdown",
   "metadata": {
    "colab_type": "text",
    "id": "ZNMVuqWHxrqP"
   },
   "source": [
    "### **4.2.1 Finding Global Average of all movie ratings**"
   ]
  },
  {
   "cell_type": "code",
   "execution_count": 0,
   "metadata": {
    "colab": {},
    "colab_type": "code",
    "id": "Af8rljDExrqN"
   },
   "outputs": [],
   "source": [
    "sample_train_averages = dict()"
   ]
  },
  {
   "cell_type": "code",
   "execution_count": 0,
   "metadata": {
    "colab": {
     "base_uri": "https://localhost:8080/",
     "height": 34
    },
    "colab_type": "code",
    "id": "eJN92jujxrqQ",
    "outputId": "9c3e6600-7d58-4163-be1f-3a699cc85221"
   },
   "outputs": [
    {
     "data": {
      "text/plain": [
       "{'global': 3.5405513065646907}"
      ]
     },
     "execution_count": 11,
     "metadata": {
      "tags": []
     },
     "output_type": "execute_result"
    }
   ],
   "source": [
    "# get the global average of ratings in our train set.\n",
    "global_average = sample_train_sparse_matrix.sum()/sample_train_sparse_matrix.count_nonzero()\n",
    "sample_train_averages['global'] = global_average\n",
    "sample_train_averages"
   ]
  },
  {
   "cell_type": "markdown",
   "metadata": {
    "colab_type": "text",
    "id": "A3ldVasnxrqS"
   },
   "source": [
    "### **4.2.2 Finding Average rating per User**"
   ]
  },
  {
   "cell_type": "code",
   "execution_count": 0,
   "metadata": {
    "colab": {
     "base_uri": "https://localhost:8080/",
     "height": 51
    },
    "colab_type": "code",
    "id": "iLBPu2ObxrqT",
    "outputId": "3af26caf-9aac-40f1-ab46-9b905515de5e",
    "scrolled": true
   },
   "outputs": [
    {
     "name": "stdout",
     "output_type": "stream",
     "text": [
      "\n",
      "Average rating of user 1515220 : 3.953488372093023\n"
     ]
    }
   ],
   "source": [
    "sample_train_averages['user'] = get_average_ratings(sample_train_sparse_matrix, of_users=True)\n",
    "print('\\nAverage rating of user 1515220 :',sample_train_averages['user'][1515220])"
   ]
  },
  {
   "cell_type": "markdown",
   "metadata": {
    "colab_type": "text",
    "id": "qiVaPz6AxrqV"
   },
   "source": [
    "### **4.2.3 Finding Average rating per Movie**"
   ]
  },
  {
   "cell_type": "code",
   "execution_count": 0,
   "metadata": {
    "colab": {
     "base_uri": "https://localhost:8080/",
     "height": 51
    },
    "colab_type": "code",
    "id": "q8QD09k4xrqV",
    "outputId": "e72cca12-9800-4937-f400-21655bbac4c3",
    "scrolled": true
   },
   "outputs": [
    {
     "name": "stdout",
     "output_type": "stream",
     "text": [
      "\n",
      " AVerage rating of movie 15153 : 2.6184210526315788\n"
     ]
    }
   ],
   "source": [
    "sample_train_averages['movie'] =  get_average_ratings(sample_train_sparse_matrix, of_users=False)\n",
    "print('\\n AVerage rating of movie 15153 :',sample_train_averages['movie'][15153])"
   ]
  },
  {
   "cell_type": "markdown",
   "metadata": {
    "colab_type": "text",
    "id": "xVwLprg-xrqZ"
   },
   "source": [
    "## **4.3 Featurizing data**"
   ]
  },
  {
   "cell_type": "code",
   "execution_count": 0,
   "metadata": {
    "colab": {
     "base_uri": "https://localhost:8080/",
     "height": 119
    },
    "colab_type": "code",
    "id": "E85auQgixrqZ",
    "outputId": "0494ccc5-90c5-48a1-fcf9-ae868635ba02"
   },
   "outputs": [
    {
     "name": "stdout",
     "output_type": "stream",
     "text": [
      "\n",
      " No of ratings in Our Sampled train matrix is : 276144\n",
      "\n",
      "\n",
      " No of ratings in Our Sampled test  matrix is : 19273\n",
      "\n"
     ]
    }
   ],
   "source": [
    "print('\\n No of ratings in Our Sampled train matrix is : {}\\n'.format(sample_train_sparse_matrix.count_nonzero()))\n",
    "print('\\n No of ratings in Our Sampled test  matrix is : {}\\n'.format(sample_test_sparse_matrix.count_nonzero()))"
   ]
  },
  {
   "cell_type": "markdown",
   "metadata": {
    "colab_type": "text",
    "id": "GZ7FYSibxrqc"
   },
   "source": [
    "### **4.3.1 Featurizing data for regression problem**"
   ]
  },
  {
   "cell_type": "markdown",
   "metadata": {
    "colab_type": "text",
    "id": "7ZMRQApaxrqc"
   },
   "source": [
    "#### **4.3.1.1 Featurizing train data**"
   ]
  },
  {
   "cell_type": "code",
   "execution_count": 0,
   "metadata": {
    "colab": {},
    "colab_type": "code",
    "id": "9mnxWS7cdH9T"
   },
   "outputs": [],
   "source": [
    "# get users, movies and ratings from our samples train sparse matrix\n",
    "sample_train_users, sample_train_movies, sample_train_ratings = sparse.find(sample_train_sparse_matrix)"
   ]
  },
  {
   "cell_type": "code",
   "execution_count": 0,
   "metadata": {
    "colab": {
     "base_uri": "https://localhost:8080/",
     "height": 527
    },
    "colab_type": "code",
    "id": "5gaRwWbocZCX",
    "outputId": "12458590-01f8-4b75-c582-f4ea84df0f81"
   },
   "outputs": [
    {
     "name": "stdout",
     "output_type": "stream",
     "text": [
      "Featurizing the train data....\n",
      "\n",
      "time taken for 10000 rows is 0:26:00.131068\n",
      "time taken for 20000 rows is 0:51:22.380357\n",
      "time taken for 30000 rows is 1:16:53.897992\n",
      "time taken for 40000 rows is 1:41:34.369851\n",
      "time taken for 50000 rows is 2:06:19.806835\n",
      "time taken for 60000 rows is 2:31:07.765942\n",
      "time taken for 70000 rows is 2:55:59.376278\n",
      "time taken for 80000 rows is 3:20:41.837638\n",
      "time taken for 90000 rows is 3:45:19.369754\n",
      "time taken for 100000 rows is 4:10:03.398630\n",
      "time taken for 110000 rows is 4:34:37.375420\n",
      "time taken for 120000 rows is 4:59:09.926472\n",
      "time taken for 130000 rows is 5:23:42.759116\n",
      "time taken for 140000 rows is 5:48:25.352645\n",
      "time taken for 150000 rows is 6:13:34.022958\n",
      "time taken for 160000 rows is 6:38:12.910516\n",
      "time taken for 170000 rows is 7:02:57.372559\n",
      "time taken for 180000 rows is 7:28:00.094632\n",
      "time taken for 190000 rows is 7:52:38.814214\n",
      "time taken for 200000 rows is 8:17:07.374477\n",
      "time taken for 210000 rows is 8:41:39.463038\n",
      "time taken for 220000 rows is 9:06:20.078570\n",
      "time taken for 230000 rows is 9:32:26.371284\n",
      "time taken for 240000 rows is 9:57:08.003183\n",
      "time taken for 250000 rows is 10:21:40.644792\n",
      "time taken for 260000 rows is 10:46:06.448740\n",
      "time taken for 270000 rows is 11:10:24.057005\n",
      "time taken... 11:24:43.080842\n"
     ]
    }
   ],
   "source": [
    "if os.path.isfile(d+\"processed_data/reg_train.csv\"):\n",
    "    print(\"Featurized data is in disk!\\nLoad the data from disk.\")\n",
    "else:\n",
    "    print(\"Featurizing the train data....\\n\")\n",
    "    start = datetime.now()\n",
    "    with open(d+\"processed_data/reg_train.csv\", \"w\") as f:\n",
    "        cols = [\"User_ID\", \"Movie_ID\", \"GAvg\"] \n",
    "        cols = cols + [\"sur\"+str(i) for i in range(1,6)] + [\"smr\"+str(i) for i in range(1,6)] \n",
    "        cols = cols + [\"UAvg\", \"MAvg\", \"Rating\"]\n",
    "\n",
    "        f.write(\",\".join(cols))\n",
    "        f.write(\"\\n\")\n",
    "\n",
    "        for i in range(int(len(sample_train_ratings)/250)+1): # \n",
    "            start_index = i*250\n",
    "            end_index = (i+1)*250\n",
    "            uss = sample_train_users[start_index:end_index]\n",
    "            mvs = sample_train_movies[start_index:end_index]\n",
    "            rts = sample_train_ratings[start_index:end_index]\n",
    "            \n",
    "            # print(\"in this iterartion featurizing from {} to {} rows:\".format(start_index, end_index))\n",
    "            u_u = cosine_similarity(sample_train_sparse_matrix[uss, :], sample_train_sparse_matrix)\n",
    "            m_m = cosine_similarity(sample_train_sparse_matrix[:, mvs].T, sample_train_sparse_matrix.T)\n",
    "            u_u_sorted = u_u.argsort(axis = 1) #sorted in increasing order and returned the index values\n",
    "            m_m_sorted = m_m.argsort(axis = 1)\n",
    "\n",
    "            for j in range(u_u.shape[0]):\n",
    "                row = [int(uss[j]), int(mvs[j]), sample_train_averages['global']]\n",
    "\n",
    "                # compute the similar Users of the \"user\" and their ratings then find rating of corresponding \"movie\"\n",
    "                top_sim_users = u_u_sorted[j, :][::-1][1:]\n",
    "                top_ratings = sample_train_sparse_matrix[top_sim_users, mvs[j]].toarray().ravel()\n",
    "                top_sim_users_ratings = list(top_ratings[top_ratings != 0][:5]) #this will not have always lenght 5\n",
    "                # when it's lenght is not 5, putting other values as average rating of corresponing movies\n",
    "                top_sim_users_ratings.extend([sample_train_averages['movie'][mvs[j]]]*(5 - len(top_sim_users_ratings)))\n",
    "                        \n",
    "                #compute the similar movies of the \"movie\" and their ratings then find rating of corresponding \"user\"\n",
    "                top_sim_movies = m_m_sorted[j, :][::-1][1:]\n",
    "                top_ratings = sample_train_sparse_matrix[uss[j], top_sim_movies].toarray().ravel()\n",
    "                top_sim_movies_ratings = list(top_ratings[top_ratings != 0][:5])\n",
    "                top_sim_movies_ratings.extend([sample_train_averages['user'][uss[j]]]*(5-len(top_sim_movies_ratings))) \n",
    "\n",
    "                row = row + top_sim_users_ratings + top_sim_movies_ratings\n",
    "                row.append(sample_train_averages['user'][uss[j]])\n",
    "                row.append(sample_train_averages['movie'][mvs[j]])        \n",
    "                row.append(rts[j])\n",
    "\n",
    "                f.write(\",\".join(map(str, row)))\n",
    "                f.write(\"\\n\")\n",
    "\n",
    "            if (250*i % 10000 == 0) & (i != 0):\n",
    "                print(\"time taken for {} rows is {}\".format(250*i, datetime.now() - start))\n",
    "\n",
    "    print(\"time taken...\", datetime.now()-start)"
   ]
  },
  {
   "cell_type": "markdown",
   "metadata": {
    "colab_type": "text",
    "id": "k3xJ8aWyxrqj"
   },
   "source": [
    "__Reading from the file to make a Train_dataframe__"
   ]
  },
  {
   "cell_type": "code",
   "execution_count": 4,
   "metadata": {
    "colab": {
     "base_uri": "https://localhost:8080/",
     "height": 221
    },
    "colab_type": "code",
    "id": "oUs6s6AZxrqj",
    "outputId": "3e5a924b-1a29-496a-afdd-b65203eed30b"
   },
   "outputs": [
    {
     "name": "stdout",
     "output_type": "stream",
     "text": [
      "Shape of train data is:  (276144, 16)\n"
     ]
    },
    {
     "data": {
      "text/html": [
       "<div>\n",
       "<style scoped>\n",
       "    .dataframe tbody tr th:only-of-type {\n",
       "        vertical-align: middle;\n",
       "    }\n",
       "\n",
       "    .dataframe tbody tr th {\n",
       "        vertical-align: top;\n",
       "    }\n",
       "\n",
       "    .dataframe thead th {\n",
       "        text-align: right;\n",
       "    }\n",
       "</style>\n",
       "<table border=\"1\" class=\"dataframe\">\n",
       "  <thead>\n",
       "    <tr style=\"text-align: right;\">\n",
       "      <th></th>\n",
       "      <th>User_ID</th>\n",
       "      <th>Movie_ID</th>\n",
       "      <th>GAvg</th>\n",
       "      <th>sur1</th>\n",
       "      <th>sur2</th>\n",
       "      <th>sur3</th>\n",
       "      <th>sur4</th>\n",
       "      <th>sur5</th>\n",
       "      <th>smr1</th>\n",
       "      <th>smr2</th>\n",
       "      <th>smr3</th>\n",
       "      <th>smr4</th>\n",
       "      <th>smr5</th>\n",
       "      <th>UAvg</th>\n",
       "      <th>MAvg</th>\n",
       "      <th>Rating</th>\n",
       "    </tr>\n",
       "  </thead>\n",
       "  <tbody>\n",
       "    <tr>\n",
       "      <th>0</th>\n",
       "      <td>174683</td>\n",
       "      <td>10</td>\n",
       "      <td>3.540551</td>\n",
       "      <td>4.0</td>\n",
       "      <td>5.0</td>\n",
       "      <td>4.0</td>\n",
       "      <td>3.0</td>\n",
       "      <td>4.0</td>\n",
       "      <td>3.0</td>\n",
       "      <td>3.0</td>\n",
       "      <td>3.0</td>\n",
       "      <td>5.0</td>\n",
       "      <td>5.0</td>\n",
       "      <td>3.941176</td>\n",
       "      <td>4.111111</td>\n",
       "      <td>5</td>\n",
       "    </tr>\n",
       "    <tr>\n",
       "      <th>1</th>\n",
       "      <td>233949</td>\n",
       "      <td>10</td>\n",
       "      <td>3.540551</td>\n",
       "      <td>4.0</td>\n",
       "      <td>4.0</td>\n",
       "      <td>5.0</td>\n",
       "      <td>5.0</td>\n",
       "      <td>5.0</td>\n",
       "      <td>2.0</td>\n",
       "      <td>3.0</td>\n",
       "      <td>4.0</td>\n",
       "      <td>3.0</td>\n",
       "      <td>3.0</td>\n",
       "      <td>2.647059</td>\n",
       "      <td>4.111111</td>\n",
       "      <td>3</td>\n",
       "    </tr>\n",
       "    <tr>\n",
       "      <th>2</th>\n",
       "      <td>767518</td>\n",
       "      <td>10</td>\n",
       "      <td>3.540551</td>\n",
       "      <td>4.0</td>\n",
       "      <td>5.0</td>\n",
       "      <td>4.0</td>\n",
       "      <td>3.0</td>\n",
       "      <td>4.0</td>\n",
       "      <td>5.0</td>\n",
       "      <td>3.0</td>\n",
       "      <td>3.0</td>\n",
       "      <td>2.0</td>\n",
       "      <td>5.0</td>\n",
       "      <td>4.000000</td>\n",
       "      <td>4.111111</td>\n",
       "      <td>5</td>\n",
       "    </tr>\n",
       "    <tr>\n",
       "      <th>3</th>\n",
       "      <td>894393</td>\n",
       "      <td>10</td>\n",
       "      <td>3.540551</td>\n",
       "      <td>5.0</td>\n",
       "      <td>5.0</td>\n",
       "      <td>5.0</td>\n",
       "      <td>4.0</td>\n",
       "      <td>3.0</td>\n",
       "      <td>4.0</td>\n",
       "      <td>4.0</td>\n",
       "      <td>4.0</td>\n",
       "      <td>4.0</td>\n",
       "      <td>4.0</td>\n",
       "      <td>4.000000</td>\n",
       "      <td>4.111111</td>\n",
       "      <td>4</td>\n",
       "    </tr>\n",
       "    <tr>\n",
       "      <th>4</th>\n",
       "      <td>951907</td>\n",
       "      <td>10</td>\n",
       "      <td>3.540551</td>\n",
       "      <td>4.0</td>\n",
       "      <td>5.0</td>\n",
       "      <td>3.0</td>\n",
       "      <td>4.0</td>\n",
       "      <td>4.0</td>\n",
       "      <td>4.0</td>\n",
       "      <td>5.0</td>\n",
       "      <td>4.0</td>\n",
       "      <td>5.0</td>\n",
       "      <td>5.0</td>\n",
       "      <td>3.787234</td>\n",
       "      <td>4.111111</td>\n",
       "      <td>4</td>\n",
       "    </tr>\n",
       "  </tbody>\n",
       "</table>\n",
       "</div>"
      ],
      "text/plain": [
       "   User_ID  Movie_ID      GAvg  sur1  ...  smr5      UAvg      MAvg  Rating\n",
       "0   174683        10  3.540551   4.0  ...   5.0  3.941176  4.111111       5\n",
       "1   233949        10  3.540551   4.0  ...   3.0  2.647059  4.111111       3\n",
       "2   767518        10  3.540551   4.0  ...   5.0  4.000000  4.111111       5\n",
       "3   894393        10  3.540551   5.0  ...   4.0  4.000000  4.111111       4\n",
       "4   951907        10  3.540551   4.0  ...   5.0  3.787234  4.111111       4\n",
       "\n",
       "[5 rows x 16 columns]"
      ]
     },
     "execution_count": 4,
     "metadata": {
      "tags": []
     },
     "output_type": "execute_result"
    }
   ],
   "source": [
    "reg_train = pd.read_csv(d+'processed_data/reg_train.csv')\n",
    "print(\"Shape of train data is: \", reg_train.shape)\n",
    "reg_train.head()"
   ]
  },
  {
   "cell_type": "markdown",
   "metadata": {
    "colab_type": "text",
    "id": "e90d1zMCxrql"
   },
   "source": [
    "-----------------------\n",
    "\n",
    "- __GAvg__ : Average rating of all the ratings \n",
    "\n",
    "\n",
    "- __Similar user's rating for this movie__:\n",
    "    - sur1, sur2, sur3, sur4, sur5 ( top 5 similar users who rated that movie.. )\n",
    "    \n",
    "\n",
    "\n",
    "- __Similar movies rated by this user__:\n",
    "    - smr1, smr2, smr3, smr4, smr5 ( top 5 similar movies rated by this user.. )\n",
    "\n",
    "\n",
    "- __UAvg__ : User's Average rating\n",
    "\n",
    "\n",
    "- __MAvg__ : Average rating of this movie\n",
    "\n",
    "\n",
    "- __rating__ : Rating of this movie by this user.\n",
    "\n",
    "-----------------------"
   ]
  },
  {
   "cell_type": "markdown",
   "metadata": {
    "colab_type": "text",
    "id": "r9vMR-Edxrqm"
   },
   "source": [
    "#### **4.3.1.2 Featurizing test data**"
   ]
  },
  {
   "cell_type": "code",
   "execution_count": 0,
   "metadata": {
    "colab": {},
    "colab_type": "code",
    "id": "M2QBhCcMxrqm"
   },
   "outputs": [],
   "source": [
    "# get users, movies and ratings from the Sampled Test \n",
    "sample_test_users, sample_test_movies, sample_test_ratings = sparse.find(sample_test_sparse_matrix)"
   ]
  },
  {
   "cell_type": "code",
   "execution_count": 0,
   "metadata": {
    "colab": {
     "base_uri": "https://localhost:8080/",
     "height": 34
    },
    "colab_type": "code",
    "id": "nDL4-uKcxrqo",
    "outputId": "08971d18-f83b-4ea4-9fe9-cc4a2254c4eb",
    "scrolled": true
   },
   "outputs": [
    {
     "data": {
      "text/plain": [
       "3.5405513065646907"
      ]
     },
     "execution_count": 17,
     "metadata": {
      "tags": []
     },
     "output_type": "execute_result"
    }
   ],
   "source": [
    "sample_train_averages['global']"
   ]
  },
  {
   "cell_type": "code",
   "execution_count": 0,
   "metadata": {
    "colab": {
     "base_uri": "https://localhost:8080/",
     "height": 425
    },
    "colab_type": "code",
    "id": "CLVejZA3xrqs",
    "outputId": "0e6a600b-f388-40ce-c512-73095ed09bbc"
   },
   "outputs": [
    {
     "name": "stdout",
     "output_type": "stream",
     "text": [
      "preparing 19273 tuples for the dataset..\n",
      "\n",
      "Done for 1000 rows----- 0:03:22.227455\n",
      "Done for 2000 rows----- 0:06:43.349043\n",
      "Done for 3000 rows----- 0:10:05.000664\n",
      "Done for 4000 rows----- 0:13:26.865457\n",
      "Done for 5000 rows----- 0:16:49.880664\n",
      "Done for 6000 rows----- 0:20:13.308760\n",
      "Done for 7000 rows----- 0:23:37.138507\n",
      "Done for 8000 rows----- 0:27:00.507193\n",
      "Done for 9000 rows----- 0:30:24.933948\n",
      "Done for 10000 rows----- 0:33:48.504671\n",
      "Done for 11000 rows----- 0:37:11.847183\n",
      "Done for 12000 rows----- 0:40:35.355329\n",
      "Done for 13000 rows----- 0:43:59.515224\n",
      "Done for 14000 rows----- 0:47:22.489778\n",
      "Done for 15000 rows----- 0:50:47.215184\n",
      "Done for 16000 rows----- 0:54:09.206695\n",
      "Done for 17000 rows----- 0:57:31.190781\n",
      "Done for 18000 rows----- 1:00:51.945932\n",
      "Done for 19000 rows----- 1:04:13.043472\n",
      "\n",
      "Done.\n",
      "Total time taken to prepare the test data--- 1:05:07.472610\n"
     ]
    }
   ],
   "source": [
    " if os.path.isfile(d+'processed_data/reg_test.csv'):\n",
    "    print(\"It is already created...\")\n",
    "else:\n",
    "    start = datetime.now()\n",
    "    print('preparing {} tuples for the dataset..\\n'.format(len(sample_test_ratings)))\n",
    "    with open(d+'processed_data/reg_test.csv', mode='w') as reg_data_file:\n",
    "        cols = [\"User_ID\", \"Movie_ID\", \"GAvg\"] \n",
    "        cols = cols + [\"sur\"+str(i) for i in range(1,6)] + [\"smr\"+str(i) for i in range(1,6)] \n",
    "        cols = cols + [\"UAvg\", \"MAvg\", \"Rating\"]\n",
    "\n",
    "        reg_data_file.write(\",\".join(cols))\n",
    "        reg_data_file.write(\"\\n\")\n",
    "\n",
    "        count = 0 \n",
    "        for (user, movie, rating)  in zip(sample_test_users, sample_test_movies, sample_test_ratings):\n",
    "            st = datetime.now()\n",
    "\n",
    "        #--------------------- Ratings of \"movie\" by similar users of \"user\" ---------------------\n",
    "            #print(user, movie)\n",
    "            try:\n",
    "                # compute the similar Users of the \"user\"        \n",
    "                user_sim = cosine_similarity(sample_train_sparse_matrix[user], sample_train_sparse_matrix).ravel()\n",
    "                top_sim_users = user_sim.argsort()[::-1][1:] # we are ignoring 'The User' from its similar users.\n",
    "                # get the ratings of most similar users for this movie\n",
    "                top_ratings = sample_train_sparse_matrix[top_sim_users, movie].toarray().ravel()\n",
    "                # we will make it's length \"5\" by adding movie averages to .\n",
    "                top_sim_users_ratings = list(top_ratings[top_ratings != 0][:5])\n",
    "                top_sim_users_ratings.extend([sample_train_averages['movie'][movie]]*(5 - len(top_sim_users_ratings)))\n",
    "                # print(top_sim_users_ratings, end=\"--\")\n",
    "\n",
    "            except (IndexError, KeyError):\n",
    "                # It is a new User or new Movie or there are no ratings for given user for top similar movies...\n",
    "                ########## Cold STart Problem ##########\n",
    "                top_sim_users_ratings.extend([sample_train_averages['global']]*(5 - len(top_sim_users_ratings)))\n",
    "                #print(top_sim_users_ratings)\n",
    "            except:\n",
    "                print(user, movie)\n",
    "                # we just want KeyErrors to be resolved. Not every Exception...\n",
    "                raise\n",
    "\n",
    "\n",
    "\n",
    "            #--------------------- Ratings by \"user\"  to similar movies of \"movie\" ---------------------\n",
    "            try:\n",
    "                # compute the similar movies of the \"movie\"        \n",
    "                movie_sim = cosine_similarity(sample_train_sparse_matrix[:,movie].T, sample_train_sparse_matrix.T).ravel()\n",
    "                top_sim_movies = movie_sim.argsort()[::-1][1:] # we are ignoring 'The User' from its similar users.\n",
    "                # get the ratings of most similar movie rated by this user..\n",
    "                top_ratings = sample_train_sparse_matrix[user, top_sim_movies].toarray().ravel()\n",
    "                # we will make it's length \"5\" by adding user averages to.\n",
    "                top_sim_movies_ratings = list(top_ratings[top_ratings != 0][:5])\n",
    "                top_sim_movies_ratings.extend([sample_train_averages['user'][user]]*(5-len(top_sim_movies_ratings))) \n",
    "                #print(top_sim_movies_ratings)\n",
    "            except (IndexError, KeyError):\n",
    "                #print(top_sim_movies_ratings, end=\" : -- \")\n",
    "                top_sim_movies_ratings.extend([sample_train_averages['global']]*(5-len(top_sim_movies_ratings)))\n",
    "                #print(top_sim_movies_ratings)\n",
    "            except :\n",
    "                raise\n",
    "\n",
    "            #-----------------prepare the row to be stores in a file-----------------#\n",
    "            row = list()\n",
    "            # add usser and movie name first\n",
    "            row.append(user)\n",
    "            row.append(movie)\n",
    "            row.append(sample_train_averages['global']) # first feature\n",
    "            #print(row)\n",
    "            # next 5 features are similar_users \"movie\" ratings\n",
    "            row.extend(top_sim_users_ratings)\n",
    "            #print(row)\n",
    "            # next 5 features are \"user\" ratings for similar_movies\n",
    "            row.extend(top_sim_movies_ratings)\n",
    "            #print(row)\n",
    "            # Avg_user rating\n",
    "            try:\n",
    "                row.append(sample_train_averages['user'][user])\n",
    "            except KeyError:\n",
    "                row.append(sample_train_averages['global'])\n",
    "            except:\n",
    "                raise\n",
    "            #print(row)\n",
    "            # Avg_movie rating\n",
    "            try:\n",
    "                row.append(sample_train_averages['movie'][movie])\n",
    "            except KeyError:\n",
    "                row.append(sample_train_averages['global'])\n",
    "            except:\n",
    "                raise\n",
    "            #print(row)\n",
    "            # finalley, The actual Rating of this user-movie pair...\n",
    "            row.append(rating)\n",
    "            #print(row)\n",
    "            count = count + 1\n",
    "\n",
    "            # add rows to the file opened..\n",
    "            reg_data_file.write(','.join(map(str, row)))\n",
    "            #print(','.join(map(str, row)))\n",
    "            reg_data_file.write('\\n')        \n",
    "            if (count)%1000 == 0:\n",
    "                #print(','.join(map(str, row)))\n",
    "                print(\"Done for {} rows----- {}\".format(count, datetime.now() - start))\n",
    "    print(\"\\nDone.\\nTotal time taken to prepare the test data---\",datetime.now() - start)  "
   ]
  },
  {
   "cell_type": "markdown",
   "metadata": {
    "colab_type": "text",
    "id": "RgiFyKukxrqu"
   },
   "source": [
    "__Reading from the file to make a test dataframe__"
   ]
  },
  {
   "cell_type": "code",
   "execution_count": 5,
   "metadata": {
    "colab": {
     "base_uri": "https://localhost:8080/",
     "height": 210
    },
    "colab_type": "code",
    "id": "7mhv5Rztxrqv",
    "outputId": "8bb656fa-f307-4d94-a452-6216ded15956"
   },
   "outputs": [
    {
     "name": "stdout",
     "output_type": "stream",
     "text": [
      "Shape of test data: (19273, 16)\n"
     ]
    },
    {
     "data": {
      "text/html": [
       "<div>\n",
       "<style scoped>\n",
       "    .dataframe tbody tr th:only-of-type {\n",
       "        vertical-align: middle;\n",
       "    }\n",
       "\n",
       "    .dataframe tbody tr th {\n",
       "        vertical-align: top;\n",
       "    }\n",
       "\n",
       "    .dataframe thead th {\n",
       "        text-align: right;\n",
       "    }\n",
       "</style>\n",
       "<table border=\"1\" class=\"dataframe\">\n",
       "  <thead>\n",
       "    <tr style=\"text-align: right;\">\n",
       "      <th></th>\n",
       "      <th>User_ID</th>\n",
       "      <th>Movie_ID</th>\n",
       "      <th>GAvg</th>\n",
       "      <th>sur1</th>\n",
       "      <th>sur2</th>\n",
       "      <th>sur3</th>\n",
       "      <th>sur4</th>\n",
       "      <th>sur5</th>\n",
       "      <th>smr1</th>\n",
       "      <th>smr2</th>\n",
       "      <th>smr3</th>\n",
       "      <th>smr4</th>\n",
       "      <th>smr5</th>\n",
       "      <th>UAvg</th>\n",
       "      <th>MAvg</th>\n",
       "      <th>Rating</th>\n",
       "    </tr>\n",
       "  </thead>\n",
       "  <tbody>\n",
       "    <tr>\n",
       "      <th>0</th>\n",
       "      <td>808635</td>\n",
       "      <td>71</td>\n",
       "      <td>3.540551</td>\n",
       "      <td>3.540551</td>\n",
       "      <td>3.540551</td>\n",
       "      <td>3.540551</td>\n",
       "      <td>3.540551</td>\n",
       "      <td>3.540551</td>\n",
       "      <td>3.540551</td>\n",
       "      <td>3.540551</td>\n",
       "      <td>3.540551</td>\n",
       "      <td>3.540551</td>\n",
       "      <td>3.540551</td>\n",
       "      <td>3.540551</td>\n",
       "      <td>3.540551</td>\n",
       "      <td>5</td>\n",
       "    </tr>\n",
       "    <tr>\n",
       "      <th>1</th>\n",
       "      <td>898730</td>\n",
       "      <td>71</td>\n",
       "      <td>3.540551</td>\n",
       "      <td>3.540551</td>\n",
       "      <td>3.540551</td>\n",
       "      <td>3.540551</td>\n",
       "      <td>3.540551</td>\n",
       "      <td>3.540551</td>\n",
       "      <td>3.540551</td>\n",
       "      <td>3.540551</td>\n",
       "      <td>3.540551</td>\n",
       "      <td>3.540551</td>\n",
       "      <td>3.540551</td>\n",
       "      <td>3.540551</td>\n",
       "      <td>3.540551</td>\n",
       "      <td>3</td>\n",
       "    </tr>\n",
       "    <tr>\n",
       "      <th>2</th>\n",
       "      <td>941866</td>\n",
       "      <td>71</td>\n",
       "      <td>3.540551</td>\n",
       "      <td>3.540551</td>\n",
       "      <td>3.540551</td>\n",
       "      <td>3.540551</td>\n",
       "      <td>3.540551</td>\n",
       "      <td>3.540551</td>\n",
       "      <td>3.540551</td>\n",
       "      <td>3.540551</td>\n",
       "      <td>3.540551</td>\n",
       "      <td>3.540551</td>\n",
       "      <td>3.540551</td>\n",
       "      <td>3.540551</td>\n",
       "      <td>3.540551</td>\n",
       "      <td>4</td>\n",
       "    </tr>\n",
       "    <tr>\n",
       "      <th>3</th>\n",
       "      <td>1280761</td>\n",
       "      <td>71</td>\n",
       "      <td>3.540551</td>\n",
       "      <td>3.540551</td>\n",
       "      <td>3.540551</td>\n",
       "      <td>3.540551</td>\n",
       "      <td>3.540551</td>\n",
       "      <td>3.540551</td>\n",
       "      <td>3.540551</td>\n",
       "      <td>3.540551</td>\n",
       "      <td>3.540551</td>\n",
       "      <td>3.540551</td>\n",
       "      <td>3.540551</td>\n",
       "      <td>3.540551</td>\n",
       "      <td>3.540551</td>\n",
       "      <td>1</td>\n",
       "    </tr>\n",
       "  </tbody>\n",
       "</table>\n",
       "</div>"
      ],
      "text/plain": [
       "   User_ID  Movie_ID      GAvg      sur1  ...      smr5      UAvg      MAvg  Rating\n",
       "0   808635        71  3.540551  3.540551  ...  3.540551  3.540551  3.540551       5\n",
       "1   898730        71  3.540551  3.540551  ...  3.540551  3.540551  3.540551       3\n",
       "2   941866        71  3.540551  3.540551  ...  3.540551  3.540551  3.540551       4\n",
       "3  1280761        71  3.540551  3.540551  ...  3.540551  3.540551  3.540551       1\n",
       "\n",
       "[4 rows x 16 columns]"
      ]
     },
     "execution_count": 5,
     "metadata": {
      "tags": []
     },
     "output_type": "execute_result"
    }
   ],
   "source": [
    "reg_test_df = pd.read_csv(d+'processed_data/reg_test.csv')\n",
    "print(\"Shape of test data:\", reg_test_df.shape)\n",
    "reg_test_df.head(4)"
   ]
  },
  {
   "cell_type": "markdown",
   "metadata": {
    "colab_type": "text",
    "id": "_vWmzUruxrqx"
   },
   "source": [
    "-----------------------\n",
    "\n",
    "- __GAvg__ : Average rating of all the ratings \n",
    "\n",
    "\n",
    "- __Similar users rating of this movie__:\n",
    "    - sur1, sur2, sur3, sur4, sur5 ( top 5 simiular users who rated that movie.. )\n",
    "    \n",
    "\n",
    "\n",
    "- __Similar movies rated by this user__:\n",
    "    - smr1, smr2, smr3, smr4, smr5 ( top 5 simiular movies rated by this movie.. )\n",
    "\n",
    "\n",
    "- __UAvg__ : User AVerage rating\n",
    "\n",
    "\n",
    "- __MAvg__ : Average rating of this movie\n",
    "\n",
    "\n",
    "- __rating__ : Rating of this movie by this user.\n",
    "\n",
    "-----------------------"
   ]
  },
  {
   "cell_type": "markdown",
   "metadata": {
    "colab_type": "text",
    "id": "tLaiV_tZxrqy"
   },
   "source": [
    "### **4.3.2 Transforming data for Surprise models**"
   ]
  },
  {
   "cell_type": "code",
   "execution_count": 0,
   "metadata": {
    "colab": {},
    "colab_type": "code",
    "id": "2d2vQJ5lxrqy"
   },
   "outputs": [],
   "source": [
    "try:\n",
    "    from surprise import Reader, Dataset\n",
    "except:\n",
    "    !pip3 install scikit-surprise\n",
    "    from surprise import Reader, Dataset"
   ]
  },
  {
   "cell_type": "markdown",
   "metadata": {
    "colab_type": "text",
    "id": "YzeK0zA9xrq0"
   },
   "source": [
    "### **4.3.2.1 Transforming train data**"
   ]
  },
  {
   "cell_type": "markdown",
   "metadata": {
    "colab_type": "text",
    "id": "0l0rgL1qxrq1"
   },
   "source": [
    "- We can't give raw data (movie, user, rating) to train the model in Surprise library.\n",
    "\n",
    "\n",
    "- They have a saperate format for TRAIN and TEST data, which will be useful for training the models like SVD, KNNBaseLineOnly....etc..,in Surprise.\n",
    "\n",
    "\n",
    "- We can form the trainset from a file, or from a Pandas  DataFrame. \n",
    "http://surprise.readthedocs.io/en/stable/getting_started.html#load-dom-dataframe-py "
   ]
  },
  {
   "cell_type": "code",
   "execution_count": 0,
   "metadata": {
    "colab": {},
    "colab_type": "code",
    "id": "z9TA98dwxrq1"
   },
   "outputs": [],
   "source": [
    "# It is to specify how to read the dataframe.\n",
    "# for our dataframe, we don't have to specify anything extra..\n",
    "reader = Reader(rating_scale=(1,5))\n",
    "\n",
    "# create the traindata from the dataframe...\n",
    "train_data = Dataset.load_from_df(reg_train[[\"User_ID\", \"Movie_ID\", \"Rating\"]], reader)\n",
    "\n",
    "# build the trainset from traindata.., It is of dataset format from surprise library..\n",
    "trainset = train_data.build_full_trainset() "
   ]
  },
  {
   "cell_type": "markdown",
   "metadata": {
    "colab_type": "text",
    "id": "6OTXxLz-xrq2"
   },
   "source": [
    "#### **4.3.2.2 Transforming test data**"
   ]
  },
  {
   "cell_type": "markdown",
   "metadata": {
    "colab_type": "text",
    "id": "iwKbEi_uxrq2"
   },
   "source": [
    "- Testset is just a list of (user, movie, rating) tuples. (Order in the tuple is impotant) "
   ]
  },
  {
   "cell_type": "code",
   "execution_count": 8,
   "metadata": {
    "colab": {
     "base_uri": "https://localhost:8080/",
     "height": 34
    },
    "colab_type": "code",
    "id": "v3jqrt6lxrq2",
    "outputId": "d5ef6791-6168-42b6-ed6b-fcd117c5c586"
   },
   "outputs": [
    {
     "data": {
      "text/plain": [
       "[(808635, 71, 5), (898730, 71, 3), (941866, 71, 4)]"
      ]
     },
     "execution_count": 8,
     "metadata": {
      "tags": []
     },
     "output_type": "execute_result"
    }
   ],
   "source": [
    "testset = list(zip(reg_test_df[\"User_ID\"].values, reg_test_df[\"Movie_ID\"].values, reg_test_df[\"Rating\"].values))\n",
    "testset[:3]"
   ]
  },
  {
   "cell_type": "markdown",
   "metadata": {
    "colab_type": "text",
    "id": "ZzgDaBL_xrq8"
   },
   "source": [
    "## **4.4 Applying Machine Learning models**"
   ]
  },
  {
   "cell_type": "markdown",
   "metadata": {
    "colab_type": "text",
    "id": "YRL_TP7axrq9"
   },
   "source": [
    "-  Global dictionary that stores rmse and mape for all the models....\n",
    "\n",
    "    - It stores the metrics in a dictionary of dictionaries\n",
    "\n",
    "    > __keys__ : model names(string)\n",
    "\n",
    "    > __value__: dict(__key__ : metric, __value__ : value ) "
   ]
  },
  {
   "cell_type": "code",
   "execution_count": 9,
   "metadata": {
    "colab": {
     "base_uri": "https://localhost:8080/",
     "height": 34
    },
    "colab_type": "code",
    "id": "9sKjPQMExrq9",
    "outputId": "f545b79d-1df0-4f3f-8112-ff2524026c1b"
   },
   "outputs": [
    {
     "data": {
      "text/plain": [
       "({}, {})"
      ]
     },
     "execution_count": 9,
     "metadata": {
      "tags": []
     },
     "output_type": "execute_result"
    }
   ],
   "source": [
    "models_evaluation_train = dict()\n",
    "models_evaluation_test = dict()\n",
    "\n",
    "models_evaluation_train, models_evaluation_test"
   ]
  },
  {
   "cell_type": "markdown",
   "metadata": {
    "colab_type": "text",
    "id": "Cg4ii0eRxrrB"
   },
   "source": [
    "### __4.4.i Utility functions for running regression models__"
   ]
  },
  {
   "cell_type": "code",
   "execution_count": 0,
   "metadata": {
    "colab": {},
    "colab_type": "code",
    "id": "X2vHdl5ZGA0D"
   },
   "outputs": [],
   "source": [
    "from sklearn.model_selection import RandomizedSearchCV\n",
    "import xgboost as xgb\n",
    "import pickle\n",
    "\n",
    "# to get rmse and mape given actual and predicted ratings..\n",
    "def get_error_metrics(y_true, y_pred):\n",
    "    rmse = np.sqrt(np.mean([ (y_true[i] - y_pred[i])**2 for i in range(len(y_pred)) ]))\n",
    "    mape = np.mean(np.abs( (y_true - y_pred)/y_true )) * 100\n",
    "    return rmse, mape\n",
    "\n",
    "#####################################################################################\n",
    "##################        function to tune the XGBoost model      ###################\n",
    "#####################################################################################\n",
    "\n",
    "def tune_XGBoost(x_train, y_train, x_test,  y_test):\n",
    "    \"\"\"This function will print the best parameters, best score, and best estimator.\n",
    "     It will return best estimator for XGBoost model depending on given hyper-parameters\"\"\"\n",
    "    hyper_parameters = {\"max_depth\": [1,2,3,4,5,6,7,8,9,10],\n",
    "                        \"n_estimators\": [50, 100, 200, 350, 500, 800, 1000],\n",
    "                        \"learning_rate\": [0.0001,0.001, 0.01, 0.1, 1]}\n",
    "    XGBoost = xgb.XGBRegressor(random_state=15, n_jobs=-1)\n",
    "    model = RandomizedSearchCV(XGBoost, hyper_parameters,scoring = \"neg_mean_squared_error\",\n",
    "                               cv = 3, n_jobs = -1)\n",
    "    print(\"Tunning the model...\\n\")\n",
    "    start = datetime.now()\n",
    "    model.fit(x_train, y_train)\n",
    "    print(\"\\nDone.\")\n",
    "    print(\"Time taken to tune the model = {}\".format(datetime.now() - start))\n",
    "\n",
    "    print(\"\\nBest score (MSE) for tunned model is:\", -model.best_score_)\n",
    "    print(\"\\nBest parameters for XBGoost...\")\n",
    "    print(model.best_params_)\n",
    "\n",
    "    algo = model.best_estimator_\n",
    "    print(\"\\nSo the best model is:\")\n",
    "    print(algo)\n",
    "\n",
    "    return algo\n",
    "\n",
    "#####################################################################################\n",
    "####################  funtion to train and save XGBoost model  ######################\n",
    "#####################################################################################\n",
    "\n",
    "def run_xgboost(x_train, y_train, x_test, y_test, path, name = \"first\", verbose=True):\n",
    "    \"\"\"\n",
    "    It will save and return the trained mode\n",
    "    \"\"\"\n",
    "    #tunning the model\n",
    "    algo = tune_XGBoost(x_train, y_train, x_test, y_test)\n",
    "    \n",
    "    # fit the model\n",
    "    print('\\n\\nNow training the model..')\n",
    "    start =datetime.now()\n",
    "    algo.fit(x_train, y_train, eval_metric = 'rmse')\n",
    "    print('Done \\n')\n",
    "    print('Time taken : {}\\n'.format(datetime.now()-start))\n",
    "\n",
    "    print(\"\\nSaving the trained model for further use....\")\n",
    "    file_name = path+str(name)+\"_xgboost.pkl\"\n",
    "    with open(file_name, 'wb') as f:\n",
    "        pickle.dump(algo, f)\n",
    "\n",
    "    # return these train and test results...\n",
    "    return algo\n",
    "\n",
    "#####################################################################################\n",
    "####################    funtion to report the trained model    ######################\n",
    "#####################################################################################\n",
    "\n",
    "def report_xgboost(algo, x_train, y_train, x_test, y_test, verbose = True):\n",
    "\n",
    "    # dictionaries for storing train and test results\n",
    "    train_results = dict()\n",
    "    test_results = dict()\n",
    "    # from the trained model, get the predictions....\n",
    "    print('\\n\\nEvaluating the model with TRAIN data...')\n",
    "    start =datetime.now()\n",
    "    y_train_pred = algo.predict(x_train)\n",
    "    # get the rmse and mape of train data...\n",
    "    rmse_train, mape_train = get_error_metrics(y_train.values, y_train_pred)\n",
    "    \n",
    "    # store the results in train_results dictionary..\n",
    "    train_results = {'rmse': rmse_train,\n",
    "                    'mape' : mape_train,\n",
    "                    'predictions' : y_train_pred}\n",
    "    \n",
    "    #######################################\n",
    "    # get the test data predictions and compute rmse and mape\n",
    "    print('Evaluating Test data')\n",
    "    y_test_pred = algo.predict(x_test) \n",
    "    rmse_test, mape_test = get_error_metrics(y_true=y_test.values, y_pred=y_test_pred)\n",
    "    # store them in our test results dictionary.\n",
    "    test_results = {'rmse': rmse_test,\n",
    "                    'mape' : mape_test,\n",
    "                    'predictions':y_test_pred}\n",
    "    if verbose:\n",
    "        print('\\nTEST DATA')\n",
    "        print('-'*30)\n",
    "        print('RMSE : ', rmse_test)\n",
    "        print('MAPE : ', mape_test)\n",
    "\n",
    "    print(\"\\nLet's see the Feature Importance Plot...\\n\")\n",
    "    plt.figure(figsize = (10, 12))\n",
    "    ax1 = plt.subplot(111)\n",
    "    # xgb plotting: https://xgboost.readthedocs.io/en/latest/python/python_api.html#module-xgboost.plotting\n",
    "    xgb.plot_importance(algo, height = 0.4,  xlabel='Feature score', ax = ax1)\n",
    "    ax1.set_title(\"Feature Importance\", fontsize = 18)\n",
    "    ax1.set_xlabel(\"Feature Score\", fontsize = 15)\n",
    "    ax1.set_ylabel(\"Features\", fontsize = 15)\n",
    "    plt.show()\n",
    "\n",
    "    return train_results, test_results\n"
   ]
  },
  {
   "cell_type": "markdown",
   "metadata": {
    "colab_type": "text",
    "id": "eABdBWP_xrrF"
   },
   "source": [
    "### __4.4.ii Utility functions for Surprise modes__"
   ]
  },
  {
   "cell_type": "code",
   "execution_count": 0,
   "metadata": {
    "colab": {},
    "colab_type": "code",
    "id": "b9B1gLPvxrrG"
   },
   "outputs": [],
   "source": [
    "# it is just to makesure that all of our algorithms should produce same results\n",
    "# everytime they run...\n",
    "\n",
    "my_seed = 15\n",
    "random.seed(my_seed)\n",
    "np.random.seed(my_seed)\n",
    "\n",
    "##########################################################\n",
    "# get  (actual_list , predicted_list) ratings given list \n",
    "# of predictions (prediction is a class in Surprise).    \n",
    "##########################################################\n",
    "def get_ratings(predictions):\n",
    "    actual = np.array([pred.r_ui for pred in predictions])\n",
    "    pred = np.array([pred.est for pred in predictions])\n",
    "    \n",
    "    return actual, pred\n",
    "\n",
    "################################################################\n",
    "# get ''rmse'' and ''mape'' , given list of prediction objecs \n",
    "################################################################\n",
    "def get_errors(predictions, print_them=False):\n",
    "\n",
    "    actual, pred = get_ratings(predictions)\n",
    "    rmse = np.sqrt(np.mean((pred - actual)**2))\n",
    "    mape = np.mean(np.abs(pred - actual)/actual)\n",
    "\n",
    "    return rmse, mape*100\n",
    "\n",
    "##################################################################################\n",
    "# It will return predicted ratings, rmse and mape of both train and test data   #\n",
    "##################################################################################\n",
    "def run_surprise(algo, trainset, testset, verbose=True): \n",
    "    '''\n",
    "        return train_dict, test_dict\n",
    "    \n",
    "        It returns two dictionaries, one for train and the other is for test\n",
    "        Each of them have 3 key-value pairs, which specify ''rmse'', ''mape'', and ''predicted ratings''.\n",
    "    '''\n",
    "    start = datetime.now()\n",
    "    # dictionaries that stores metrics for train and test..\n",
    "    train = dict()\n",
    "    test = dict()\n",
    "    \n",
    "    # train the algorithm with the trainset\n",
    "    st = datetime.now()\n",
    "    print('Training the model...')\n",
    "    algo.fit(trainset)\n",
    "    print('Done. time taken : {} \\n'.format(datetime.now()-st))\n",
    "    \n",
    "    # ---------------- Evaluating train data--------------------#\n",
    "    st = datetime.now()\n",
    "    print('Evaluating the model with train data..')\n",
    "    # get the train predictions (list of prediction class inside Surprise)\n",
    "    train_preds = algo.test(trainset.build_testset())\n",
    "    # get predicted ratings from the train predictions..\n",
    "    train_actual_ratings, train_pred_ratings = get_ratings(train_preds)\n",
    "    # get ''rmse'' and ''mape'' from the train predictions.\n",
    "    train_rmse, train_mape = get_errors(train_preds)\n",
    "    print('time taken : {}'.format(datetime.now()-st))\n",
    "    \n",
    "    if verbose:\n",
    "        print('-'*15)\n",
    "        print('Train Data')\n",
    "        print('-'*15)\n",
    "        print(\"RMSE : {}\\n\\nMAPE : {}\\n\".format(train_rmse, train_mape))\n",
    "    \n",
    "    #store them in the train dictionary\n",
    "    if verbose:\n",
    "        print('adding train results in the dictionary..')\n",
    "    train['rmse'] = train_rmse\n",
    "    train['mape'] = train_mape\n",
    "    train['predictions'] = train_pred_ratings\n",
    "    \n",
    "    #------------ Evaluating Test data---------------#\n",
    "    st = datetime.now()\n",
    "    print('\\nEvaluating for test data...')\n",
    "    # get the predictions( list of prediction classes) of test data\n",
    "    test_preds = algo.test(testset)\n",
    "    # get the predicted ratings from the list of predictions\n",
    "    test_actual_ratings, test_pred_ratings = get_ratings(test_preds)\n",
    "    # get error metrics from the predicted and actual ratings\n",
    "    test_rmse, test_mape = get_errors(test_preds)\n",
    "    print('time taken : {}'.format(datetime.now()-st))\n",
    "    \n",
    "    if verbose:\n",
    "        print('-'*15)\n",
    "        print('Test Data')\n",
    "        print('-'*15)\n",
    "        print(\"RMSE : {}\\n\\nMAPE : {}\\n\".format(test_rmse, test_mape))\n",
    "    # store them in test dictionary\n",
    "    if verbose:\n",
    "        print('storing the test results in test dictionary...')\n",
    "    test['rmse'] = test_rmse\n",
    "    test['mape'] = test_mape\n",
    "    test['predictions'] = test_pred_ratings\n",
    "    \n",
    "    print('\\n'+'-'*45)\n",
    "    print('Total time taken to run this algorithm :', datetime.now() - start)\n",
    "    \n",
    "    # return two dictionaries train and test\n",
    "    return train, test"
   ]
  },
  {
   "cell_type": "markdown",
   "metadata": {
    "colab_type": "text",
    "id": "Jh6CNDb1xrrI"
   },
   "source": [
    "### **4.4.1 XGBoost with initial 13 features**"
   ]
  },
  {
   "cell_type": "code",
   "execution_count": 0,
   "metadata": {
    "colab": {},
    "colab_type": "code",
    "id": "Gac5nHKbwZWm"
   },
   "outputs": [],
   "source": [
    "# prepare Train data\n",
    "x_train = reg_train.drop([\"User_ID\", \"Movie_ID\", \"Rating\"], axis=1)\n",
    "y_train = reg_train['Rating']\n",
    "\n",
    "# Prepare Test data\n",
    "x_test = reg_test_df.drop([\"User_ID\", \"Movie_ID\", \"Rating\"], axis=1)\n",
    "y_test = reg_test_df['Rating']"
   ]
  },
  {
   "cell_type": "code",
   "execution_count": 18,
   "metadata": {
    "colab": {
     "base_uri": "https://localhost:8080/",
     "height": 734
    },
    "colab_type": "code",
    "id": "s0j_pqMKaS8-",
    "outputId": "e90550b0-45e4-4126-a6d3-d7dd8bcbe534"
   },
   "outputs": [
    {
     "name": "stdout",
     "output_type": "stream",
     "text": [
      "Tunning the model...\n",
      "\n"
     ]
    },
    {
     "name": "stderr",
     "output_type": "stream",
     "text": [
      "/usr/local/lib/python3.6/dist-packages/xgboost/core.py:587: FutureWarning: Series.base is deprecated and will be removed in a future version\n",
      "  if getattr(data, 'base', None) is not None and \\\n",
      "/usr/local/lib/python3.6/dist-packages/xgboost/core.py:588: FutureWarning: Series.base is deprecated and will be removed in a future version\n",
      "  data.base is not None and isinstance(data, np.ndarray) \\\n"
     ]
    },
    {
     "name": "stdout",
     "output_type": "stream",
     "text": [
      "[05:50:05] WARNING: /workspace/src/objective/regression_obj.cu:152: reg:linear is now deprecated in favor of reg:squarederror.\n",
      "\n",
      "Done.\n",
      "Time taken to tune the model = 0:17:49.592765\n",
      "\n",
      "Best score (MSE) for tunned model is: 0.7271120445823536\n",
      "\n",
      "Best parameters for XBGoost...\n",
      "{'n_estimators': 800, 'max_depth': 6, 'learning_rate': 0.01}\n",
      "\n",
      "So the best model is:\n",
      "XGBRegressor(base_score=0.5, booster='gbtree', colsample_bylevel=1,\n",
      "             colsample_bynode=1, colsample_bytree=1, gamma=0,\n",
      "             importance_type='gain', learning_rate=0.01, max_delta_step=0,\n",
      "             max_depth=6, min_child_weight=1, missing=None, n_estimators=800,\n",
      "             n_jobs=-1, nthread=None, objective='reg:linear', random_state=15,\n",
      "             reg_alpha=0, reg_lambda=1, scale_pos_weight=1, seed=None,\n",
      "             silent=None, subsample=1, verbosity=1)\n",
      "\n",
      "\n",
      "Now training the model..\n",
      "[05:52:09] WARNING: /workspace/src/objective/regression_obj.cu:152: reg:linear is now deprecated in favor of reg:squarederror.\n",
      "Done \n",
      "\n",
      "Time taken : 0:02:03.050379\n",
      "\n",
      "\n",
      "Saving the trained model for further use....\n"
     ]
    },
    {
     "data": {
      "text/plain": [
       "XGBRegressor(base_score=0.5, booster='gbtree', colsample_bylevel=1,\n",
       "             colsample_bynode=1, colsample_bytree=1, gamma=0,\n",
       "             importance_type='gain', learning_rate=0.01, max_delta_step=0,\n",
       "             max_depth=6, min_child_weight=1, missing=None, n_estimators=800,\n",
       "             n_jobs=-1, nthread=None, objective='reg:linear', random_state=15,\n",
       "             reg_alpha=0, reg_lambda=1, scale_pos_weight=1, seed=None,\n",
       "             silent=None, subsample=1, verbosity=1)"
      ]
     },
     "execution_count": 18,
     "metadata": {
      "tags": []
     },
     "output_type": "execute_result"
    }
   ],
   "source": [
    "run_xgboost(x_train, y_train, x_test, y_test, path = d+\"model/\",name = \"first\")"
   ]
  },
  {
   "cell_type": "code",
   "execution_count": 14,
   "metadata": {
    "colab": {
     "base_uri": "https://localhost:8080/",
     "height": 977
    },
    "colab_type": "code",
    "id": "FkUbVbBjlqgw",
    "outputId": "daf3bf16-aab7-4ef9-aa60-6c0c7f4f4b9d"
   },
   "outputs": [
    {
     "name": "stdout",
     "output_type": "stream",
     "text": [
      "Loading the trained the model\n",
      "[08:22:44] WARNING: /workspace/src/objective/regression_obj.cu:152: reg:linear is now deprecated in favor of reg:squarederror.\n",
      "\n",
      "\n",
      "Evaluating the model with TRAIN data...\n",
      "Evaluating Test data\n",
      "\n",
      "TEST DATA\n",
      "------------------------------\n",
      "RMSE :  1.1102497756835779\n",
      "MAPE :  33.54150411425752\n",
      "\n",
      "Let's see the Feature Importance Plot...\n",
      "\n"
     ]
    },
    {
     "data": {
      "image/png": "[encoded data removed]",
      "text/plain": [
       "<Figure size 720x864 with 1 Axes>"
      ]
     },
     "metadata": {
      "tags": []
     },
     "output_type": "display_data"
    }
   ],
   "source": [
    "if os.path.isfile(d+\"model/first_xgboost.pkl\"):\n",
    "    print(\"Loading the trained the model\")\n",
    "    with open(d+\"model/first_xgboost.pkl\", 'rb') as f:\n",
    "        model = pickle.load(f)\n",
    "    train_results, test_results = report_xgboost(model, x_train, y_train, x_test, y_test)\n",
    " # store the results in models_evaluations dictionaries\n",
    "    models_evaluation_train['first_algo'] = train_results\n",
    "    models_evaluation_test['first_algo'] = test_results   \n",
    "else:\n",
    "    print(\"Model is not trained and saved!\\nRun above cell\")"
   ]
  },
  {
   "cell_type": "markdown",
   "metadata": {
    "colab_type": "text",
    "id": "FUG-CnKpxrrP"
   },
   "source": [
    "### **4.4.2 Suprise BaselineModel**\n",
    "    \n"
   ]
  },
  {
   "cell_type": "code",
   "execution_count": 0,
   "metadata": {
    "colab": {},
    "colab_type": "code",
    "id": "UpX853XsxrrQ"
   },
   "outputs": [],
   "source": [
    "from surprise import BaselineOnly "
   ]
  },
  {
   "cell_type": "markdown",
   "metadata": {
    "colab_type": "text",
    "id": "B9FkmEuTxrrR"
   },
   "source": [
    "__Predicted_rating : ( baseline prediction )__\n",
    "-  http://surprise.readthedocs.io/en/stable/basic_algorithms.html#surprise.prediction_algorithms.baseline_only.BaselineOnly \n",
    "\n",
    " >$   \\large {\\hat{r}_{ui} = b_{ui} =\\mu + b_u + b_i} $\n",
    "\n",
    "- $\\pmb \\mu $ : Average of all trainings in training data.\n",
    "- $\\pmb b_u$ : User bias\n",
    "- $\\pmb b_i$ : Item bias (movie biases) "
   ]
  },
  {
   "cell_type": "markdown",
   "metadata": {
    "colab_type": "text",
    "id": "ITW64wCDxrrR"
   },
   "source": [
    "__Optimization function ( Least Squares Problem )__\n",
    "\n",
    "- http://surprise.readthedocs.io/en/stable/prediction_algorithm__Optimizations.html#baselines-estimates-configuration \n",
    "\n",
    "> $ \\large \\sum_{r_{ui} \\in R_{train}} \\left(r_{ui} - (\\mu + b_u + b_i)\\right)^2 +\n",
    "\\lambda \\left(b_u^2 + b_i^2 \\right).\\text {        [mimimize } {b_u, b_i]}$ "
   ]
  },
  {
   "cell_type": "code",
   "execution_count": 16,
   "metadata": {
    "colab": {
     "base_uri": "https://localhost:8080/",
     "height": 493
    },
    "colab_type": "code",
    "id": "Hxg5585nxrrS",
    "outputId": "986f5f7b-8fdd-4b38-87f7-93741805929b"
   },
   "outputs": [
    {
     "name": "stdout",
     "output_type": "stream",
     "text": [
      "Training the model...\n",
      "Estimating biases using sgd...\n",
      "Done. time taken : 0:00:02.018983 \n",
      "\n",
      "Evaluating the model with train data..\n",
      "time taken : 0:00:02.409689\n",
      "---------------\n",
      "Train Data\n",
      "---------------\n",
      "RMSE : 0.9295918623361779\n",
      "\n",
      "MAPE : 29.420841989875253\n",
      "\n",
      "adding train results in the dictionary..\n",
      "\n",
      "Evaluating for test data...\n",
      "time taken : 0:00:00.152236\n",
      "---------------\n",
      "Test Data\n",
      "---------------\n",
      "RMSE : 1.0775940553959478\n",
      "\n",
      "MAPE : 35.016927828086374\n",
      "\n",
      "storing the test results in test dictionary...\n",
      "\n",
      "---------------------------------------------\n",
      "Total time taken to run this algorithm : 0:00:04.583386\n"
     ]
    }
   ],
   "source": [
    "# options are to specify.., how to compute those user and item biases\n",
    "bsl_options = {'method': 'sgd',\n",
    "               'learning_rate': .001\n",
    "               }\n",
    "bsl_algo = BaselineOnly(bsl_options=bsl_options)\n",
    "# run this algorithm.., It will return the train and test results..\n",
    "bsl_train_results, bsl_test_results = run_surprise(bsl_algo, trainset, testset, verbose=True)\n",
    "\n",
    "\n",
    "# Just store these error metrics in our models_evaluation datastructure\n",
    "models_evaluation_train['bsl_algo'] = bsl_train_results \n",
    "models_evaluation_test['bsl_algo'] = bsl_test_results"
   ]
  },
  {
   "cell_type": "markdown",
   "metadata": {
    "colab_type": "text",
    "id": "AX3Zrio7xrrU"
   },
   "source": [
    "### **4.4.3 XGBoost with initial 13 features + Surprise Baseline predictor**"
   ]
  },
  {
   "cell_type": "markdown",
   "metadata": {
    "colab_type": "text",
    "id": "ab0DLIymxrrV"
   },
   "source": [
    "__Updating Train Data__"
   ]
  },
  {
   "cell_type": "code",
   "execution_count": 17,
   "metadata": {
    "colab": {
     "base_uri": "https://localhost:8080/",
     "height": 111
    },
    "colab_type": "code",
    "id": "eU92pNacxrrV",
    "outputId": "0e5632c7-1341-4e72-84d4-85ffd8641882"
   },
   "outputs": [
    {
     "data": {
      "text/html": [
       "<div>\n",
       "<style scoped>\n",
       "    .dataframe tbody tr th:only-of-type {\n",
       "        vertical-align: middle;\n",
       "    }\n",
       "\n",
       "    .dataframe tbody tr th {\n",
       "        vertical-align: top;\n",
       "    }\n",
       "\n",
       "    .dataframe thead th {\n",
       "        text-align: right;\n",
       "    }\n",
       "</style>\n",
       "<table border=\"1\" class=\"dataframe\">\n",
       "  <thead>\n",
       "    <tr style=\"text-align: right;\">\n",
       "      <th></th>\n",
       "      <th>User_ID</th>\n",
       "      <th>Movie_ID</th>\n",
       "      <th>GAvg</th>\n",
       "      <th>sur1</th>\n",
       "      <th>sur2</th>\n",
       "      <th>sur3</th>\n",
       "      <th>sur4</th>\n",
       "      <th>sur5</th>\n",
       "      <th>smr1</th>\n",
       "      <th>smr2</th>\n",
       "      <th>smr3</th>\n",
       "      <th>smr4</th>\n",
       "      <th>smr5</th>\n",
       "      <th>UAvg</th>\n",
       "      <th>MAvg</th>\n",
       "      <th>Rating</th>\n",
       "      <th>bslpr</th>\n",
       "    </tr>\n",
       "  </thead>\n",
       "  <tbody>\n",
       "    <tr>\n",
       "      <th>0</th>\n",
       "      <td>174683</td>\n",
       "      <td>10</td>\n",
       "      <td>3.540551</td>\n",
       "      <td>4.0</td>\n",
       "      <td>5.0</td>\n",
       "      <td>4.0</td>\n",
       "      <td>3.0</td>\n",
       "      <td>4.0</td>\n",
       "      <td>3.0</td>\n",
       "      <td>3.0</td>\n",
       "      <td>3.0</td>\n",
       "      <td>5.0</td>\n",
       "      <td>5.0</td>\n",
       "      <td>3.941176</td>\n",
       "      <td>4.111111</td>\n",
       "      <td>5</td>\n",
       "      <td>3.705987</td>\n",
       "    </tr>\n",
       "    <tr>\n",
       "      <th>1</th>\n",
       "      <td>233949</td>\n",
       "      <td>10</td>\n",
       "      <td>3.540551</td>\n",
       "      <td>4.0</td>\n",
       "      <td>4.0</td>\n",
       "      <td>5.0</td>\n",
       "      <td>5.0</td>\n",
       "      <td>5.0</td>\n",
       "      <td>2.0</td>\n",
       "      <td>3.0</td>\n",
       "      <td>4.0</td>\n",
       "      <td>3.0</td>\n",
       "      <td>3.0</td>\n",
       "      <td>2.647059</td>\n",
       "      <td>4.111111</td>\n",
       "      <td>3</td>\n",
       "      <td>3.692173</td>\n",
       "    </tr>\n",
       "  </tbody>\n",
       "</table>\n",
       "</div>"
      ],
      "text/plain": [
       "   User_ID  Movie_ID      GAvg  sur1  ...      UAvg      MAvg  Rating     bslpr\n",
       "0   174683        10  3.540551   4.0  ...  3.941176  4.111111       5  3.705987\n",
       "1   233949        10  3.540551   4.0  ...  2.647059  4.111111       3  3.692173\n",
       "\n",
       "[2 rows x 17 columns]"
      ]
     },
     "execution_count": 17,
     "metadata": {
      "tags": []
     },
     "output_type": "execute_result"
    }
   ],
   "source": [
    "# add our baseline_predicted value as our feature..\n",
    "reg_train['bslpr'] = models_evaluation_train['bsl_algo']['predictions']\n",
    "reg_train.head(2) "
   ]
  },
  {
   "cell_type": "markdown",
   "metadata": {
    "colab_type": "text",
    "id": "ZhhIJM6ExrrW"
   },
   "source": [
    "__Updating Test Data__"
   ]
  },
  {
   "cell_type": "code",
   "execution_count": 18,
   "metadata": {
    "colab": {
     "base_uri": "https://localhost:8080/",
     "height": 131
    },
    "colab_type": "code",
    "id": "yKTq0QZrxrrW",
    "outputId": "b88e60d0-bac0-40e5-9c96-79f8ef162b34"
   },
   "outputs": [
    {
     "data": {
      "text/html": [
       "<div>\n",
       "<style scoped>\n",
       "    .dataframe tbody tr th:only-of-type {\n",
       "        vertical-align: middle;\n",
       "    }\n",
       "\n",
       "    .dataframe tbody tr th {\n",
       "        vertical-align: top;\n",
       "    }\n",
       "\n",
       "    .dataframe thead th {\n",
       "        text-align: right;\n",
       "    }\n",
       "</style>\n",
       "<table border=\"1\" class=\"dataframe\">\n",
       "  <thead>\n",
       "    <tr style=\"text-align: right;\">\n",
       "      <th></th>\n",
       "      <th>User_ID</th>\n",
       "      <th>Movie_ID</th>\n",
       "      <th>GAvg</th>\n",
       "      <th>sur1</th>\n",
       "      <th>sur2</th>\n",
       "      <th>sur3</th>\n",
       "      <th>sur4</th>\n",
       "      <th>sur5</th>\n",
       "      <th>smr1</th>\n",
       "      <th>smr2</th>\n",
       "      <th>smr3</th>\n",
       "      <th>smr4</th>\n",
       "      <th>smr5</th>\n",
       "      <th>UAvg</th>\n",
       "      <th>MAvg</th>\n",
       "      <th>Rating</th>\n",
       "      <th>bslpr</th>\n",
       "    </tr>\n",
       "  </thead>\n",
       "  <tbody>\n",
       "    <tr>\n",
       "      <th>0</th>\n",
       "      <td>808635</td>\n",
       "      <td>71</td>\n",
       "      <td>3.540551</td>\n",
       "      <td>3.540551</td>\n",
       "      <td>3.540551</td>\n",
       "      <td>3.540551</td>\n",
       "      <td>3.540551</td>\n",
       "      <td>3.540551</td>\n",
       "      <td>3.540551</td>\n",
       "      <td>3.540551</td>\n",
       "      <td>3.540551</td>\n",
       "      <td>3.540551</td>\n",
       "      <td>3.540551</td>\n",
       "      <td>3.540551</td>\n",
       "      <td>3.540551</td>\n",
       "      <td>5</td>\n",
       "      <td>3.540551</td>\n",
       "    </tr>\n",
       "    <tr>\n",
       "      <th>1</th>\n",
       "      <td>898730</td>\n",
       "      <td>71</td>\n",
       "      <td>3.540551</td>\n",
       "      <td>3.540551</td>\n",
       "      <td>3.540551</td>\n",
       "      <td>3.540551</td>\n",
       "      <td>3.540551</td>\n",
       "      <td>3.540551</td>\n",
       "      <td>3.540551</td>\n",
       "      <td>3.540551</td>\n",
       "      <td>3.540551</td>\n",
       "      <td>3.540551</td>\n",
       "      <td>3.540551</td>\n",
       "      <td>3.540551</td>\n",
       "      <td>3.540551</td>\n",
       "      <td>3</td>\n",
       "      <td>3.540551</td>\n",
       "    </tr>\n",
       "  </tbody>\n",
       "</table>\n",
       "</div>"
      ],
      "text/plain": [
       "   User_ID  Movie_ID      GAvg      sur1  ...      UAvg      MAvg  Rating     bslpr\n",
       "0   808635        71  3.540551  3.540551  ...  3.540551  3.540551       5  3.540551\n",
       "1   898730        71  3.540551  3.540551  ...  3.540551  3.540551       3  3.540551\n",
       "\n",
       "[2 rows x 17 columns]"
      ]
     },
     "execution_count": 18,
     "metadata": {
      "tags": []
     },
     "output_type": "execute_result"
    }
   ],
   "source": [
    "# add that baseline predicted ratings with Surprise to the test data as well\n",
    "reg_test_df['bslpr']  = models_evaluation_test['bsl_algo']['predictions']\n",
    "\n",
    "reg_test_df.head(2)"
   ]
  },
  {
   "cell_type": "code",
   "execution_count": 0,
   "metadata": {
    "colab": {},
    "colab_type": "code",
    "id": "PPPWZzB-wmE8"
   },
   "outputs": [],
   "source": [
    "# prepare Train data\n",
    "x_train = reg_train.drop(['User_ID','Movie_ID','Rating'], axis=1)\n",
    "y_train = reg_train['Rating']\n",
    "\n",
    "# Prepare Test data\n",
    "x_test = reg_test_df.drop(['User_ID','Movie_ID','Rating'], axis=1)\n",
    "y_test = reg_test_df['Rating']"
   ]
  },
  {
   "cell_type": "code",
   "execution_count": 25,
   "metadata": {
    "colab": {
     "base_uri": "https://localhost:8080/",
     "height": 734
    },
    "colab_type": "code",
    "id": "iDlcPlWYvqN7",
    "outputId": "243d52d3-fed1-4f19-f5a4-70b429224983"
   },
   "outputs": [
    {
     "name": "stdout",
     "output_type": "stream",
     "text": [
      "Tunning the model...\n",
      "\n"
     ]
    },
    {
     "name": "stderr",
     "output_type": "stream",
     "text": [
      "/usr/local/lib/python3.6/dist-packages/xgboost/core.py:587: FutureWarning: Series.base is deprecated and will be removed in a future version\n",
      "  if getattr(data, 'base', None) is not None and \\\n",
      "/usr/local/lib/python3.6/dist-packages/xgboost/core.py:588: FutureWarning: Series.base is deprecated and will be removed in a future version\n",
      "  data.base is not None and isinstance(data, np.ndarray) \\\n"
     ]
    },
    {
     "name": "stdout",
     "output_type": "stream",
     "text": [
      "[06:15:33] WARNING: /workspace/src/objective/regression_obj.cu:152: reg:linear is now deprecated in favor of reg:squarederror.\n",
      "\n",
      "Done.\n",
      "Time taken to tune the model = 0:17:04.365301\n",
      "\n",
      "Best score (MSE) for tunned model is: 0.7281771524345251\n",
      "\n",
      "Best parameters for XBGoost...\n",
      "{'n_estimators': 100, 'max_depth': 7, 'learning_rate': 0.1}\n",
      "\n",
      "So the best model is:\n",
      "XGBRegressor(base_score=0.5, booster='gbtree', colsample_bylevel=1,\n",
      "             colsample_bynode=1, colsample_bytree=1, gamma=0,\n",
      "             importance_type='gain', learning_rate=0.1, max_delta_step=0,\n",
      "             max_depth=7, min_child_weight=1, missing=None, n_estimators=100,\n",
      "             n_jobs=-1, nthread=None, objective='reg:linear', random_state=15,\n",
      "             reg_alpha=0, reg_lambda=1, scale_pos_weight=1, seed=None,\n",
      "             silent=None, subsample=1, verbosity=1)\n",
      "\n",
      "\n",
      "Now training the model..\n",
      "[06:15:58] WARNING: /workspace/src/objective/regression_obj.cu:152: reg:linear is now deprecated in favor of reg:squarederror.\n",
      "Done \n",
      "\n",
      "Time taken : 0:00:25.057610\n",
      "\n",
      "\n",
      "Saving the trained model for further use....\n"
     ]
    },
    {
     "data": {
      "text/plain": [
       "XGBRegressor(base_score=0.5, booster='gbtree', colsample_bylevel=1,\n",
       "             colsample_bynode=1, colsample_bytree=1, gamma=0,\n",
       "             importance_type='gain', learning_rate=0.1, max_delta_step=0,\n",
       "             max_depth=7, min_child_weight=1, missing=None, n_estimators=100,\n",
       "             n_jobs=-1, nthread=None, objective='reg:linear', random_state=15,\n",
       "             reg_alpha=0, reg_lambda=1, scale_pos_weight=1, seed=None,\n",
       "             silent=None, subsample=1, verbosity=1)"
      ]
     },
     "execution_count": 25,
     "metadata": {
      "tags": []
     },
     "output_type": "execute_result"
    }
   ],
   "source": [
    "run_xgboost(x_train, y_train, x_test, y_test, path = d+\"model/\", name = 'second')"
   ]
  },
  {
   "cell_type": "code",
   "execution_count": 20,
   "metadata": {
    "colab": {
     "base_uri": "https://localhost:8080/",
     "height": 977
    },
    "colab_type": "code",
    "id": "G2XImCBFvq2k",
    "outputId": "e9f02476-f14e-4c69-d733-95fd3bb0e845"
   },
   "outputs": [
    {
     "name": "stdout",
     "output_type": "stream",
     "text": [
      "Loading the trained the model\n",
      "[08:23:36] WARNING: /workspace/src/objective/regression_obj.cu:152: reg:linear is now deprecated in favor of reg:squarederror.\n",
      "\n",
      "\n",
      "Evaluating the model with TRAIN data...\n",
      "Evaluating Test data\n",
      "\n",
      "TEST DATA\n",
      "------------------------------\n",
      "RMSE :  1.122035458097968\n",
      "MAPE :  33.286117066828844\n",
      "\n",
      "Let's see the Feature Importance Plot...\n",
      "\n"
     ]
    },
    {
     "data": {
      "image/png": "[encoded data removed]",
      "text/plain": [
       "<Figure size 720x864 with 1 Axes>"
      ]
     },
     "metadata": {
      "tags": []
     },
     "output_type": "display_data"
    }
   ],
   "source": [
    "if os.path.isfile(d+\"model/second_xgboost.pkl\"):\n",
    "    print(\"Loading the trained the model\")\n",
    "    with open(d+\"model/second_xgboost.pkl\", 'rb') as f:\n",
    "        model = pickle.load(f)\n",
    "    train_results, test_results = report_xgboost(model, x_train, y_train, x_test, y_test)\n",
    " # store the results in models_evaluations dictionaries\n",
    "    models_evaluation_train['second_algo'] = train_results\n",
    "    models_evaluation_test['second_algo'] = test_results   \n",
    "else:\n",
    "    print(\"Model is not trained and saved!\\nRun above cell\")"
   ]
  },
  {
   "cell_type": "markdown",
   "metadata": {
    "colab_type": "text",
    "id": "2w39xJPlxrrh"
   },
   "source": [
    "### **4.4.4 Surprise KNNBaseline predictor**"
   ]
  },
  {
   "cell_type": "code",
   "execution_count": 0,
   "metadata": {
    "colab": {},
    "colab_type": "code",
    "id": "QaJlXYiKxrrh"
   },
   "outputs": [],
   "source": [
    "from surprise import KNNBaseline"
   ]
  },
  {
   "cell_type": "markdown",
   "metadata": {
    "colab_type": "text",
    "id": "6cdn8nTgxrrj"
   },
   "source": [
    "- KNN BASELINE\n",
    "    - http://surprise.readthedocs.io/en/stable/knn_inspired.html#surprise.prediction_algorithms.knns.KNNBaseline \n",
    "\n",
    "- PEARSON_BASELINE SIMILARITY\n",
    "    - http://surprise.readthedocs.io/en/stable/similarities.html#surprise.similarities.pearson_baseline \n",
    "\n",
    "- SHRINKAGE\n",
    "    - _2.2 Neighborhood Models_ in http://courses.ischool.berkeley.edu/i290-dm/s11/SECURE/a1-koren.pdf \n",
    "\n"
   ]
  },
  {
   "cell_type": "markdown",
   "metadata": {
    "colab_type": "text",
    "id": "QFn0o57Lxrrk"
   },
   "source": [
    "- __predicted Rating__ : ( ___ based on User-User similarity ___ )\n",
    "\n",
    "\\begin{align} \\hat{r}_{ui} = b_{ui} + \\frac{ \\sum\\limits_{v \\in N^k_i(u)}\n",
    "\\text{sim}(u, v) \\cdot (r_{vi} - b_{vi})} {\\sum\\limits_{v \\in\n",
    "N^k_i(u)} \\text{sim}(u, v)} \\end{align}\n",
    "\n",
    "- $\\pmb{b_{ui}}$ -  _Baseline prediction_ of (user,movie) rating\n",
    "\n",
    "- $ \\pmb {N_i^k (u)}$ - Set of __K similar__ users (neighbours) of __user (u)__ who rated __movie(i)__  \n",
    "\n",
    "- _sim (u, v)_ - __Similarity__ between users __u and v__  \n",
    "    - Generally, it will be cosine similarity or Pearson correlation coefficient. \n",
    "    - But we use __shrunk Pearson-baseline correlation coefficient__, which is based on the pearsonBaseline similarity ( we take base line predictions instead of mean rating of user/item)\n",
    "       "
   ]
  },
  {
   "cell_type": "markdown",
   "metadata": {
    "colab_type": "text",
    "id": "1QCM5rlkxrrl"
   },
   "source": [
    "- __Predicted rating__ ( based on Item Item similarity ):\n",
    " \\begin{align} \\hat{r}_{ui} = b_{ui} + \\frac{ \\sum\\limits_{j \\in N^k_u(i)}\\text{sim}(i, j) \\cdot (r_{uj} - b_{uj})} {\\sum\\limits_{j \\in N^k_u(j)} \\text{sim}(i, j)} \\end{align}\n",
    "\n",
    "    -  ___Notations follows same as above (user user based predicted rating )___"
   ]
  },
  {
   "cell_type": "markdown",
   "metadata": {
    "colab_type": "text",
    "id": "VCI_ZO0uxrrm"
   },
   "source": [
    "#### **4.4.4.1 Surprise KNNBaseline with user user similarities**"
   ]
  },
  {
   "cell_type": "code",
   "execution_count": 22,
   "metadata": {
    "colab": {
     "base_uri": "https://localhost:8080/",
     "height": 527
    },
    "colab_type": "code",
    "id": "wzIDc0Z9xrrm",
    "outputId": "8ed0dc4d-4654-40dd-c843-5da775c87a4f",
    "scrolled": false
   },
   "outputs": [
    {
     "name": "stdout",
     "output_type": "stream",
     "text": [
      "Training the model...\n",
      "Estimating biases using sgd...\n",
      "Computing the pearson_baseline similarity matrix...\n",
      "Done computing similarity matrix.\n",
      "Done. time taken : 0:01:47.809918 \n",
      "\n",
      "Evaluating the model with train data..\n",
      "time taken : 0:05:19.888629\n",
      "---------------\n",
      "Train Data\n",
      "---------------\n",
      "RMSE : 0.381999862577986\n",
      "\n",
      "MAPE : 10.70788648951525\n",
      "\n",
      "adding train results in the dictionary..\n",
      "\n",
      "Evaluating for test data...\n",
      "time taken : 0:00:00.249742\n",
      "---------------\n",
      "Test Data\n",
      "---------------\n",
      "RMSE : 1.0777732968071752\n",
      "\n",
      "MAPE : 35.067375899427915\n",
      "\n",
      "storing the test results in test dictionary...\n",
      "\n",
      "---------------------------------------------\n",
      "Total time taken to run this algorithm : 0:07:07.950780\n"
     ]
    }
   ],
   "source": [
    "# we specify , how to compute similarities and what to consider with sim_options to our algorithm\n",
    "sim_options = {'user_based' : True,\n",
    "               'name': 'pearson_baseline',\n",
    "               'shrinkage': 100,\n",
    "               'min_support': 2\n",
    "              } \n",
    "# we keep other parameters like regularization parameter and learning_rate as default values.\n",
    "bsl_options = {'method': 'sgd'} \n",
    "\n",
    "knn_bsl_u = KNNBaseline(k=40, sim_options = sim_options, bsl_options = bsl_options)\n",
    "knn_bsl_u_train_results, knn_bsl_u_test_results = run_surprise(knn_bsl_u, trainset, testset, verbose=True)\n",
    "\n",
    "# Just store these error metrics in our models_evaluation datastructure\n",
    "models_evaluation_train['knn_bsl_u'] = knn_bsl_u_train_results \n",
    "models_evaluation_test['knn_bsl_u'] = knn_bsl_u_test_results\n"
   ]
  },
  {
   "cell_type": "markdown",
   "metadata": {
    "colab_type": "text",
    "id": "Kd9yvmiLxrro"
   },
   "source": [
    "#### **4.4.4.2 Surprise KNNBaseline with movie movie similarities**"
   ]
  },
  {
   "cell_type": "code",
   "execution_count": 23,
   "metadata": {
    "colab": {
     "base_uri": "https://localhost:8080/",
     "height": 527
    },
    "colab_type": "code",
    "id": "XGv1yjv9xrro",
    "outputId": "14c631d6-e77e-4692-bcb4-ed559183f4f7"
   },
   "outputs": [
    {
     "name": "stdout",
     "output_type": "stream",
     "text": [
      "Training the model...\n",
      "Estimating biases using sgd...\n",
      "Computing the pearson_baseline similarity matrix...\n",
      "Done computing similarity matrix.\n",
      "Done. time taken : 0:00:03.023865 \n",
      "\n",
      "Evaluating the model with train data..\n",
      "time taken : 0:00:26.348622\n",
      "---------------\n",
      "Train Data\n",
      "---------------\n",
      "RMSE : 0.40392992817004597\n",
      "\n",
      "MAPE : 10.992348015616841\n",
      "\n",
      "adding train results in the dictionary..\n",
      "\n",
      "Evaluating for test data...\n",
      "time taken : 0:00:00.165797\n",
      "---------------\n",
      "Test Data\n",
      "---------------\n",
      "RMSE : 1.077805003654094\n",
      "\n",
      "MAPE : 35.06784453290757\n",
      "\n",
      "storing the test results in test dictionary...\n",
      "\n",
      "---------------------------------------------\n",
      "Total time taken to run this algorithm : 0:00:29.539935\n"
     ]
    }
   ],
   "source": [
    "# we specify , how to compute similarities and what to consider with sim_options to our algorithm\n",
    "\n",
    "# 'user_based' : Fals => this considers the similarities of movies instead of users\n",
    "\n",
    "sim_options = {'user_based' : False,\n",
    "               'name': 'pearson_baseline',\n",
    "               'shrinkage': 100,\n",
    "               'min_support': 2\n",
    "              } \n",
    "# we keep other parameters like regularization parameter and learning_rate as default values.\n",
    "bsl_options = {'method': 'sgd'}\n",
    "\n",
    "\n",
    "knn_bsl_m = KNNBaseline(k=40, sim_options = sim_options, bsl_options = bsl_options)\n",
    "\n",
    "knn_bsl_m_train_results, knn_bsl_m_test_results = run_surprise(knn_bsl_m, trainset, testset, verbose=True)\n",
    "\n",
    "# Just store these error metrics in our models_evaluation datastructure\n",
    "models_evaluation_train['knn_bsl_m'] = knn_bsl_m_train_results \n",
    "models_evaluation_test['knn_bsl_m'] = knn_bsl_m_test_results\n"
   ]
  },
  {
   "cell_type": "markdown",
   "metadata": {
    "colab_type": "text",
    "id": "BFN8SP06xrrr"
   },
   "source": [
    "### **4.4.5 XGBoost with initial 13 features + Surprise Baseline predictor + KNNBaseline predictor**"
   ]
  },
  {
   "cell_type": "markdown",
   "metadata": {
    "colab_type": "text",
    "id": "9-S5MhTjxrrr"
   },
   "source": [
    "-  First we will run XGBoost with predictions from both KNN's ( that uses User\\_User and Item\\_Item similarities along with our previous features.\n",
    "\n",
    " \n",
    "- Then we will run XGBoost with just predictions form both knn models and preditions from our baseline model. "
   ]
  },
  {
   "cell_type": "markdown",
   "metadata": {
    "colab_type": "text",
    "id": "DNs8hRmfxrrr"
   },
   "source": [
    "__Preparing Train data__"
   ]
  },
  {
   "cell_type": "code",
   "execution_count": 24,
   "metadata": {
    "colab": {
     "base_uri": "https://localhost:8080/",
     "height": 131
    },
    "colab_type": "code",
    "id": "fz7NsHUHxrrr",
    "outputId": "a4616a5e-126d-4a56-dfba-7c7e397494d4"
   },
   "outputs": [
    {
     "data": {
      "text/html": [
       "<div>\n",
       "<style scoped>\n",
       "    .dataframe tbody tr th:only-of-type {\n",
       "        vertical-align: middle;\n",
       "    }\n",
       "\n",
       "    .dataframe tbody tr th {\n",
       "        vertical-align: top;\n",
       "    }\n",
       "\n",
       "    .dataframe thead th {\n",
       "        text-align: right;\n",
       "    }\n",
       "</style>\n",
       "<table border=\"1\" class=\"dataframe\">\n",
       "  <thead>\n",
       "    <tr style=\"text-align: right;\">\n",
       "      <th></th>\n",
       "      <th>User_ID</th>\n",
       "      <th>Movie_ID</th>\n",
       "      <th>GAvg</th>\n",
       "      <th>sur1</th>\n",
       "      <th>sur2</th>\n",
       "      <th>sur3</th>\n",
       "      <th>sur4</th>\n",
       "      <th>sur5</th>\n",
       "      <th>smr1</th>\n",
       "      <th>smr2</th>\n",
       "      <th>smr3</th>\n",
       "      <th>smr4</th>\n",
       "      <th>smr5</th>\n",
       "      <th>UAvg</th>\n",
       "      <th>MAvg</th>\n",
       "      <th>Rating</th>\n",
       "      <th>bslpr</th>\n",
       "      <th>knn_bsl_u</th>\n",
       "      <th>knn_bsl_m</th>\n",
       "    </tr>\n",
       "  </thead>\n",
       "  <tbody>\n",
       "    <tr>\n",
       "      <th>0</th>\n",
       "      <td>174683</td>\n",
       "      <td>10</td>\n",
       "      <td>3.540551</td>\n",
       "      <td>4.0</td>\n",
       "      <td>5.0</td>\n",
       "      <td>4.0</td>\n",
       "      <td>3.0</td>\n",
       "      <td>4.0</td>\n",
       "      <td>3.0</td>\n",
       "      <td>3.0</td>\n",
       "      <td>3.0</td>\n",
       "      <td>5.0</td>\n",
       "      <td>5.0</td>\n",
       "      <td>3.941176</td>\n",
       "      <td>4.111111</td>\n",
       "      <td>5</td>\n",
       "      <td>3.705987</td>\n",
       "      <td>4.998811</td>\n",
       "      <td>4.992385</td>\n",
       "    </tr>\n",
       "    <tr>\n",
       "      <th>1</th>\n",
       "      <td>233949</td>\n",
       "      <td>10</td>\n",
       "      <td>3.540551</td>\n",
       "      <td>4.0</td>\n",
       "      <td>4.0</td>\n",
       "      <td>5.0</td>\n",
       "      <td>5.0</td>\n",
       "      <td>5.0</td>\n",
       "      <td>2.0</td>\n",
       "      <td>3.0</td>\n",
       "      <td>4.0</td>\n",
       "      <td>3.0</td>\n",
       "      <td>3.0</td>\n",
       "      <td>2.647059</td>\n",
       "      <td>4.111111</td>\n",
       "      <td>3</td>\n",
       "      <td>3.692173</td>\n",
       "      <td>3.106129</td>\n",
       "      <td>3.106302</td>\n",
       "    </tr>\n",
       "  </tbody>\n",
       "</table>\n",
       "</div>"
      ],
      "text/plain": [
       "   User_ID  Movie_ID      GAvg  sur1  ...  Rating     bslpr  knn_bsl_u  knn_bsl_m\n",
       "0   174683        10  3.540551   4.0  ...       5  3.705987   4.998811   4.992385\n",
       "1   233949        10  3.540551   4.0  ...       3  3.692173   3.106129   3.106302\n",
       "\n",
       "[2 rows x 19 columns]"
      ]
     },
     "execution_count": 24,
     "metadata": {
      "tags": []
     },
     "output_type": "execute_result"
    }
   ],
   "source": [
    "# add the predicted values from both knns to this dataframe\n",
    "reg_train['knn_bsl_u'] = models_evaluation_train['knn_bsl_u']['predictions']\n",
    "reg_train['knn_bsl_m'] = models_evaluation_train['knn_bsl_m']['predictions']\n",
    "\n",
    "reg_train.head(2)"
   ]
  },
  {
   "cell_type": "markdown",
   "metadata": {
    "colab_type": "text",
    "id": "v_Hz6_buxrrw"
   },
   "source": [
    "__Preparing Test data__"
   ]
  },
  {
   "cell_type": "code",
   "execution_count": 25,
   "metadata": {
    "colab": {
     "base_uri": "https://localhost:8080/",
     "height": 131
    },
    "colab_type": "code",
    "id": "BQCT1Vaexrrx",
    "outputId": "e33f7d43-e032-4c86-f707-71e6080efb4a"
   },
   "outputs": [
    {
     "data": {
      "text/html": [
       "<div>\n",
       "<style scoped>\n",
       "    .dataframe tbody tr th:only-of-type {\n",
       "        vertical-align: middle;\n",
       "    }\n",
       "\n",
       "    .dataframe tbody tr th {\n",
       "        vertical-align: top;\n",
       "    }\n",
       "\n",
       "    .dataframe thead th {\n",
       "        text-align: right;\n",
       "    }\n",
       "</style>\n",
       "<table border=\"1\" class=\"dataframe\">\n",
       "  <thead>\n",
       "    <tr style=\"text-align: right;\">\n",
       "      <th></th>\n",
       "      <th>User_ID</th>\n",
       "      <th>Movie_ID</th>\n",
       "      <th>GAvg</th>\n",
       "      <th>sur1</th>\n",
       "      <th>sur2</th>\n",
       "      <th>sur3</th>\n",
       "      <th>sur4</th>\n",
       "      <th>sur5</th>\n",
       "      <th>smr1</th>\n",
       "      <th>smr2</th>\n",
       "      <th>smr3</th>\n",
       "      <th>smr4</th>\n",
       "      <th>smr5</th>\n",
       "      <th>UAvg</th>\n",
       "      <th>MAvg</th>\n",
       "      <th>Rating</th>\n",
       "      <th>bslpr</th>\n",
       "      <th>knn_bsl_u</th>\n",
       "      <th>knn_bsl_m</th>\n",
       "    </tr>\n",
       "  </thead>\n",
       "  <tbody>\n",
       "    <tr>\n",
       "      <th>0</th>\n",
       "      <td>808635</td>\n",
       "      <td>71</td>\n",
       "      <td>3.540551</td>\n",
       "      <td>3.540551</td>\n",
       "      <td>3.540551</td>\n",
       "      <td>3.540551</td>\n",
       "      <td>3.540551</td>\n",
       "      <td>3.540551</td>\n",
       "      <td>3.540551</td>\n",
       "      <td>3.540551</td>\n",
       "      <td>3.540551</td>\n",
       "      <td>3.540551</td>\n",
       "      <td>3.540551</td>\n",
       "      <td>3.540551</td>\n",
       "      <td>3.540551</td>\n",
       "      <td>5</td>\n",
       "      <td>3.540551</td>\n",
       "      <td>3.540551</td>\n",
       "      <td>3.540551</td>\n",
       "    </tr>\n",
       "    <tr>\n",
       "      <th>1</th>\n",
       "      <td>898730</td>\n",
       "      <td>71</td>\n",
       "      <td>3.540551</td>\n",
       "      <td>3.540551</td>\n",
       "      <td>3.540551</td>\n",
       "      <td>3.540551</td>\n",
       "      <td>3.540551</td>\n",
       "      <td>3.540551</td>\n",
       "      <td>3.540551</td>\n",
       "      <td>3.540551</td>\n",
       "      <td>3.540551</td>\n",
       "      <td>3.540551</td>\n",
       "      <td>3.540551</td>\n",
       "      <td>3.540551</td>\n",
       "      <td>3.540551</td>\n",
       "      <td>3</td>\n",
       "      <td>3.540551</td>\n",
       "      <td>3.540551</td>\n",
       "      <td>3.540551</td>\n",
       "    </tr>\n",
       "  </tbody>\n",
       "</table>\n",
       "</div>"
      ],
      "text/plain": [
       "   User_ID  Movie_ID      GAvg  ...     bslpr  knn_bsl_u  knn_bsl_m\n",
       "0   808635        71  3.540551  ...  3.540551   3.540551   3.540551\n",
       "1   898730        71  3.540551  ...  3.540551   3.540551   3.540551\n",
       "\n",
       "[2 rows x 19 columns]"
      ]
     },
     "execution_count": 25,
     "metadata": {
      "tags": []
     },
     "output_type": "execute_result"
    }
   ],
   "source": [
    "reg_test_df['knn_bsl_u'] = models_evaluation_test['knn_bsl_u']['predictions']\n",
    "reg_test_df['knn_bsl_m'] = models_evaluation_test['knn_bsl_m']['predictions']\n",
    "\n",
    "reg_test_df.head(2)"
   ]
  },
  {
   "cell_type": "code",
   "execution_count": 0,
   "metadata": {
    "colab": {},
    "colab_type": "code",
    "id": "pQl0wvmCwwp4"
   },
   "outputs": [],
   "source": [
    "# prepare Train data\n",
    "x_train = reg_train.drop(['User_ID','Movie_ID','Rating'], axis=1)\n",
    "y_train = reg_train['Rating']\n",
    "\n",
    "# Prepare Test data\n",
    "x_test = reg_test_df.drop(['User_ID','Movie_ID','Rating'], axis=1)\n",
    "y_test = reg_test_df['Rating']"
   ]
  },
  {
   "cell_type": "code",
   "execution_count": 32,
   "metadata": {
    "colab": {
     "base_uri": "https://localhost:8080/",
     "height": 734
    },
    "colab_type": "code",
    "id": "9NwxQPhfULGY",
    "outputId": "1b9ed137-79bc-4828-de6a-e3ff6b8910ab"
   },
   "outputs": [
    {
     "name": "stdout",
     "output_type": "stream",
     "text": [
      "Tunning the model...\n",
      "\n"
     ]
    },
    {
     "name": "stderr",
     "output_type": "stream",
     "text": [
      "/usr/local/lib/python3.6/dist-packages/xgboost/core.py:587: FutureWarning: Series.base is deprecated and will be removed in a future version\n",
      "  if getattr(data, 'base', None) is not None and \\\n",
      "/usr/local/lib/python3.6/dist-packages/xgboost/core.py:588: FutureWarning: Series.base is deprecated and will be removed in a future version\n",
      "  data.base is not None and isinstance(data, np.ndarray) \\\n"
     ]
    },
    {
     "name": "stdout",
     "output_type": "stream",
     "text": [
      "[06:48:06] WARNING: /workspace/src/objective/regression_obj.cu:152: reg:linear is now deprecated in favor of reg:squarederror.\n",
      "\n",
      "Done.\n",
      "Time taken to tune the model = 0:24:01.009058\n",
      "\n",
      "Best score (MSE) for tunned model is: 0.7281520370489883\n",
      "\n",
      "Best parameters for XBGoost...\n",
      "{'n_estimators': 100, 'max_depth': 7, 'learning_rate': 0.1}\n",
      "\n",
      "So the best model is:\n",
      "XGBRegressor(base_score=0.5, booster='gbtree', colsample_bylevel=1,\n",
      "             colsample_bynode=1, colsample_bytree=1, gamma=0,\n",
      "             importance_type='gain', learning_rate=0.1, max_delta_step=0,\n",
      "             max_depth=7, min_child_weight=1, missing=None, n_estimators=100,\n",
      "             n_jobs=-1, nthread=None, objective='reg:linear', random_state=15,\n",
      "             reg_alpha=0, reg_lambda=1, scale_pos_weight=1, seed=None,\n",
      "             silent=None, subsample=1, verbosity=1)\n",
      "\n",
      "\n",
      "Now training the model..\n",
      "[06:48:34] WARNING: /workspace/src/objective/regression_obj.cu:152: reg:linear is now deprecated in favor of reg:squarederror.\n",
      "Done \n",
      "\n",
      "Time taken : 0:00:28.132094\n",
      "\n",
      "\n",
      "Saving the trained model for further use....\n"
     ]
    },
    {
     "data": {
      "text/plain": [
       "XGBRegressor(base_score=0.5, booster='gbtree', colsample_bylevel=1,\n",
       "             colsample_bynode=1, colsample_bytree=1, gamma=0,\n",
       "             importance_type='gain', learning_rate=0.1, max_delta_step=0,\n",
       "             max_depth=7, min_child_weight=1, missing=None, n_estimators=100,\n",
       "             n_jobs=-1, nthread=None, objective='reg:linear', random_state=15,\n",
       "             reg_alpha=0, reg_lambda=1, scale_pos_weight=1, seed=None,\n",
       "             silent=None, subsample=1, verbosity=1)"
      ]
     },
     "execution_count": 32,
     "metadata": {
      "tags": []
     },
     "output_type": "execute_result"
    }
   ],
   "source": [
    "run_xgboost(x_train, y_train, x_test, y_test, path = d+\"model/\", name = 'third')"
   ]
  },
  {
   "cell_type": "code",
   "execution_count": 27,
   "metadata": {
    "colab": {
     "base_uri": "https://localhost:8080/",
     "height": 977
    },
    "colab_type": "code",
    "id": "dHrf8MwBT6Vp",
    "outputId": "311b9a31-f106-4475-f1c1-e01b9791dc00"
   },
   "outputs": [
    {
     "name": "stdout",
     "output_type": "stream",
     "text": [
      "Loading the trained the model\n",
      "[08:31:32] WARNING: /workspace/src/objective/regression_obj.cu:152: reg:linear is now deprecated in favor of reg:squarederror.\n",
      "\n",
      "\n",
      "Evaluating the model with TRAIN data...\n",
      "Evaluating Test data\n",
      "\n",
      "TEST DATA\n",
      "------------------------------\n",
      "RMSE :  1.1089779050222959\n",
      "MAPE :  33.71576270272792\n",
      "\n",
      "Let's see the Feature Importance Plot...\n",
      "\n"
     ]
    },
    {
     "data": {
      "image/png": "[encoded data removed]",
      "text/plain": [
       "<Figure size 720x864 with 1 Axes>"
      ]
     },
     "metadata": {
      "tags": []
     },
     "output_type": "display_data"
    }
   ],
   "source": [
    "if os.path.isfile(d+\"model/third_xgboost.pkl\"):\n",
    "    print(\"Loading the trained the model\")\n",
    "    with open(d+\"model/third_xgboost.pkl\", 'rb') as f:\n",
    "        model = pickle.load(f)\n",
    "    train_results, test_results = report_xgboost(model, x_train, y_train, x_test, y_test)\n",
    " # store the results in models_evaluations dictionaries\n",
    "    models_evaluation_train['third_algo'] = train_results\n",
    "    models_evaluation_test['third_algo'] = test_results   \n",
    "else:\n",
    "    print(\"Model is not trained and saved!\\nRun above cell\")"
   ]
  },
  {
   "cell_type": "markdown",
   "metadata": {
    "colab_type": "text",
    "id": "kOZ62nT7xrr0"
   },
   "source": [
    "### **4.4.6 Matrix Factorization Techniques**"
   ]
  },
  {
   "cell_type": "markdown",
   "metadata": {
    "colab_type": "text",
    "id": "l8TKj6Ggxrr1"
   },
   "source": [
    "#### **4.4.6.1 SVD Matrix Factorization User Movie intractions** "
   ]
  },
  {
   "cell_type": "code",
   "execution_count": 0,
   "metadata": {
    "colab": {},
    "colab_type": "code",
    "id": "PVKeXrzLxrr1"
   },
   "outputs": [],
   "source": [
    "from surprise import SVD"
   ]
  },
  {
   "cell_type": "markdown",
   "metadata": {
    "colab_type": "text",
    "id": "yMjw1PJyxrr3"
   },
   "source": [
    "http://surprise.readthedocs.io/en/stable/matrix_factorization.html#surprise.prediction_algorithms.matrix_factorization.SVD "
   ]
  },
  {
   "cell_type": "markdown",
   "metadata": {
    "colab_type": "text",
    "id": "bQia_R3Lxrr3"
   },
   "source": [
    "- __Predicted Rating :__\n",
    "    - $ \\large  \\hat r_{ui} = \\mu + b_u + b_i + q_i^Tp_u $\n",
    "    \n",
    "        - $\\pmb q_i$ - Representation of item(movie) in latent factor space\n",
    "        \n",
    "        - $\\pmb p_u$ - Representation of user in new latent factor space\n",
    "        \n"
   ]
  },
  {
   "cell_type": "markdown",
   "metadata": {
    "colab_type": "text",
    "id": "C9iP5Kvyxrr3"
   },
   "source": [
    "- A BASIC MATRIX FACTORIZATION MODEL in  https://datajobs.com/data-science-repo/Recommender-Systems-[Netflix].pdf"
   ]
  },
  {
   "cell_type": "markdown",
   "metadata": {
    "colab_type": "text",
    "id": "N4djzeu0xrr3"
   },
   "source": [
    "- __Optimization problem with user item interactions and regularization (to avoid overfitting)__\n",
    "    - $\\large \\sum_{r_{ui} \\in R_{train}} \\left(r_{ui} - \\hat{r}_{ui} \\right)^2 +\n",
    "\\lambda\\left(b_i^2 + b_u^2 + ||q_i||^2 + ||p_u||^2\\right) $"
   ]
  },
  {
   "cell_type": "code",
   "execution_count": 29,
   "metadata": {
    "colab": {
     "base_uri": "https://localhost:8080/",
     "height": 816
    },
    "colab_type": "code",
    "id": "SDCetsu-xrr3",
    "outputId": "3b56ecce-057f-487a-de62-9818d947ca57",
    "scrolled": false
   },
   "outputs": [
    {
     "name": "stdout",
     "output_type": "stream",
     "text": [
      "Training the model...\n",
      "Processing epoch 0\n",
      "Processing epoch 1\n",
      "Processing epoch 2\n",
      "Processing epoch 3\n",
      "Processing epoch 4\n",
      "Processing epoch 5\n",
      "Processing epoch 6\n",
      "Processing epoch 7\n",
      "Processing epoch 8\n",
      "Processing epoch 9\n",
      "Processing epoch 10\n",
      "Processing epoch 11\n",
      "Processing epoch 12\n",
      "Processing epoch 13\n",
      "Processing epoch 14\n",
      "Processing epoch 15\n",
      "Processing epoch 16\n",
      "Processing epoch 17\n",
      "Processing epoch 18\n",
      "Processing epoch 19\n",
      "Done. time taken : 0:00:16.453221 \n",
      "\n",
      "Evaluating the model with train data..\n",
      "time taken : 0:00:02.918831\n",
      "---------------\n",
      "Train Data\n",
      "---------------\n",
      "RMSE : 0.6604275824313268\n",
      "\n",
      "MAPE : 19.918241124466395\n",
      "\n",
      "adding train results in the dictionary..\n",
      "\n",
      "Evaluating for test data...\n",
      "time taken : 0:00:00.349575\n",
      "---------------\n",
      "Test Data\n",
      "---------------\n",
      "RMSE : 1.0777301884881167\n",
      "\n",
      "MAPE : 34.99321365749743\n",
      "\n",
      "storing the test results in test dictionary...\n",
      "\n",
      "---------------------------------------------\n",
      "Total time taken to run this algorithm : 0:00:19.724203\n"
     ]
    }
   ],
   "source": [
    "# initiallize the model\n",
    "svd = SVD(n_factors=100, biased=True, random_state=15, verbose=True)\n",
    "svd_train_results, svd_test_results = run_surprise(svd, trainset, testset, verbose=True)\n",
    "\n",
    "# Just store these error metrics in our models_evaluation datastructure\n",
    "models_evaluation_train['svd'] = svd_train_results \n",
    "models_evaluation_test['svd'] = svd_test_results"
   ]
  },
  {
   "cell_type": "markdown",
   "metadata": {
    "colab_type": "text",
    "id": "jmi0We7exrr6"
   },
   "source": [
    "#### **4.4.6.2 SVD Matrix Factorization with implicit feedback from user ( user rated movies )**"
   ]
  },
  {
   "cell_type": "code",
   "execution_count": 0,
   "metadata": {
    "colab": {},
    "colab_type": "code",
    "id": "-V4gpAlPxrr6"
   },
   "outputs": [],
   "source": [
    "from surprise import SVDpp"
   ]
  },
  {
   "cell_type": "markdown",
   "metadata": {
    "colab_type": "text",
    "id": "SJll_qYrxrr9"
   },
   "source": [
    "- ----->  2.5 Implicit Feedback in http://courses.ischool.berkeley.edu/i290-dm/s11/SECURE/a1-koren.pdf"
   ]
  },
  {
   "cell_type": "markdown",
   "metadata": {
    "colab_type": "text",
    "id": "mbgkdFWUxrr-"
   },
   "source": [
    "- __Predicted Rating :__\n",
    "    - $ \\large \\hat{r}_{ui} = \\mu + b_u + b_i + q_i^T\\left(p_u +\n",
    "    |I_u|^{-\\frac{1}{2}} \\sum_{j \\in I_u}y_j\\right) $ "
   ]
  },
  {
   "cell_type": "markdown",
   "metadata": {
    "colab_type": "text",
    "id": "ACwlEGXixrr-"
   },
   "source": [
    " - $ \\pmb{I_u}$ --- the set of all items rated by user u\n",
    "\n",
    "- $\\pmb{y_j}$ --- Our new set of item factors that capture implicit ratings.  "
   ]
  },
  {
   "cell_type": "markdown",
   "metadata": {
    "colab_type": "text",
    "id": "FCAxmVdfxrr_"
   },
   "source": [
    "- __Optimization problem with user item interactions and regularization (to avoid overfitting)__\n",
    "    - $ \\large \\sum_{r_{ui} \\in R_{train}} \\left(r_{ui} - \\hat{r}_{ui} \\right)^2 +\n",
    "\\lambda\\left(b_i^2 + b_u^2 + ||q_i||^2 + ||p_u||^2 + ||y_j||^2\\right) $ "
   ]
  },
  {
   "cell_type": "code",
   "execution_count": 31,
   "metadata": {
    "colab": {
     "base_uri": "https://localhost:8080/",
     "height": 816
    },
    "colab_type": "code",
    "id": "Ajw3SQdZxrr_",
    "outputId": "3efb8420-0c09-48b2-b7c2-1c893f2fef8b",
    "scrolled": false
   },
   "outputs": [
    {
     "name": "stdout",
     "output_type": "stream",
     "text": [
      "Training the model...\n",
      " processing epoch 0\n",
      " processing epoch 1\n",
      " processing epoch 2\n",
      " processing epoch 3\n",
      " processing epoch 4\n",
      " processing epoch 5\n",
      " processing epoch 6\n",
      " processing epoch 7\n",
      " processing epoch 8\n",
      " processing epoch 9\n",
      " processing epoch 10\n",
      " processing epoch 11\n",
      " processing epoch 12\n",
      " processing epoch 13\n",
      " processing epoch 14\n",
      " processing epoch 15\n",
      " processing epoch 16\n",
      " processing epoch 17\n",
      " processing epoch 18\n",
      " processing epoch 19\n",
      "Done. time taken : 0:06:01.081839 \n",
      "\n",
      "Evaluating the model with train data..\n",
      "time taken : 0:00:17.271768\n",
      "---------------\n",
      "Train Data\n",
      "---------------\n",
      "RMSE : 0.6242943697858871\n",
      "\n",
      "MAPE : 18.218713271480112\n",
      "\n",
      "adding train results in the dictionary..\n",
      "\n",
      "Evaluating for test data...\n",
      "time taken : 0:00:00.348291\n",
      "---------------\n",
      "Test Data\n",
      "---------------\n",
      "RMSE : 1.0781584680497336\n",
      "\n",
      "MAPE : 34.90014147266236\n",
      "\n",
      "storing the test results in test dictionary...\n",
      "\n",
      "---------------------------------------------\n",
      "Total time taken to run this algorithm : 0:06:18.703953\n"
     ]
    }
   ],
   "source": [
    "# initiallize the model\n",
    "svdpp = SVDpp(n_factors=50, random_state=15, verbose=True)\n",
    "svdpp_train_results, svdpp_test_results = run_surprise(svdpp, trainset, testset, verbose=True)\n",
    "\n",
    "# Just store these error metrics in our models_evaluation datastructure\n",
    "models_evaluation_train['svdpp'] = svdpp_train_results \n",
    "models_evaluation_test['svdpp'] = svdpp_test_results\n"
   ]
  },
  {
   "cell_type": "markdown",
   "metadata": {
    "colab_type": "text",
    "id": "zAlGZGj_xrsB"
   },
   "source": [
    "### **4.4.7 XgBoost with 13 features + Surprise Baseline + Surprise KNNbaseline + MF Techniques**"
   ]
  },
  {
   "cell_type": "markdown",
   "metadata": {
    "colab_type": "text",
    "id": "woIqb160xrsC"
   },
   "source": [
    "__Preparing Train data__"
   ]
  },
  {
   "cell_type": "code",
   "execution_count": 32,
   "metadata": {
    "colab": {
     "base_uri": "https://localhost:8080/",
     "height": 131
    },
    "colab_type": "code",
    "id": "JrQkQ3u3xrsD",
    "outputId": "49f709d7-9018-49ae-da1a-ce0f2a947b83",
    "scrolled": false
   },
   "outputs": [
    {
     "data": {
      "text/html": [
       "<div>\n",
       "<style scoped>\n",
       "    .dataframe tbody tr th:only-of-type {\n",
       "        vertical-align: middle;\n",
       "    }\n",
       "\n",
       "    .dataframe tbody tr th {\n",
       "        vertical-align: top;\n",
       "    }\n",
       "\n",
       "    .dataframe thead th {\n",
       "        text-align: right;\n",
       "    }\n",
       "</style>\n",
       "<table border=\"1\" class=\"dataframe\">\n",
       "  <thead>\n",
       "    <tr style=\"text-align: right;\">\n",
       "      <th></th>\n",
       "      <th>User_ID</th>\n",
       "      <th>Movie_ID</th>\n",
       "      <th>GAvg</th>\n",
       "      <th>sur1</th>\n",
       "      <th>sur2</th>\n",
       "      <th>sur3</th>\n",
       "      <th>sur4</th>\n",
       "      <th>sur5</th>\n",
       "      <th>smr1</th>\n",
       "      <th>smr2</th>\n",
       "      <th>smr3</th>\n",
       "      <th>smr4</th>\n",
       "      <th>smr5</th>\n",
       "      <th>UAvg</th>\n",
       "      <th>MAvg</th>\n",
       "      <th>Rating</th>\n",
       "      <th>bslpr</th>\n",
       "      <th>knn_bsl_u</th>\n",
       "      <th>knn_bsl_m</th>\n",
       "      <th>svd</th>\n",
       "      <th>svdpp</th>\n",
       "    </tr>\n",
       "  </thead>\n",
       "  <tbody>\n",
       "    <tr>\n",
       "      <th>0</th>\n",
       "      <td>174683</td>\n",
       "      <td>10</td>\n",
       "      <td>3.540551</td>\n",
       "      <td>4.0</td>\n",
       "      <td>5.0</td>\n",
       "      <td>4.0</td>\n",
       "      <td>3.0</td>\n",
       "      <td>4.0</td>\n",
       "      <td>3.0</td>\n",
       "      <td>3.0</td>\n",
       "      <td>3.0</td>\n",
       "      <td>5.0</td>\n",
       "      <td>5.0</td>\n",
       "      <td>3.941176</td>\n",
       "      <td>4.111111</td>\n",
       "      <td>5</td>\n",
       "      <td>3.705987</td>\n",
       "      <td>4.998811</td>\n",
       "      <td>4.992385</td>\n",
       "      <td>4.117158</td>\n",
       "      <td>4.176486</td>\n",
       "    </tr>\n",
       "    <tr>\n",
       "      <th>1</th>\n",
       "      <td>233949</td>\n",
       "      <td>10</td>\n",
       "      <td>3.540551</td>\n",
       "      <td>4.0</td>\n",
       "      <td>4.0</td>\n",
       "      <td>5.0</td>\n",
       "      <td>5.0</td>\n",
       "      <td>5.0</td>\n",
       "      <td>2.0</td>\n",
       "      <td>3.0</td>\n",
       "      <td>4.0</td>\n",
       "      <td>3.0</td>\n",
       "      <td>3.0</td>\n",
       "      <td>2.647059</td>\n",
       "      <td>4.111111</td>\n",
       "      <td>3</td>\n",
       "      <td>3.692173</td>\n",
       "      <td>3.106129</td>\n",
       "      <td>3.106302</td>\n",
       "      <td>3.795613</td>\n",
       "      <td>3.849922</td>\n",
       "    </tr>\n",
       "  </tbody>\n",
       "</table>\n",
       "</div>"
      ],
      "text/plain": [
       "   User_ID  Movie_ID      GAvg  sur1  ...  knn_bsl_u  knn_bsl_m       svd     svdpp\n",
       "0   174683        10  3.540551   4.0  ...   4.998811   4.992385  4.117158  4.176486\n",
       "1   233949        10  3.540551   4.0  ...   3.106129   3.106302  3.795613  3.849922\n",
       "\n",
       "[2 rows x 21 columns]"
      ]
     },
     "execution_count": 32,
     "metadata": {
      "tags": []
     },
     "output_type": "execute_result"
    }
   ],
   "source": [
    "# add the predicted values from both knns to this dataframe\n",
    "reg_train['svd'] = models_evaluation_train['svd']['predictions']\n",
    "reg_train['svdpp'] = models_evaluation_train['svdpp']['predictions']\n",
    "\n",
    "reg_train.head(2) "
   ]
  },
  {
   "cell_type": "markdown",
   "metadata": {
    "colab_type": "text",
    "id": "T87HaSHExrsE"
   },
   "source": [
    "__Preparing Test data__"
   ]
  },
  {
   "cell_type": "code",
   "execution_count": 33,
   "metadata": {
    "colab": {
     "base_uri": "https://localhost:8080/",
     "height": 131
    },
    "colab_type": "code",
    "id": "5YFZJ6sqxrsE",
    "outputId": "4ed3b351-b5f6-4d9f-ca98-07f5869c1558"
   },
   "outputs": [
    {
     "data": {
      "text/html": [
       "<div>\n",
       "<style scoped>\n",
       "    .dataframe tbody tr th:only-of-type {\n",
       "        vertical-align: middle;\n",
       "    }\n",
       "\n",
       "    .dataframe tbody tr th {\n",
       "        vertical-align: top;\n",
       "    }\n",
       "\n",
       "    .dataframe thead th {\n",
       "        text-align: right;\n",
       "    }\n",
       "</style>\n",
       "<table border=\"1\" class=\"dataframe\">\n",
       "  <thead>\n",
       "    <tr style=\"text-align: right;\">\n",
       "      <th></th>\n",
       "      <th>User_ID</th>\n",
       "      <th>Movie_ID</th>\n",
       "      <th>GAvg</th>\n",
       "      <th>sur1</th>\n",
       "      <th>sur2</th>\n",
       "      <th>sur3</th>\n",
       "      <th>sur4</th>\n",
       "      <th>sur5</th>\n",
       "      <th>smr1</th>\n",
       "      <th>smr2</th>\n",
       "      <th>smr3</th>\n",
       "      <th>smr4</th>\n",
       "      <th>smr5</th>\n",
       "      <th>UAvg</th>\n",
       "      <th>MAvg</th>\n",
       "      <th>Rating</th>\n",
       "      <th>bslpr</th>\n",
       "      <th>knn_bsl_u</th>\n",
       "      <th>knn_bsl_m</th>\n",
       "      <th>svd</th>\n",
       "      <th>svdpp</th>\n",
       "    </tr>\n",
       "  </thead>\n",
       "  <tbody>\n",
       "    <tr>\n",
       "      <th>0</th>\n",
       "      <td>808635</td>\n",
       "      <td>71</td>\n",
       "      <td>3.540551</td>\n",
       "      <td>3.540551</td>\n",
       "      <td>3.540551</td>\n",
       "      <td>3.540551</td>\n",
       "      <td>3.540551</td>\n",
       "      <td>3.540551</td>\n",
       "      <td>3.540551</td>\n",
       "      <td>3.540551</td>\n",
       "      <td>3.540551</td>\n",
       "      <td>3.540551</td>\n",
       "      <td>3.540551</td>\n",
       "      <td>3.540551</td>\n",
       "      <td>3.540551</td>\n",
       "      <td>5</td>\n",
       "      <td>3.540551</td>\n",
       "      <td>3.540551</td>\n",
       "      <td>3.540551</td>\n",
       "      <td>3.540551</td>\n",
       "      <td>3.540551</td>\n",
       "    </tr>\n",
       "    <tr>\n",
       "      <th>1</th>\n",
       "      <td>898730</td>\n",
       "      <td>71</td>\n",
       "      <td>3.540551</td>\n",
       "      <td>3.540551</td>\n",
       "      <td>3.540551</td>\n",
       "      <td>3.540551</td>\n",
       "      <td>3.540551</td>\n",
       "      <td>3.540551</td>\n",
       "      <td>3.540551</td>\n",
       "      <td>3.540551</td>\n",
       "      <td>3.540551</td>\n",
       "      <td>3.540551</td>\n",
       "      <td>3.540551</td>\n",
       "      <td>3.540551</td>\n",
       "      <td>3.540551</td>\n",
       "      <td>3</td>\n",
       "      <td>3.540551</td>\n",
       "      <td>3.540551</td>\n",
       "      <td>3.540551</td>\n",
       "      <td>3.540551</td>\n",
       "      <td>3.540551</td>\n",
       "    </tr>\n",
       "  </tbody>\n",
       "</table>\n",
       "</div>"
      ],
      "text/plain": [
       "   User_ID  Movie_ID      GAvg  ...  knn_bsl_m       svd     svdpp\n",
       "0   808635        71  3.540551  ...   3.540551  3.540551  3.540551\n",
       "1   898730        71  3.540551  ...   3.540551  3.540551  3.540551\n",
       "\n",
       "[2 rows x 21 columns]"
      ]
     },
     "execution_count": 33,
     "metadata": {
      "tags": []
     },
     "output_type": "execute_result"
    }
   ],
   "source": [
    "reg_test_df['svd'] = models_evaluation_test['svd']['predictions']\n",
    "reg_test_df['svdpp'] = models_evaluation_test['svdpp']['predictions']\n",
    "\n",
    "reg_test_df.head(2) "
   ]
  },
  {
   "cell_type": "markdown",
   "metadata": {
    "colab_type": "text",
    "id": "t7zUJRT3xrsG"
   },
   "source": [
    "**Tunning and Training** "
   ]
  },
  {
   "cell_type": "code",
   "execution_count": 0,
   "metadata": {
    "colab": {},
    "colab_type": "code",
    "id": "0kZuMz4Ow76M"
   },
   "outputs": [],
   "source": [
    "# prepare Train data\n",
    "x_train = reg_train.drop(['User_ID','Movie_ID','Rating'], axis=1)\n",
    "y_train = reg_train['Rating']\n",
    "\n",
    "# Prepare Test data\n",
    "x_test = reg_test_df.drop(['User_ID','Movie_ID','Rating'], axis=1)\n",
    "y_test = reg_test_df['Rating']"
   ]
  },
  {
   "cell_type": "code",
   "execution_count": 40,
   "metadata": {
    "colab": {
     "base_uri": "https://localhost:8080/",
     "height": 734
    },
    "colab_type": "code",
    "id": "5Je-HE6fVLiU",
    "outputId": "f7671ea8-458f-47f5-ae26-29950cdf92ed"
   },
   "outputs": [
    {
     "name": "stdout",
     "output_type": "stream",
     "text": [
      "Tunning the model...\n",
      "\n"
     ]
    },
    {
     "name": "stderr",
     "output_type": "stream",
     "text": [
      "/usr/local/lib/python3.6/dist-packages/xgboost/core.py:587: FutureWarning: Series.base is deprecated and will be removed in a future version\n",
      "  if getattr(data, 'base', None) is not None and \\\n",
      "/usr/local/lib/python3.6/dist-packages/xgboost/core.py:588: FutureWarning: Series.base is deprecated and will be removed in a future version\n",
      "  data.base is not None and isinstance(data, np.ndarray) \\\n"
     ]
    },
    {
     "name": "stdout",
     "output_type": "stream",
     "text": [
      "[07:32:06] WARNING: /workspace/src/objective/regression_obj.cu:152: reg:linear is now deprecated in favor of reg:squarederror.\n",
      "\n",
      "Done.\n",
      "Time taken to tune the model = 0:36:44.163636\n",
      "\n",
      "Best score (MSE) for tunned model is: 0.7342523009850406\n",
      "\n",
      "Best parameters for XBGoost...\n",
      "{'n_estimators': 350, 'max_depth': 1, 'learning_rate': 1}\n",
      "\n",
      "So the best model is:\n",
      "XGBRegressor(base_score=0.5, booster='gbtree', colsample_bylevel=1,\n",
      "             colsample_bynode=1, colsample_bytree=1, gamma=0,\n",
      "             importance_type='gain', learning_rate=1, max_delta_step=0,\n",
      "             max_depth=1, min_child_weight=1, missing=None, n_estimators=350,\n",
      "             n_jobs=-1, nthread=None, objective='reg:linear', random_state=15,\n",
      "             reg_alpha=0, reg_lambda=1, scale_pos_weight=1, seed=None,\n",
      "             silent=None, subsample=1, verbosity=1)\n",
      "\n",
      "\n",
      "Now training the model..\n",
      "[07:32:26] WARNING: /workspace/src/objective/regression_obj.cu:152: reg:linear is now deprecated in favor of reg:squarederror.\n",
      "Done \n",
      "\n",
      "Time taken : 0:00:19.358902\n",
      "\n",
      "\n",
      "Saving the trained model for further use....\n"
     ]
    },
    {
     "data": {
      "text/plain": [
       "XGBRegressor(base_score=0.5, booster='gbtree', colsample_bylevel=1,\n",
       "             colsample_bynode=1, colsample_bytree=1, gamma=0,\n",
       "             importance_type='gain', learning_rate=1, max_delta_step=0,\n",
       "             max_depth=1, min_child_weight=1, missing=None, n_estimators=350,\n",
       "             n_jobs=-1, nthread=None, objective='reg:linear', random_state=15,\n",
       "             reg_alpha=0, reg_lambda=1, scale_pos_weight=1, seed=None,\n",
       "             silent=None, subsample=1, verbosity=1)"
      ]
     },
     "execution_count": 40,
     "metadata": {
      "tags": []
     },
     "output_type": "execute_result"
    }
   ],
   "source": [
    "run_xgboost(x_train, y_train, x_test, y_test, path = d+\"model/\", name = 'fourth')"
   ]
  },
  {
   "cell_type": "code",
   "execution_count": 35,
   "metadata": {
    "colab": {
     "base_uri": "https://localhost:8080/",
     "height": 977
    },
    "colab_type": "code",
    "id": "MtE3Qv8zVLig",
    "outputId": "4e364822-94ae-4129-d99c-70a2c01fd17b"
   },
   "outputs": [
    {
     "name": "stdout",
     "output_type": "stream",
     "text": [
      "Loading the trained the model\n",
      "[08:38:16] WARNING: /workspace/src/objective/regression_obj.cu:152: reg:linear is now deprecated in favor of reg:squarederror.\n",
      "\n",
      "\n",
      "Evaluating the model with TRAIN data...\n",
      "Evaluating Test data\n",
      "\n",
      "TEST DATA\n",
      "------------------------------\n",
      "RMSE :  1.0806420370560996\n",
      "MAPE :  34.70119085438317\n",
      "\n",
      "Let's see the Feature Importance Plot...\n",
      "\n"
     ]
    },
    {
     "data": {
      "image/png": "[encoded data removed]",
      "text/plain": [
       "<Figure size 720x864 with 1 Axes>"
      ]
     },
     "metadata": {
      "tags": []
     },
     "output_type": "display_data"
    }
   ],
   "source": [
    "if os.path.isfile(d+\"model/fourth_xgboost.pkl\"):\n",
    "    print(\"Loading the trained the model\")\n",
    "    with open(d+\"model/fourth_xgboost.pkl\", 'rb') as f:\n",
    "        model = pickle.load(f)\n",
    "    train_results, test_results = report_xgboost(model, x_train, y_train, x_test, y_test)\n",
    " # store the results in models_evaluations dictionaries\n",
    "    models_evaluation_train['fourth_algo'] = train_results\n",
    "    models_evaluation_test['fourth_algo'] = test_results   \n",
    "else:\n",
    "    print(\"Model is not trained and saved!\\nRun above cell\")"
   ]
  },
  {
   "cell_type": "markdown",
   "metadata": {
    "colab_type": "text",
    "id": "NN-0BKnXxrsI"
   },
   "source": [
    "### **4.4.8 XgBoost with Surprise Baseline + Surprise KNNbaseline + MF Techniques**"
   ]
  },
  {
   "cell_type": "code",
   "execution_count": 0,
   "metadata": {
    "colab": {},
    "colab_type": "code",
    "id": "gZYS3LMpxE56"
   },
   "outputs": [],
   "source": [
    "# prepare Train data\n",
    "x_train = reg_train[['knn_bsl_u', 'knn_bsl_m', 'svd', 'svdpp']]\n",
    "y_train = reg_train['Rating']\n",
    "\n",
    "# Prepare Test data\n",
    "x_test = reg_test_df[['knn_bsl_u', 'knn_bsl_m', 'svd', 'svdpp']]\n",
    "y_test = reg_test_df['Rating']"
   ]
  },
  {
   "cell_type": "code",
   "execution_count": 42,
   "metadata": {
    "colab": {
     "base_uri": "https://localhost:8080/",
     "height": 734
    },
    "colab_type": "code",
    "id": "8IxUDJodVk64",
    "outputId": "a8f0ec7b-cb5f-4de2-d93b-283602614995"
   },
   "outputs": [
    {
     "name": "stdout",
     "output_type": "stream",
     "text": [
      "Tunning the model...\n",
      "\n"
     ]
    },
    {
     "name": "stderr",
     "output_type": "stream",
     "text": [
      "/usr/local/lib/python3.6/dist-packages/xgboost/core.py:587: FutureWarning: Series.base is deprecated and will be removed in a future version\n",
      "  if getattr(data, 'base', None) is not None and \\\n",
      "/usr/local/lib/python3.6/dist-packages/xgboost/core.py:588: FutureWarning: Series.base is deprecated and will be removed in a future version\n",
      "  data.base is not None and isinstance(data, np.ndarray) \\\n"
     ]
    },
    {
     "name": "stdout",
     "output_type": "stream",
     "text": [
      "[07:55:15] WARNING: /workspace/src/objective/regression_obj.cu:152: reg:linear is now deprecated in favor of reg:squarederror.\n",
      "\n",
      "Done.\n",
      "Time taken to tune the model = 0:22:57.295395\n",
      "\n",
      "Best score (MSE) for tunned model is: 1.1699458105371798\n",
      "\n",
      "Best parameters for XBGoost...\n",
      "{'n_estimators': 1000, 'max_depth': 1, 'learning_rate': 0.01}\n",
      "\n",
      "So the best model is:\n",
      "XGBRegressor(base_score=0.5, booster='gbtree', colsample_bylevel=1,\n",
      "             colsample_bynode=1, colsample_bytree=1, gamma=0,\n",
      "             importance_type='gain', learning_rate=0.01, max_delta_step=0,\n",
      "             max_depth=1, min_child_weight=1, missing=None, n_estimators=1000,\n",
      "             n_jobs=-1, nthread=None, objective='reg:linear', random_state=15,\n",
      "             reg_alpha=0, reg_lambda=1, scale_pos_weight=1, seed=None,\n",
      "             silent=None, subsample=1, verbosity=1)\n",
      "\n",
      "\n",
      "Now training the model..\n",
      "[07:55:48] WARNING: /workspace/src/objective/regression_obj.cu:152: reg:linear is now deprecated in favor of reg:squarederror.\n",
      "Done \n",
      "\n",
      "Time taken : 0:00:32.987216\n",
      "\n",
      "\n",
      "Saving the trained model for further use....\n"
     ]
    },
    {
     "data": {
      "text/plain": [
       "XGBRegressor(base_score=0.5, booster='gbtree', colsample_bylevel=1,\n",
       "             colsample_bynode=1, colsample_bytree=1, gamma=0,\n",
       "             importance_type='gain', learning_rate=0.01, max_delta_step=0,\n",
       "             max_depth=1, min_child_weight=1, missing=None, n_estimators=1000,\n",
       "             n_jobs=-1, nthread=None, objective='reg:linear', random_state=15,\n",
       "             reg_alpha=0, reg_lambda=1, scale_pos_weight=1, seed=None,\n",
       "             silent=None, subsample=1, verbosity=1)"
      ]
     },
     "execution_count": 42,
     "metadata": {
      "tags": []
     },
     "output_type": "execute_result"
    }
   ],
   "source": [
    "run_xgboost(x_train, y_train, x_test, y_test, path = d+\"model/\", name = 'fifth')"
   ]
  },
  {
   "cell_type": "code",
   "execution_count": 37,
   "metadata": {
    "colab": {
     "base_uri": "https://localhost:8080/",
     "height": 977
    },
    "colab_type": "code",
    "id": "DFsEkSGBVk6_",
    "outputId": "66d40c29-affa-4334-b337-662e312a3ecb"
   },
   "outputs": [
    {
     "name": "stdout",
     "output_type": "stream",
     "text": [
      "Loading the trained the model\n",
      "[08:38:20] WARNING: /workspace/src/objective/regression_obj.cu:152: reg:linear is now deprecated in favor of reg:squarederror.\n",
      "\n",
      "\n",
      "Evaluating the model with TRAIN data...\n",
      "Evaluating Test data\n",
      "\n",
      "TEST DATA\n",
      "------------------------------\n",
      "RMSE :  1.0844865698169586\n",
      "MAPE :  35.465075317641706\n",
      "\n",
      "Let's see the Feature Importance Plot...\n",
      "\n"
     ]
    },
    {
     "data": {
      "image/png": "[encoded data removed]",
      "text/plain": [
       "<Figure size 720x864 with 1 Axes>"
      ]
     },
     "metadata": {
      "tags": []
     },
     "output_type": "display_data"
    }
   ],
   "source": [
    "if os.path.isfile(d+\"model/fifth_xgboost.pkl\"):\n",
    "    print(\"Loading the trained the model\")\n",
    "    with open(d+\"model/fifth_xgboost.pkl\", 'rb') as f:\n",
    "        model = pickle.load(f)\n",
    "    train_results, test_results = report_xgboost(model, x_train, y_train, x_test, y_test)\n",
    " # store the results in models_evaluations dictionaries\n",
    "    models_evaluation_train['fifth_algo'] = train_results\n",
    "    models_evaluation_test['fifth_algo'] = test_results   \n",
    "else:\n",
    "    print(\"Model is not trained and saved!\\nRun above cell\")"
   ]
  },
  {
   "cell_type": "markdown",
   "metadata": {
    "colab_type": "text",
    "id": "_25XCitmGOLO"
   },
   "source": [
    "# **5. Conclusion**"
   ]
  },
  {
   "cell_type": "markdown",
   "metadata": {
    "colab_type": "text",
    "id": "Yd0ye7O1xrsR"
   },
   "source": [
    "## **5.1 Comparision between all models**"
   ]
  },
  {
   "cell_type": "code",
   "execution_count": 38,
   "metadata": {
    "colab": {
     "base_uri": "https://localhost:8080/",
     "height": 204
    },
    "colab_type": "code",
    "id": "DxsS3JKnxrsS",
    "outputId": "14096c5f-6569-4fa2-cfd1-66ee986f6ab4",
    "scrolled": false
   },
   "outputs": [
    {
     "data": {
      "text/plain": [
       "bsl_algo       1.0775940553959478\n",
       "svd            1.0777301884881167\n",
       "knn_bsl_u      1.0777732968071752\n",
       "knn_bsl_m       1.077805003654094\n",
       "svdpp          1.0781584680497336\n",
       "fourth_algo    1.0806420370560996\n",
       "fifth_algo     1.0844865698169586\n",
       "third_algo     1.1089779050222959\n",
       "first_algo     1.1102497756835779\n",
       "second_algo     1.122035458097968\n",
       "Name: rmse, dtype: object"
      ]
     },
     "execution_count": 38,
     "metadata": {
      "tags": []
     },
     "output_type": "execute_result"
    }
   ],
   "source": [
    "# Saving our TEST_RESULTS into a dataframe so that you don't have to run it again\n",
    "# pd.DataFrame(models_evaluation_test).to_csv(d+'processed_data/small_sample_results.csv')\n",
    "models = pd.read_csv(d+'processed_data/small_sample_results.csv', index_col=0)\n",
    "models.loc['rmse'].sort_values()"
   ]
  },
  {
   "cell_type": "markdown",
   "metadata": {
    "colab_type": "text",
    "id": "VkWS46z2QI3z"
   },
   "source": [
    "* In whole train data there are **17k movies** and **480k users**. Then data was split into train and test dataset to create and validate the different models. \n",
    "* Time was given for every datapoint, so **temporal split** (time based) was done. The train data was split into **80-20**.\n",
    "* Then **rating matrix** was created for both train and test data. The **rating matrices** are sparse matrix. \n",
    "* Then we sampled the train and test data. We randomly took only **15k users & 3k movies** from train data and **7.5k users & 1.5k movies** from test data.\n",
    "* Then the featurization was done. 13 created features were hand crafted and other features are the prediction of **surprise models**. \n",
    "* **RandomizedSearchCV** was used to tune the hyper-parameters of **XGBoost** models. **max_depth, n_estimators and learning_rate** hyper-paramters were tuned.\n",
    "* But by looking at above reading we can say that for sampled dataset **baseline model** of **surprise library** is giving lowest **RMSE** value.\n",
    "* The value of **RMSE** further can be reduced by using more number of datapoints (i.e. more number of users and movies).   "
   ]
  },
  {
   "cell_type": "code",
   "execution_count": 0,
   "metadata": {
    "colab": {},
    "colab_type": "code",
    "id": "vWtlNxMIYffo"
   },
   "outputs": [],
   "source": []
  }
 ],
 "metadata": {
  "colab": {
   "collapsed_sections": [
    "1kmagNKcxrjf",
    "oyEGal9sxrj0",
    "lVyeqDMqxrkO",
    "hOBwSU1yxrkP",
    "O6Jh9hMUxrky",
    "QofEYR63xrk9",
    "OhrBQacmxrlM",
    "FIduSZiexrlW",
    "SCT91Uw5xrld",
    "eEVS0juVxrlk",
    "a_tk9Btvxrlq",
    "m3SE677Jxrl0",
    "uLqBOfOkxrmE",
    "Rm4JZhKixrmN",
    "uhqHW352xrm9",
    "F6ZrsYiIxrnH",
    "PmM8S6yaxroi",
    "ipdAdhb3xrok",
    "kb9Yk2f5xrpg",
    "eJIAvNB9xrpv",
    "0jLFR-p1xrqG",
    "fQJ8BE0IxrqJ",
    "BgTx-m-cxrqM",
    "ZNMVuqWHxrqP",
    "A3ldVasnxrqS",
    "qiVaPz6AxrqV",
    "xVwLprg-xrqZ",
    "7ZMRQApaxrqc",
    "r9vMR-Edxrqm",
    "tLaiV_tZxrqy",
    "YzeK0zA9xrq0",
    "ZzgDaBL_xrq8",
    "Cg4ii0eRxrrB",
    "eABdBWP_xrrF",
    "Jh6CNDb1xrrI",
    "FUG-CnKpxrrP",
    "AX3Zrio7xrrU",
    "2w39xJPlxrrh",
    "VCI_ZO0uxrrm",
    "Kd9yvmiLxrro",
    "BFN8SP06xrrr",
    "kOZ62nT7xrr0",
    "l8TKj6Ggxrr1",
    "jmi0We7exrr6",
    "zAlGZGj_xrsB",
    "NN-0BKnXxrsI"
   ],
   "machine_shape": "hm",
   "name": "Netflix Movie Recommendation System.ipynb",
   "provenance": []
  },
  "kernelspec": {
   "display_name": "Python 3",
   "language": "python",
   "name": "python3"
  },
  "language_info": {
   "codemirror_mode": {
    "name": "ipython",
    "version": 3
   },
   "file_extension": ".py",
   "mimetype": "text/x-python",
   "name": "python",
   "nbconvert_exporter": "python",
   "pygments_lexer": "ipython3",
   "version": "3.6.8"
  }
 },
 "nbformat": 4,
 "nbformat_minor": 1
}
