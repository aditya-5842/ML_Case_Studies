{
 "cells": [
  {
   "cell_type": "code",
   "execution_count": 0,
   "metadata": {
    "colab": {},
    "colab_type": "code",
    "id": "GDxR7ZEFqbZF"
   },
   "outputs": [],
   "source": [
    "import warnings\n",
    "warnings.filterwarnings(\"ignore\")\n",
    "\n",
    "import csv, math, pickle, os, pdb, gc, random\n",
    "import pandas as pd\n",
    "import datetime \n",
    "import time \n",
    "import numpy as np\n",
    "import matplotlib\n",
    "import matplotlib.pylab as plt\n",
    "import seaborn as sns\n",
    "from matplotlib import rcParams\n",
    "from sklearn.cluster import MiniBatchKMeans, KMeans#Clustering\n",
    "import warnings\n",
    "import networkx as nx\n",
    "from pandas import HDFStore,DataFrame\n",
    "from pandas import read_hdf\n",
    "from scipy.sparse.linalg import svds, eigs\n",
    "from tqdm import tqdm"
   ]
  },
  {
   "cell_type": "markdown",
   "metadata": {
    "colab_type": "text",
    "id": "VByHymGEto-t"
   },
   "source": [
    "# 1. Reading Data"
   ]
  },
  {
   "cell_type": "code",
   "execution_count": 3,
   "metadata": {
    "colab": {
     "base_uri": "https://localhost:8080/",
     "height": 119
    },
    "colab_type": "code",
    "id": "wXrAgs7Ltg2T",
    "outputId": "63a89ad4-d70f-4fb1-fd04-059464113eac"
   },
   "outputs": [
    {
     "name": "stdout",
     "output_type": "stream",
     "text": [
      "Name: \n",
      "Type: DiGraph\n",
      "Number of nodes: 1780722\n",
      "Number of edges: 7550015\n",
      "Average in degree:   4.2399\n",
      "Average out degree:   4.2399\n"
     ]
    }
   ],
   "source": [
    "d = '/content/drive/My Drive/Colab Notebooks/Datasets/Case_Study/Facebook friend recommendation/'\n",
    "if os.path.isfile(d+'after_eda/train_pos_after_eda.csv'):\n",
    "    train_graph=nx.read_edgelist(d+'after_eda/train_pos_after_eda.csv',delimiter=',',create_using=nx.DiGraph(),nodetype=int)\n",
    "    print(nx.info(train_graph))"
   ]
  },
  {
   "cell_type": "markdown",
   "metadata": {
    "colab_type": "text",
    "id": "6ryWa18cvAVe"
   },
   "source": [
    "# 2. Function to Featurize the data"
   ]
  },
  {
   "cell_type": "markdown",
   "metadata": {
    "colab_type": "text",
    "id": "OiNSnTedvExf"
   },
   "source": [
    "## 2.1 Simiarity Measures"
   ]
  },
  {
   "cell_type": "markdown",
   "metadata": {
    "colab_type": "text",
    "id": "d1UVY--NvSTL"
   },
   "source": [
    "### 2.1.1 Jaccard Index/Similarity"
   ]
  },
  {
   "cell_type": "markdown",
   "metadata": {
    "colab_type": "text",
    "id": "srx35R2nvYpc"
   },
   "source": [
    "To know in detalis: [link](http://www.statisticshowto.com/jaccard-index/)\n",
    "\\begin{equation}\n",
    "J(A,B) = \\frac{|A\\cap B|}{|A \\cup B|} \n",
    "\\end{equation}"
   ]
  },
  {
   "cell_type": "code",
   "execution_count": 0,
   "metadata": {
    "colab": {},
    "colab_type": "code",
    "id": "7p1YLhCmt6cn"
   },
   "outputs": [],
   "source": [
    "#for followees\n",
    "def jaccard_for_followees(a,b):\n",
    "    try:\n",
    "        A = set(train_graph.successors(a))\n",
    "        B = set(train_graph.successors(b))\n",
    "        \n",
    "        if (len(A) == 0)  | (len(B) == 0):\n",
    "            return 0\n",
    "    \n",
    "        A_intersection_B = A.intersection(B)\n",
    "        A_union_B        = A.union(B)    \n",
    "        jaccard = len(A_intersection_B)/len(A_union_B)\n",
    "        \n",
    "        return jaccard\n",
    "    except:\n",
    "        return 0\n",
    " "
   ]
  },
  {
   "cell_type": "code",
   "execution_count": 5,
   "metadata": {
    "colab": {
     "base_uri": "https://localhost:8080/",
     "height": 51
    },
    "colab_type": "code",
    "id": "x7SLXgHu7css",
    "outputId": "2d0e7b98-e1a2-4848-d73c-a992bfb7d8ed"
   },
   "outputs": [
    {
     "name": "stdout",
     "output_type": "stream",
     "text": [
      "0.0\n",
      "0\n"
     ]
    }
   ],
   "source": [
    "#one test case\n",
    "print(jaccard_for_followees(273084,1505602))\n",
    "#node 1635354 not in graph\n",
    "print(jaccard_for_followees(1635354,1505602))"
   ]
  },
  {
   "cell_type": "code",
   "execution_count": 0,
   "metadata": {
    "colab": {},
    "colab_type": "code",
    "id": "q_PIw6Zl4Fv3"
   },
   "outputs": [],
   "source": [
    "#for followers\n",
    "def jaccard_for_followers(a,b):\n",
    "    try:\n",
    "        A = set(train_graph.predecessors(a))\n",
    "        B = set(train_graph.predecessors(b))\n",
    "        \n",
    "        if (len(A) == 0)  | (len(B) == 0):\n",
    "            return 0\n",
    "    \n",
    "        A_intersection_B = A.intersection(B)\n",
    "        A_union_B        = A.union(B)    \n",
    "        jaccard = len(A_intersection_B)/len(A_union_B)\n",
    "        \n",
    "        return jaccard\n",
    "    except:\n",
    "        return 0\n",
    " "
   ]
  },
  {
   "cell_type": "code",
   "execution_count": 7,
   "metadata": {
    "colab": {
     "base_uri": "https://localhost:8080/",
     "height": 51
    },
    "colab_type": "code",
    "id": "4lZpnSSmv5fX",
    "outputId": "a1713eb3-d508-47c2-8863-87c8a41f9d51"
   },
   "outputs": [
    {
     "name": "stdout",
     "output_type": "stream",
     "text": [
      "0.0\n",
      "0\n"
     ]
    }
   ],
   "source": [
    "#one test case\n",
    "print(jaccard_for_followers(273084,1505602))\n",
    "#node 1635354 not in graph\n",
    "print(jaccard_for_followers(1635354,1505602))"
   ]
  },
  {
   "cell_type": "markdown",
   "metadata": {
    "colab_type": "text",
    "id": "A6tYafCk-fT2"
   },
   "source": [
    "### 2.1.2 Cosine Similarity (Modified)"
   ]
  },
  {
   "cell_type": "markdown",
   "metadata": {
    "colab_type": "text",
    "id": "e9mcdXv7-m55"
   },
   "source": [
    "* __Otsuka-Ochiai coefficient__\n",
    "  * To know in deatils click [here](https://en.wikipedia.org/wiki/Cosine_similarity#Otsuka-Ochiai_coefficient).\n",
    "\\begin{equation}\n",
    "O(A,B) = \\frac{|A\\cap B|}{\\sqrt{|A|\\cdot|B|}} \n",
    "\\end{equation}"
   ]
  },
  {
   "cell_type": "code",
   "execution_count": 0,
   "metadata": {
    "colab": {},
    "colab_type": "code",
    "id": "gRBvOyGh_1Ct"
   },
   "outputs": [],
   "source": [
    "#for followees\n",
    "def Otsuka_Ochiai_coefficient_followees(a,b):\n",
    "    try:\n",
    "        A = set(train_graph.successors(a))\n",
    "        B = set(train_graph.successors(b))\n",
    "        \n",
    "        if (len(A) == 0)  | (len(B) == 0):\n",
    "            return 0\n",
    "    \n",
    "        A_intersection_B = A.intersection(B)  \n",
    "        Otsuka_Ochiai_coef = len(A_intersection_B)/math.sqrt(len(A)*len(B))\n",
    "        \n",
    "        return Otsuka_Ochiai_coef\n",
    "    except:\n",
    "        return 0"
   ]
  },
  {
   "cell_type": "code",
   "execution_count": 9,
   "metadata": {
    "colab": {
     "base_uri": "https://localhost:8080/",
     "height": 51
    },
    "colab_type": "code",
    "id": "NMszJEvd_1C4",
    "outputId": "00bf9ddd-64ba-47aa-833c-776f095402e9"
   },
   "outputs": [
    {
     "name": "stdout",
     "output_type": "stream",
     "text": [
      "0.0\n",
      "0\n"
     ]
    }
   ],
   "source": [
    "#one test case\n",
    "print(Otsuka_Ochiai_coefficient_followees(273084,1505602))\n",
    "#node 1635354 not in graph\n",
    "print(Otsuka_Ochiai_coefficient_followees(1635354,1505602))"
   ]
  },
  {
   "cell_type": "code",
   "execution_count": 0,
   "metadata": {
    "colab": {},
    "colab_type": "code",
    "id": "hD-MbaAt_1DC"
   },
   "outputs": [],
   "source": [
    "#for followers\n",
    "def Otsuka_Ochiai_coefficient_followers(a,b):\n",
    "    try:\n",
    "        A = set(train_graph.predecessors(a))\n",
    "        B = set(train_graph.predecessors(b))\n",
    "        \n",
    "        if (len(A) == 0)  | (len(B) == 0):\n",
    "            return 0\n",
    "    \n",
    "        A_intersection_B = A.intersection(B)  \n",
    "        Otsuka_Ochiai_coef = len(A_intersection_B)/math.sqrt(len(A)*len(B))\n",
    "        \n",
    "        return Otsuka_Ochiai_coef\n",
    "    except:\n",
    "        return 0"
   ]
  },
  {
   "cell_type": "code",
   "execution_count": 11,
   "metadata": {
    "colab": {
     "base_uri": "https://localhost:8080/",
     "height": 51
    },
    "colab_type": "code",
    "id": "1u9RsyZ0_1DI",
    "outputId": "4954a0c3-0ede-48fa-d44f-0e94643560e8"
   },
   "outputs": [
    {
     "name": "stdout",
     "output_type": "stream",
     "text": [
      "0.0\n",
      "0\n"
     ]
    }
   ],
   "source": [
    "#one test case\n",
    "print(Otsuka_Ochiai_coefficient_followers(273084,1505602))\n",
    "#node 1635354 not in graph\n",
    "print(Otsuka_Ochiai_coefficient_followers(1635354,1505602))"
   ]
  },
  {
   "cell_type": "markdown",
   "metadata": {
    "colab_type": "text",
    "id": "LwoJ7VDjA0-M"
   },
   "source": [
    "## 2.2 Page Ranking"
   ]
  },
  {
   "cell_type": "markdown",
   "metadata": {
    "colab_type": "text",
    "id": "cIC41w8MA7Zz"
   },
   "source": [
    "__PageRank computes a ranking of the nodes in the graph G based on the structure of the incoming links.__\n",
    "* This is implemented in *[networkx](https://networkx.github.io/documentation/networkx-1.10/reference/generated/networkx.algorithms.link_analysis.pagerank_alg.pagerank.html)*\n",
    "\n",
    "Image Source: https://upload.wikimedia.org/wikipedia/en/8/8b/PageRanks-Example.jpg\n",
    "<img src=\"https://upload.wikimedia.org/wikipedia/en/8/8b/PageRanks-Example.jpg\" width=\"480\">\n",
    "\n",
    "Mathematical PageRanks for a simple network, expressed as percentages. (Google uses a logarithmic scale.) Page C has a higher PageRank than Page E, even though there are fewer links to C; the one link to C comes from an important page and hence is of high value. If web surfers who start on a random page have an 85% likelihood of choosing a random link from the page they are currently visiting, and a 15% likelihood of jumping to a page chosen at random from the entire web, they will reach Page E 8.1% of the time. (The 15% likelihood of jumping to an arbitrary page corresponds to a damping factor of 85%.) Without damping, all web surfers would eventually end up on Pages A, B, or C, and all other pages would have PageRank zero. In the presence of damping, Page A effectively links to all pages in the web, even though it has no outgoing links of its own.\n",
    "\n",
    "\n"
   ]
  },
  {
   "cell_type": "markdown",
   "metadata": {
    "colab_type": "text",
    "id": "rM-d98KxFSBq"
   },
   "source": [
    "To know in deails: [cilck here](https://en.wikipedia.org/wiki/PageRank)"
   ]
  },
  {
   "cell_type": "code",
   "execution_count": 0,
   "metadata": {
    "colab": {},
    "colab_type": "code",
    "id": "-_wjaAYj8OeE"
   },
   "outputs": [],
   "source": [
    "if not os.path.isfile(d+'fea_sample/page_rank.p'):\n",
    "    page_rank = nx.pagerank(train_graph, alpha=0.85)\n",
    "    with open(d+'fea_sample/page_rank.p','wb') as f:\n",
    "        pickle.dump(page_rank,f)\n",
    "else:\n",
    "    with open(d+'fea_sample/page_rank.p','rb') as f:\n",
    "      page_rank = pickle.load(f)"
   ]
  },
  {
   "cell_type": "code",
   "execution_count": 13,
   "metadata": {
    "colab": {
     "base_uri": "https://localhost:8080/",
     "height": 68
    },
    "colab_type": "code",
    "id": "JPAZz93yGK7m",
    "outputId": "5466d4f2-c4aa-43b3-cea9-4e25980aaf2a"
   },
   "outputs": [
    {
     "name": "stdout",
     "output_type": "stream",
     "text": [
      "min 1.6556497245737814e-07\n",
      "max 2.7098251341935827e-05\n",
      "mean 5.615699699389075e-07\n"
     ]
    }
   ],
   "source": [
    "print('min',page_rank[min(page_rank, key=page_rank.get)])\n",
    "print('max',page_rank[max(page_rank, key=page_rank.get)])\n",
    "print('mean',float(sum(page_rank.values())) / len(page_rank))"
   ]
  },
  {
   "cell_type": "code",
   "execution_count": 14,
   "metadata": {
    "colab": {
     "base_uri": "https://localhost:8080/",
     "height": 34
    },
    "colab_type": "code",
    "id": "Fh3BDCrFGQqC",
    "outputId": "d0dfbbe8-a5c1-4991-d507-60a4454977a6"
   },
   "outputs": [
    {
     "name": "stdout",
     "output_type": "stream",
     "text": [
      "5.615699699389075e-07\n"
     ]
    }
   ],
   "source": [
    "#for imputing to nodes which are not there in Train data\n",
    "mean_page_rank = float(sum(page_rank.values())) / len(page_rank)\n",
    "print(mean_page_rank)"
   ]
  },
  {
   "cell_type": "markdown",
   "metadata": {
    "colab_type": "text",
    "id": "9tA2vfxgFl4V"
   },
   "source": [
    "## 2.3 Some Other Graph Features"
   ]
  },
  {
   "cell_type": "markdown",
   "metadata": {
    "colab_type": "text",
    "id": "0nB48_DyGkIT"
   },
   "source": [
    "### 2.3.1 Shortest Path"
   ]
  },
  {
   "cell_type": "markdown",
   "metadata": {
    "colab_type": "text",
    "id": "TsY-kWZrHj8Q"
   },
   "source": [
    "* Getting Shortest path between two nodes.\n",
    "* If nodes have direct path i.e directly connected then we are removing that edge and calculating path.\n",
    "\n",
    "**Note:** This will remove the edge between two nodes if there exist a direct edge. So after calling this fucntion you must load your graph again."
   ]
  },
  {
   "cell_type": "code",
   "execution_count": 0,
   "metadata": {
    "colab": {},
    "colab_type": "code",
    "id": "ybBqTGZ3Fqbi"
   },
   "outputs": [],
   "source": [
    "#if has direct edge then deleting that edge and calculating shortest path\n",
    "def compute_shortest_path_length(a,b):\n",
    "\n",
    "    try:\n",
    "        if train_graph.has_edge(a,b):\n",
    "            train_graph.remove_edge(a,b)\n",
    "            p= nx.shortest_path_length(train_graph,source=a,target=b)\n",
    "            train_graph.add_edge(a,b)\n",
    "        else:\n",
    "            p= nx.shortest_path_length(train_graph,source=a,target=b)\n",
    "        return p\n",
    "    except:\n",
    "        return -1"
   ]
  },
  {
   "cell_type": "code",
   "execution_count": 16,
   "metadata": {
    "colab": {
     "base_uri": "https://localhost:8080/",
     "height": 0
    },
    "colab_type": "code",
    "id": "eaNDSP5AImzn",
    "outputId": "0cd3ce90-9e64-4f34-8391-a9c6c866c77b"
   },
   "outputs": [
    {
     "name": "stdout",
     "output_type": "stream",
     "text": [
      "For existing nodes                 - source = 77697, target = 826021: 10\n",
      "For node which is not in train data- source = 669354, target = 1635354: -1\n"
     ]
    }
   ],
   "source": [
    "#testing\n",
    "print('For existing nodes                 - source = {}, target = {}: {}'.format(77697, 826021, compute_shortest_path_length(77697, 826021)))\n",
    "print('For node which is not in train data- source = {}, target = {}: {}'.format(669354, 1635354, compute_shortest_path_length(669354,1635354)))"
   ]
  },
  {
   "cell_type": "markdown",
   "metadata": {
    "colab_type": "text",
    "id": "BlS9holfOzUA"
   },
   "source": [
    "### 2.3.2 Checking for same community"
   ]
  },
  {
   "cell_type": "markdown",
   "metadata": {
    "colab_type": "text",
    "id": "OnZstTOAO3ND"
   },
   "source": [
    "* Boolean feature: 0 or 1\n",
    "* Does given a pair of node exist in weakly connected graph or not?"
   ]
  },
  {
   "cell_type": "code",
   "execution_count": 0,
   "metadata": {
    "colab": {},
    "colab_type": "code",
    "id": "BGhnHbH2JPtT"
   },
   "outputs": [],
   "source": [
    "#getting weekly connected edges from graph \n",
    "wcc = list(nx.weakly_connected_components(train_graph))\n",
    "\n",
    "def belongs_to_same_wcc(a,b):\n",
    "    index = []\n",
    "    if train_graph.has_edge(a,b):\n",
    "        for i in wcc:\n",
    "            if a in i:\n",
    "                index= i\n",
    "                break\n",
    "        if (b in index):\n",
    "            if compute_shortest_path_length(a,b)==-1:\n",
    "                return 0\n",
    "            else:\n",
    "                train_graph.add_edge(a,b)\n",
    "                return 1\n",
    "        else:\n",
    "            return 0\n",
    "    else:\n",
    "        for i in wcc:\n",
    "            if a in i:\n",
    "                index= i\n",
    "                break\n",
    "                \n",
    "        if(b in index):\n",
    "            return 1\n",
    "        else:\n",
    "            return 0"
   ]
  },
  {
   "cell_type": "code",
   "execution_count": 18,
   "metadata": {
    "colab": {
     "base_uri": "https://localhost:8080/",
     "height": 0
    },
    "colab_type": "code",
    "id": "mgREjdjkcOCs",
    "outputId": "fbe8ce4e-fd3a-404f-b07b-d0f4572b1a49"
   },
   "outputs": [
    {
     "name": "stdout",
     "output_type": "stream",
     "text": [
      "0\n",
      "0\n"
     ]
    }
   ],
   "source": [
    "print(belongs_to_same_wcc(861, 1659750))\n",
    "print(belongs_to_same_wcc(669354,1635354))"
   ]
  },
  {
   "cell_type": "markdown",
   "metadata": {
    "colab_type": "text",
    "id": "AihV7BXacZxO"
   },
   "source": [
    "### 2.3.3 Adamic/Adar Index:"
   ]
  },
  {
   "cell_type": "markdown",
   "metadata": {
    "colab_type": "text",
    "id": "wPyiB75mchvB"
   },
   "source": [
    "Adamic/Adar measures is defined as inverted sum of degrees of common neighbours for given two vertices.\n",
    "\\begin{equation}\n",
    "A(a,b) = \\sum_{u \\in N(b) \\cap N(b)}\\frac{1}{log(|N(u)|)}\n",
    "\\end{equation}\n",
    "\n",
    "**Note:** Modified Adar index is implemented here becasue it is defined for undirected graphs. But we're using this concpet *u ∈ U*, where *U* will be intersection of successors of *x* and *y*. *N(u)* will be set of predessors of *u*. "
   ]
  },
  {
   "cell_type": "code",
   "execution_count": 0,
   "metadata": {
    "colab": {},
    "colab_type": "code",
    "id": "L0vAFHfzcWXR"
   },
   "outputs": [],
   "source": [
    "#adar index\n",
    "def calc_adar_in(a,b):\n",
    "    my_sum = 0\n",
    "    try:\n",
    "        A = set(train_graph.successors(a)).union(set(train_graph.predecessors(a)))\n",
    "        B = set(train_graph.successors(b)).union(set(train_graph.predecessors(b)))\n",
    "        u = A.intersection(B)\n",
    "        if len(u) != 0:\n",
    "            for i in u:\n",
    "                N_u = set(train_graph.successors(i)).union(train_graph.predecessors(i))\n",
    "                my_sum += 1/np.log10(len(N_u))\n",
    "            return my_sum\n",
    "        else:\n",
    "            return 0\n",
    "    except:\n",
    "        return 0"
   ]
  },
  {
   "cell_type": "code",
   "execution_count": 20,
   "metadata": {
    "colab": {
     "base_uri": "https://localhost:8080/",
     "height": 0
    },
    "colab_type": "code",
    "id": "tZwfjuUwhtUP",
    "outputId": "e28ae4fd-c118-4e85-ef1c-5a4b82b478ea"
   },
   "outputs": [
    {
     "name": "stdout",
     "output_type": "stream",
     "text": [
      "0.6705281516444292\n",
      "0\n"
     ]
    }
   ],
   "source": [
    "print(calc_adar_in(1,189226))\n",
    "print(calc_adar_in(669354,1635354))"
   ]
  },
  {
   "cell_type": "markdown",
   "metadata": {
    "colab_type": "text",
    "id": "Z073o28diT9Z"
   },
   "source": [
    "### 2.3.4 Follows back"
   ]
  },
  {
   "cell_type": "code",
   "execution_count": 0,
   "metadata": {
    "colab": {},
    "colab_type": "code",
    "id": "yFmW3jAxiE6F"
   },
   "outputs": [],
   "source": [
    "def follows_back(a,b):\n",
    "    if train_graph.has_edge(b,a):\n",
    "        return 1\n",
    "    else:\n",
    "        return 0"
   ]
  },
  {
   "cell_type": "code",
   "execution_count": 22,
   "metadata": {
    "colab": {
     "base_uri": "https://localhost:8080/",
     "height": 0
    },
    "colab_type": "code",
    "id": "bPEhoze-iceM",
    "outputId": "efd2b22f-eeab-46d7-f638-f5bde81d8484"
   },
   "outputs": [
    {
     "name": "stdout",
     "output_type": "stream",
     "text": [
      "1\n",
      "0\n"
     ]
    }
   ],
   "source": [
    "print(follows_back(1,189226))\n",
    "print(follows_back(669354,1635354))"
   ]
  },
  {
   "cell_type": "markdown",
   "metadata": {
    "colab_type": "text",
    "id": "7-oJw9NdjV4y"
   },
   "source": [
    "### 2.3.5 Katz Centrality"
   ]
  },
  {
   "cell_type": "markdown",
   "metadata": {
    "colab_type": "text",
    "id": "y6HeN9K5jbtu"
   },
   "source": [
    "* https://en.wikipedia.org/wiki/Katz_centrality\n",
    "\n",
    "* https://www.geeksforgeeks.org/katz-centrality-centrality-measure/\n",
    " \n",
    "Katz centrality computes the centrality for a node \n",
    "    based on the centrality of its neighbors. It is a \n",
    "    generalization of the eigenvector centrality. The\n",
    "    Katz centrality for node `i` is\n",
    " \n",
    "$$x_i = \\alpha \\sum_{j} A_{ij} x_j + \\beta,$$\n",
    "where `A` is the adjacency matrix of the graph G \n",
    "with eigenvalues $$\\lambda$$.\n",
    "\n",
    "The parameter $$\\beta$$ controls the initial centrality and \n",
    "\n",
    "$$\\alpha < \\frac{1}{\\lambda_{max}}.$$"
   ]
  },
  {
   "cell_type": "code",
   "execution_count": 0,
   "metadata": {
    "colab": {},
    "colab_type": "code",
    "id": "nJMNtGaljTMs"
   },
   "outputs": [],
   "source": [
    "if not os.path.isfile(d+'fea_sample/katz.p'):\n",
    "    katz = nx.katz.katz_centrality(train_graph, alpha=0.005, beta=1)\n",
    "    with open(d+'fea_sample/katz.p','wb') as f:\n",
    "        pickle.dump(katz, f)\n",
    "else:\n",
    "    with open(d+'fea_sample/katz.p','rb') as f:\n",
    "        katz = pickle.load(f)"
   ]
  },
  {
   "cell_type": "code",
   "execution_count": 24,
   "metadata": {
    "colab": {
     "base_uri": "https://localhost:8080/",
     "height": 0
    },
    "colab_type": "code",
    "id": "2lJfG3a6krl0",
    "outputId": "db113092-cf5c-4321-d32d-9e374840432d"
   },
   "outputs": [
    {
     "name": "stdout",
     "output_type": "stream",
     "text": [
      "min 0.0007313532503674038\n",
      "max 0.003394554990800175\n",
      "mean 0.0007483800934937644\n"
     ]
    }
   ],
   "source": [
    "print('min',katz[min(katz, key=katz.get)])\n",
    "print('max',katz[max(katz, key=katz.get)])\n",
    "print('mean',float(sum(katz.values())) / len(katz))"
   ]
  },
  {
   "cell_type": "code",
   "execution_count": 25,
   "metadata": {
    "colab": {
     "base_uri": "https://localhost:8080/",
     "height": 0
    },
    "colab_type": "code",
    "id": "OtcrVB-GlnGc",
    "outputId": "8ff5ffa3-6ef0-4cf0-f293-c3182a39cb5e"
   },
   "outputs": [
    {
     "name": "stdout",
     "output_type": "stream",
     "text": [
      "0.0007483800934937644\n"
     ]
    }
   ],
   "source": [
    "mean_katz = float(sum(katz.values())) / len(katz)\n",
    "print(mean_katz)"
   ]
  },
  {
   "cell_type": "markdown",
   "metadata": {
    "colab_type": "text",
    "id": "9Mpfhng2kygv"
   },
   "source": [
    "### 2.3.6 Hits Score"
   ]
  },
  {
   "cell_type": "markdown",
   "metadata": {
    "colab_type": "text",
    "id": "598T0BV4k78O"
   },
   "source": [
    "* The HITS algorithm computes two numbers for a node. Authorities estimates the node value based on the incoming links. Hubs estimates the node value based on outgoing links.\n",
    "* For detail information refer this [link](https://en.wikipedia.org/wiki/HITS_algorithm)"
   ]
  },
  {
   "cell_type": "code",
   "execution_count": 0,
   "metadata": {
    "colab": {},
    "colab_type": "code",
    "id": "R7CUTTXzkvIK"
   },
   "outputs": [],
   "source": [
    "if not os.path.isfile(d+'fea_sample/hits.p'):\n",
    "    hits = nx.hits(train_graph, max_iter=100, tol=1e-08, nstart=None, normalized=True)\n",
    "    with open(d+'fea_sample/hits.p','wb') as f:\n",
    "        pickle.dump(hits, f)\n",
    "else:\n",
    "    with open(d+'fea_sample/hits.p','rb') as f:\n",
    "        hits = pickle.load(f)"
   ]
  },
  {
   "cell_type": "code",
   "execution_count": 27,
   "metadata": {
    "colab": {
     "base_uri": "https://localhost:8080/",
     "height": 0
    },
    "colab_type": "code",
    "id": "FVUso2cVleNL",
    "outputId": "c50bb8da-0ba7-4abd-852a-d7d3a142d5be"
   },
   "outputs": [
    {
     "name": "stdout",
     "output_type": "stream",
     "text": [
      "min 0.0\n",
      "max 0.004868653378780953\n",
      "mean 5.615699699344123e-07\n"
     ]
    }
   ],
   "source": [
    "print('min',hits[0][min(hits[0], key=hits[0].get)])\n",
    "print('max',hits[0][max(hits[0], key=hits[0].get)])\n",
    "print('mean',float(sum(hits[0].values())) / len(hits[0]))"
   ]
  },
  {
   "cell_type": "markdown",
   "metadata": {
    "colab_type": "text",
    "id": "b2eSUaEYzb69"
   },
   "source": [
    "### 2.3.7  Number of follower and followee feature"
   ]
  },
  {
   "cell_type": "code",
   "execution_count": 0,
   "metadata": {
    "colab": {},
    "colab_type": "code",
    "id": "tOCp4i2IzmTb"
   },
   "outputs": [],
   "source": [
    "def compute_number_features(row):\n",
    "    a = [0]*7\n",
    "    try:\n",
    "        s1 = set(train_graph.predecessors(row['source_node']))\n",
    "        s2 = set(train_graph.successors(row['source_node']))\n",
    "    except:\n",
    "        s1 = set()\n",
    "        s2 = set()\n",
    "    \n",
    "    try:\n",
    "        d1=set(train_graph.predecessors(row['destination_node']))\n",
    "        d2=set(train_graph.successors(row['destination_node']))\n",
    "    except:\n",
    "        d1 = set()\n",
    "        d2 = set()\n",
    "    source      = s1.union(s2)\n",
    "    destination = d1.union(d2)\n",
    "    \n",
    "    a[0], a[1], a[2], a[3] = len(s1), len(s2), len(d1), len(d2)\n",
    "    a[4], a[5]= len(s1.intersection(d1)), len(s2.intersection(d2))\n",
    "    a[6] = len(source)*len(destination)\n",
    "    return a"
   ]
  },
  {
   "cell_type": "markdown",
   "metadata": {
    "colab_type": "text",
    "id": "dGA3QDqMzxqN"
   },
   "source": [
    "### 2.3.8 For weight Feature"
   ]
  },
  {
   "cell_type": "markdown",
   "metadata": {
    "colab_type": "text",
    "id": "DhlwNWqqz182"
   },
   "source": [
    "* Weight Features\n",
    " * weight of incoming edges\n",
    " * weight of outgoing edges\n",
    " * weight of incoming edges + weight of outgoing edges\n",
    " * weight of incoming edges * weight of outgoing edges\n",
    " * 2*weight of incoming edges + weight of outgoing edges\n",
    " * weight of incoming edges + 2*weight of outgoing edges\n",
    " \n",
    "In order to determine the similarity of nodes, an edge weight value was calculated between nodes. Edge weight decreases as the neighbor count goes up. Intuitively, consider one million people following a celebrity on a social network then chances are most of them never met each other or the celebrity. On the other hand, if a user has 30 contacts in his/her social network, the chances are higher that many of them know each other. \n",
    "\n",
    "`credit` - Graph-based Features for Supervised Link Prediction\n",
    "William Cukierski, Benjamin Hamner, Bo Yang"
   ]
  },
  {
   "cell_type": "code",
   "execution_count": 29,
   "metadata": {
    "colab": {
     "base_uri": "https://localhost:8080/",
     "height": 0
    },
    "colab_type": "code",
    "id": "aks1lYU3zmPe",
    "outputId": "a79b07a3-143a-4268-a2da-0b784e0a5728"
   },
   "outputs": [
    {
     "name": "stderr",
     "output_type": "stream",
     "text": [
      "100%|██████████| 1780722/1780722 [00:13<00:00, 129682.46it/s]\n"
     ]
    }
   ],
   "source": [
    "#weight for source and destination of each link\n",
    "Weight_in = {}\n",
    "Weight_out = {}\n",
    "for i in  tqdm(train_graph.nodes()):\n",
    "    s1=set(train_graph.predecessors(i))\n",
    "    w_in = 1.0/(np.sqrt(1+len(s1)))\n",
    "    Weight_in[i]=w_in\n",
    "    \n",
    "    s2=set(train_graph.successors(i))\n",
    "    w_out = 1.0/(np.sqrt(1+len(s2)))\n",
    "    Weight_out[i]=w_out\n",
    "    \n",
    "#for imputing with mean\n",
    "mean_weight_in = np.mean(list(Weight_in.values()))\n",
    "mean_weight_out = np.mean(list(Weight_out.values()))"
   ]
  },
  {
   "cell_type": "markdown",
   "metadata": {
    "colab_type": "text",
    "id": "rwUN3FGd0Nhb"
   },
   "source": [
    "### 2.3.9 For SVD Features"
   ]
  },
  {
   "cell_type": "code",
   "execution_count": 0,
   "metadata": {
    "colab": {},
    "colab_type": "code",
    "id": "EuQxd_x50QbK"
   },
   "outputs": [],
   "source": [
    "#for svd features to get feature vector creating a dict node val and inedx in svd vector\n",
    "sadj_col = sorted(train_graph.nodes())\n",
    "sadj_dict = { val:idx for idx,val in enumerate(sadj_col)}\n",
    "\n",
    "def svd(x, S):\n",
    "    try:\n",
    "        z = sadj_dict[x]\n",
    "        return S[z]\n",
    "    except:\n",
    "        return [0,0,0,0,0,0]"
   ]
  },
  {
   "cell_type": "code",
   "execution_count": 31,
   "metadata": {
    "colab": {
     "base_uri": "https://localhost:8080/",
     "height": 0
    },
    "colab_type": "code",
    "id": "M88CEb7K0as1",
    "outputId": "237f8073-002d-4333-b495-b0ae65528ea8"
   },
   "outputs": [
    {
     "name": "stdout",
     "output_type": "stream",
     "text": [
      "Adjacency matrix Shape (1780722, 1780722)\n",
      "U Shape (1780722, 6)\n",
      "V Shape (6, 1780722)\n",
      "s Shape (6,)\n"
     ]
    }
   ],
   "source": [
    "Adj = nx.adjacency_matrix(train_graph,nodelist=sorted(train_graph.nodes())).asfptype()\n",
    "U, s, V = svds(Adj, k = 6)\n",
    "print('Adjacency matrix Shape',Adj.shape)\n",
    "print('U Shape',U.shape)\n",
    "print('V Shape',V.shape)\n",
    "print('s Shape',s.shape)"
   ]
  },
  {
   "cell_type": "markdown",
   "metadata": {
    "colab_type": "text",
    "id": "ardo-1Tf0L0K"
   },
   "source": [
    "### 2.3.10 SVD dot"
   ]
  },
  {
   "cell_type": "code",
   "execution_count": 0,
   "metadata": {
    "colab": {},
    "colab_type": "code",
    "id": "ATCrupGg0QtA"
   },
   "outputs": [],
   "source": [
    "def svd_dot(row):\n",
    "    u_s = row[['svd_u_s_1', 'svd_u_s_2','svd_u_s_3', 'svd_u_s_4', 'svd_u_s_5', 'svd_u_s_6']].values\n",
    "    u_d = row[['svd_u_d_1', 'svd_u_d_2', 'svd_u_d_3', 'svd_u_d_4', 'svd_u_d_5','svd_u_d_6']].values\n",
    "    \n",
    "    v_s = row[['svd_v_s_1','svd_v_s_2', 'svd_v_s_3', 'svd_v_s_4', 'svd_v_s_5', 'svd_v_s_6',]].values\n",
    "    v_d = row[['svd_v_d_1', 'svd_v_d_2', 'svd_v_d_3', 'svd_v_d_4', 'svd_v_d_5','svd_v_d_6']].values\n",
    "    \n",
    "    aa = np.dot(u_s, u_d)\n",
    "    bb = np.dot(v_s, v_d)\n",
    "    cc = np.dot(u_s, v_s)\n",
    "    dd = np.dot(u_d, v_d)\n",
    "    \n",
    "    return [aa, bb, cc, dd]"
   ]
  },
  {
   "cell_type": "markdown",
   "metadata": {
    "colab_type": "text",
    "id": "NcIEHW3B9C4V"
   },
   "source": [
    "# 3. Featurization"
   ]
  },
  {
   "cell_type": "markdown",
   "metadata": {
    "colab_type": "text",
    "id": "jwTWpGYmDCaD"
   },
   "source": [
    "## 3.1 Adding a set of features"
   ]
  },
  {
   "cell_type": "markdown",
   "metadata": {
    "colab_type": "text",
    "id": "9DStH4XuFodS"
   },
   "source": [
    "* __we will create these each of these features for both train and test data points__\n",
    "\n",
    "  * **Jaccard Index** \n",
    "   * jaccard_followers\n",
    "   * jaccard_followees\n",
    " * **cosine similarity/Otsuka-Ochiai coefficient**  \n",
    "    * cosine_followers\n",
    "    * cosine_followees\n",
    " * **number of followers/followees** \n",
    "    * num_followers_s : of source\n",
    "    * num_followers_d: of destination\n",
    "    * num_followees_s: of source\n",
    "    * num_followees_d: : of destination\n",
    "    * inter_followers      : number of common followers of source and destination\n",
    "    * inter_followees   : number of common followees of source and destination\n",
    "    * preferntial_attachment: |N(a)|*|N(b)|\n",
    " * **Adar Index**\n",
    "   * adar_index\n",
    " * **Follows back**\n",
    "    * follows_back\n",
    " * **belongs to same weakly connect components**\n",
    "    * same_comp\n",
    " * **shortest path between source and destination**\n",
    "    * shortest_path\n",
    " * __Weight Features__\n",
    "   * weight of incoming edges\n",
    "   * weight of outgoing edges\n",
    "   * weight of incoming edges + weight of outgoing edges\n",
    "   * weight of incoming edges * weight of outgoing edges\n",
    "   * 2*weight of incoming edges + weight of outgoing edges\n",
    "   * weight of incoming edges + 2*weight of outgoing edges\n",
    "\n",
    " * **Page Ranking**\n",
    "    * page_rank_s: of source\n",
    "    * page_rank_d: of destination\n",
    " * **katz** \n",
    "    * katz_s: of source\n",
    "    * katz_s: of destination\n",
    " * **HITS**\n",
    "    * hubs_s: of source\n",
    "    * hubs_d: of destination\n",
    "    * authorities_s: of source\n",
    "    * authorities_d: of destination\n",
    " * **SVD features for both source and destination**\n",
    "\\begin{equation}\n",
    "A = USV^T\n",
    "\\end{equation}\n",
    "    * Taking top 6 rows of U and top 6 columns of corresponding source and destnation\n",
    "    * That makes 6*4 = 24 (total features)\n",
    " * **SVD dot** \n",
    "    * svd_u_s_d: svd_u_s * svd_u_d\n",
    "    * svd_v_s_d: svd_v_s * svd_v_d\n",
    "    * 'svd_u_v_s: svd_u_s * svd_v_s\n",
    "    * svd_u_v_d: svd_u_d * svd_v_d"
   ]
  },
  {
   "cell_type": "markdown",
   "metadata": {
    "colab_type": "text",
    "id": "BLY5i0mR5mDy"
   },
   "source": [
    "**Below fucntion will do all featurization**"
   ]
  },
  {
   "cell_type": "code",
   "execution_count": 0,
   "metadata": {
    "colab": {},
    "colab_type": "code",
    "id": "rgLNJKzmp4iD"
   },
   "outputs": [],
   "source": [
    "def featurize_my_df(df):\n",
    "    \"\"\"This will featurize the given dataframe\"\"\"\n",
    "    \n",
    "    print('\\nDoing simiarity featurization....')\n",
    "    df['jaccard_followers'] = df.apply(lambda row: jaccard_for_followers(row['source_node'],row['destination_node']),axis=1)\n",
    "    df['jaccard_followees'] = df.apply(lambda row: jaccard_for_followees(row['source_node'],row['destination_node']),axis=1)\n",
    "    df['cosine_followers']  = df.apply(lambda row: Otsuka_Ochiai_coefficient_followers(row['source_node'],row['destination_node']),axis=1)\n",
    "    df['cosine_followees']  = df.apply(lambda row: Otsuka_Ochiai_coefficient_followees(row['source_node'],row['destination_node']),axis=1)\n",
    "\n",
    "    print('\\nDoing number of followers and followee based featurization......')\n",
    "    nums_features = df.apply(compute_number_features, axis = 1)\n",
    "    cols = ['num_followers_s', 'num_followers_d', 'num_followees_s', 'num_followees_d', \n",
    "            'inter_followers', 'inter_followees', 'preferntial_attachment']\n",
    "    for i, col in enumerate(cols):\n",
    "        df[col] = list(map(lambda x: x[i], nums_features))\n",
    "\n",
    "    print('\\nDoing adar index, follow back, same community, and shortest path featurization....')\n",
    "    df['adar_index']    = df.apply(lambda row: calc_adar_in(row['source_node'],row['destination_node']),axis=1)\n",
    "    df['follows_back']  = df.apply(lambda row: follows_back(row['source_node'],row['destination_node']),axis=1)\n",
    "    df['same_comp']     = df.apply(lambda row: belongs_to_same_wcc(row['source_node'],row['destination_node']),axis=1)\n",
    "    df['shortest_path'] = df.apply(lambda row: compute_shortest_path_length(row['source_node'],row['destination_node']),axis=1)\n",
    "\n",
    "    print('\\nDoing weight featurization....')\n",
    "    df['weight_in']  = df['destination_node'].apply(lambda x: Weight_in.get(x,mean_weight_in))\n",
    "    df['weight_out'] = df['source_node'].apply(lambda x: Weight_out.get(x,mean_weight_out))\n",
    "\n",
    "    df['weight_f1'] = df['weight_in'] + df['weight_out']\n",
    "    df['weight_f2'] = df['weight_in'] * df['weight_out']\n",
    "    df['weight_f3'] = 2*df['weight_in'] + 1*df['weight_out']\n",
    "    df['weight_f4'] = 1*df['weight_in'] + 2*df['weight_out']\n",
    "\n",
    "    print('\\nDoing PageRank, Kartz, and HITS featurization...')\n",
    "    df['page_rank_s']   = df['source_node'].apply(lambda x:page_rank.get(x,mean_page_rank))\n",
    "    df['page_rank_d']   = df['destination_node'].apply(lambda x:page_rank.get(x,mean_page_rank))\n",
    "    df['katz_s']        = df['source_node'].apply(lambda x: katz.get(x,mean_katz))\n",
    "    df['katz_d']        = df['destination_node'].apply(lambda x: katz.get(x,mean_katz))\n",
    "    df['hubs_s']        = df['source_node'].apply(lambda x: hits[0].get(x,0))\n",
    "    df['hubs_d']        = df['destination_node'].apply(lambda x: hits[0].get(x,0))\n",
    "    df['authorities_s'] = df['source_node'].apply(lambda x: hits[1].get(x,0))\n",
    "    df['authorities_s'] = df['destination_node'].apply(lambda x: hits[1].get(x,0))\n",
    "\n",
    "    print('\\nDoing SVD featurization.......\\n')\n",
    "    df[['svd_u_s_1', 'svd_u_s_2','svd_u_s_3', 'svd_u_s_4', 'svd_u_s_5', 'svd_u_s_6']] = df['source_node'].apply(lambda x: svd(x, U)).apply(pd.Series)\n",
    "    df[['svd_u_d_1', 'svd_u_d_2', 'svd_u_d_3', 'svd_u_d_4', 'svd_u_d_5','svd_u_d_6']] = df['destination_node'].apply(lambda x: svd(x, U)).apply(pd.Series)\n",
    "    df[['svd_v_s_1','svd_v_s_2', 'svd_v_s_3', 'svd_v_s_4', 'svd_v_s_5', 'svd_v_s_6']]= df['source_node'].apply(lambda x: svd(x, V.T)).apply(pd.Series)\n",
    "    df[['svd_v_d_1', 'svd_v_d_2', 'svd_v_d_3', 'svd_v_d_4', 'svd_v_d_5','svd_v_d_6']] = df['destination_node'].apply(lambda x: svd(x, V.T)).apply(pd.Series)\n",
    "    \n",
    "    print('\\nDoing SVD dot featurization.....')\n",
    "    df[['svd_u_s_d', 'svd_v_s_d','svd_u_v_s', 'svd_u_v_d']] = df.apply(svd_dot, axis = 1).apply(pd.Series)\n",
    "\n",
    "    return df\n"
   ]
  },
  {
   "cell_type": "code",
   "execution_count": 34,
   "metadata": {
    "colab": {
     "base_uri": "https://localhost:8080/",
     "height": 326
    },
    "colab_type": "code",
    "id": "0Fg3sZDo6-kT",
    "outputId": "5bd8dc25-90c0-4948-f767-b9e6c6082b84"
   },
   "outputs": [
    {
     "name": "stdout",
     "output_type": "stream",
     "text": [
      "Shape of featurized train data is:  (1000001, 59)\n"
     ]
    },
    {
     "data": {
      "text/html": [
       "<div>\n",
       "<style scoped>\n",
       "    .dataframe tbody tr th:only-of-type {\n",
       "        vertical-align: middle;\n",
       "    }\n",
       "\n",
       "    .dataframe tbody tr th {\n",
       "        vertical-align: top;\n",
       "    }\n",
       "\n",
       "    .dataframe thead th {\n",
       "        text-align: right;\n",
       "    }\n",
       "</style>\n",
       "<table border=\"1\" class=\"dataframe\">\n",
       "  <thead>\n",
       "    <tr style=\"text-align: right;\">\n",
       "      <th></th>\n",
       "      <th>source_node</th>\n",
       "      <th>destination_node</th>\n",
       "      <th>indicator_link</th>\n",
       "      <th>jaccard_followers</th>\n",
       "      <th>jaccard_followees</th>\n",
       "      <th>cosine_followers</th>\n",
       "      <th>cosine_followees</th>\n",
       "      <th>num_followers_s</th>\n",
       "      <th>num_followers_d</th>\n",
       "      <th>num_followees_s</th>\n",
       "      <th>num_followees_d</th>\n",
       "      <th>inter_followers</th>\n",
       "      <th>inter_followees</th>\n",
       "      <th>preferntial_attachment</th>\n",
       "      <th>adar_index</th>\n",
       "      <th>follows_back</th>\n",
       "      <th>same_comp</th>\n",
       "      <th>shortest_path</th>\n",
       "      <th>weight_in</th>\n",
       "      <th>weight_out</th>\n",
       "      <th>weight_f1</th>\n",
       "      <th>weight_f2</th>\n",
       "      <th>weight_f3</th>\n",
       "      <th>weight_f4</th>\n",
       "      <th>page_rank_s</th>\n",
       "      <th>page_rank_d</th>\n",
       "      <th>katz_s</th>\n",
       "      <th>katz_d</th>\n",
       "      <th>hubs_s</th>\n",
       "      <th>hubs_d</th>\n",
       "      <th>authorities_s</th>\n",
       "      <th>svd_u_s_1</th>\n",
       "      <th>svd_u_s_2</th>\n",
       "      <th>svd_u_s_3</th>\n",
       "      <th>svd_u_s_4</th>\n",
       "      <th>svd_u_s_5</th>\n",
       "      <th>svd_u_s_6</th>\n",
       "      <th>svd_u_d_1</th>\n",
       "      <th>svd_u_d_2</th>\n",
       "      <th>svd_u_d_3</th>\n",
       "      <th>svd_u_d_4</th>\n",
       "      <th>svd_u_d_5</th>\n",
       "      <th>svd_u_d_6</th>\n",
       "      <th>svd_v_s_1</th>\n",
       "      <th>svd_v_s_2</th>\n",
       "      <th>svd_v_s_3</th>\n",
       "      <th>svd_v_s_4</th>\n",
       "      <th>svd_v_s_5</th>\n",
       "      <th>svd_v_s_6</th>\n",
       "      <th>svd_v_d_1</th>\n",
       "      <th>svd_v_d_2</th>\n",
       "      <th>svd_v_d_3</th>\n",
       "      <th>svd_v_d_4</th>\n",
       "      <th>svd_v_d_5</th>\n",
       "      <th>svd_v_d_6</th>\n",
       "      <th>svd_u_s_d</th>\n",
       "      <th>svd_v_s_d</th>\n",
       "      <th>svd_u_v_s</th>\n",
       "      <th>svd_u_v_d</th>\n",
       "    </tr>\n",
       "  </thead>\n",
       "  <tbody>\n",
       "    <tr>\n",
       "      <th>0</th>\n",
       "      <td>273084</td>\n",
       "      <td>1505602</td>\n",
       "      <td>1</td>\n",
       "      <td>0.0</td>\n",
       "      <td>0.000000</td>\n",
       "      <td>0.0</td>\n",
       "      <td>0.000000</td>\n",
       "      <td>11</td>\n",
       "      <td>15</td>\n",
       "      <td>6</td>\n",
       "      <td>8</td>\n",
       "      <td>0</td>\n",
       "      <td>0</td>\n",
       "      <td>144</td>\n",
       "      <td>0.000000</td>\n",
       "      <td>0</td>\n",
       "      <td>1</td>\n",
       "      <td>4</td>\n",
       "      <td>0.377964</td>\n",
       "      <td>0.250000</td>\n",
       "      <td>0.627964</td>\n",
       "      <td>0.094491</td>\n",
       "      <td>1.005929</td>\n",
       "      <td>0.877964</td>\n",
       "      <td>2.045290e-06</td>\n",
       "      <td>3.459963e-07</td>\n",
       "      <td>0.000773</td>\n",
       "      <td>0.000756</td>\n",
       "      <td>1.943132e-13</td>\n",
       "      <td>1.941103e-13</td>\n",
       "      <td>2.231877e-15</td>\n",
       "      <td>-1.666343e-13</td>\n",
       "      <td>4.613820e-13</td>\n",
       "      <td>1.043041e-05</td>\n",
       "      <td>6.678032e-13</td>\n",
       "      <td>2.451106e-13</td>\n",
       "      <td>3.584945e-12</td>\n",
       "      <td>-2.038018e-11</td>\n",
       "      <td>5.397914e-13</td>\n",
       "      <td>1.068943e-06</td>\n",
       "      <td>1.192461e-12</td>\n",
       "      <td>2.279487e-12</td>\n",
       "      <td>3.581202e-12</td>\n",
       "      <td>-7.216152e-13</td>\n",
       "      <td>3.926263e-13</td>\n",
       "      <td>1.983700e-06</td>\n",
       "      <td>1.545089e-13</td>\n",
       "      <td>8.108439e-13</td>\n",
       "      <td>1.719704e-14</td>\n",
       "      <td>-1.355369e-12</td>\n",
       "      <td>4.675319e-13</td>\n",
       "      <td>1.128586e-06</td>\n",
       "      <td>6.616719e-14</td>\n",
       "      <td>9.771079e-13</td>\n",
       "      <td>4.160012e-14</td>\n",
       "      <td>1.114951e-11</td>\n",
       "      <td>2.238777e-12</td>\n",
       "      <td>2.069080e-11</td>\n",
       "      <td>1.206394e-12</td>\n",
       "    </tr>\n",
       "    <tr>\n",
       "      <th>1</th>\n",
       "      <td>1409846</td>\n",
       "      <td>845593</td>\n",
       "      <td>1</td>\n",
       "      <td>0.0</td>\n",
       "      <td>0.013514</td>\n",
       "      <td>0.0</td>\n",
       "      <td>0.027217</td>\n",
       "      <td>39</td>\n",
       "      <td>45</td>\n",
       "      <td>28</td>\n",
       "      <td>30</td>\n",
       "      <td>0</td>\n",
       "      <td>1</td>\n",
       "      <td>2072</td>\n",
       "      <td>1.181491</td>\n",
       "      <td>0</td>\n",
       "      <td>1</td>\n",
       "      <td>2</td>\n",
       "      <td>0.185695</td>\n",
       "      <td>0.147442</td>\n",
       "      <td>0.333137</td>\n",
       "      <td>0.027379</td>\n",
       "      <td>0.518833</td>\n",
       "      <td>0.480579</td>\n",
       "      <td>1.742439e-06</td>\n",
       "      <td>1.374692e-06</td>\n",
       "      <td>0.000898</td>\n",
       "      <td>0.000847</td>\n",
       "      <td>6.921463e-13</td>\n",
       "      <td>1.986069e-13</td>\n",
       "      <td>4.286524e-14</td>\n",
       "      <td>-7.284569e-11</td>\n",
       "      <td>3.248140e-11</td>\n",
       "      <td>9.361345e-05</td>\n",
       "      <td>8.865912e-12</td>\n",
       "      <td>9.589357e-11</td>\n",
       "      <td>1.276962e-11</td>\n",
       "      <td>-3.204443e-11</td>\n",
       "      <td>3.572419e-12</td>\n",
       "      <td>2.380382e-05</td>\n",
       "      <td>1.764127e-12</td>\n",
       "      <td>6.267384e-11</td>\n",
       "      <td>3.664161e-12</td>\n",
       "      <td>-2.407480e-11</td>\n",
       "      <td>1.530304e-11</td>\n",
       "      <td>9.363963e-05</td>\n",
       "      <td>3.874162e-12</td>\n",
       "      <td>2.313119e-11</td>\n",
       "      <td>3.278077e-12</td>\n",
       "      <td>-8.453683e-12</td>\n",
       "      <td>2.940329e-12</td>\n",
       "      <td>2.857600e-05</td>\n",
       "      <td>6.475477e-12</td>\n",
       "      <td>2.942376e-10</td>\n",
       "      <td>7.989683e-13</td>\n",
       "      <td>2.228357e-09</td>\n",
       "      <td>2.675846e-09</td>\n",
       "      <td>8.765929e-09</td>\n",
       "      <td>6.802179e-10</td>\n",
       "    </tr>\n",
       "    <tr>\n",
       "      <th>2</th>\n",
       "      <td>396322</td>\n",
       "      <td>149376</td>\n",
       "      <td>1</td>\n",
       "      <td>0.0</td>\n",
       "      <td>0.000000</td>\n",
       "      <td>0.0</td>\n",
       "      <td>0.000000</td>\n",
       "      <td>83</td>\n",
       "      <td>40</td>\n",
       "      <td>12</td>\n",
       "      <td>5</td>\n",
       "      <td>0</td>\n",
       "      <td>0</td>\n",
       "      <td>1152</td>\n",
       "      <td>0.000000</td>\n",
       "      <td>1</td>\n",
       "      <td>1</td>\n",
       "      <td>4</td>\n",
       "      <td>0.277350</td>\n",
       "      <td>0.156174</td>\n",
       "      <td>0.433524</td>\n",
       "      <td>0.043315</td>\n",
       "      <td>0.710874</td>\n",
       "      <td>0.589698</td>\n",
       "      <td>7.515437e-06</td>\n",
       "      <td>1.841841e-06</td>\n",
       "      <td>0.001058</td>\n",
       "      <td>0.000778</td>\n",
       "      <td>8.550374e-13</td>\n",
       "      <td>5.111993e-14</td>\n",
       "      <td>4.854499e-14</td>\n",
       "      <td>-8.915369e-11</td>\n",
       "      <td>3.973980e-11</td>\n",
       "      <td>1.422564e-09</td>\n",
       "      <td>3.800342e-09</td>\n",
       "      <td>1.634233e-09</td>\n",
       "      <td>1.577485e-11</td>\n",
       "      <td>-2.793546e-11</td>\n",
       "      <td>1.730548e-12</td>\n",
       "      <td>5.936181e-09</td>\n",
       "      <td>3.561281e-10</td>\n",
       "      <td>4.696963e-11</td>\n",
       "      <td>9.431274e-13</td>\n",
       "      <td>-1.720010e-11</td>\n",
       "      <td>2.884477e-11</td>\n",
       "      <td>1.490348e-07</td>\n",
       "      <td>3.580888e-08</td>\n",
       "      <td>1.094387e-09</td>\n",
       "      <td>4.278142e-11</td>\n",
       "      <td>-8.284127e-12</td>\n",
       "      <td>2.095593e-11</td>\n",
       "      <td>1.365461e-08</td>\n",
       "      <td>9.258149e-10</td>\n",
       "      <td>1.832441e-11</td>\n",
       "      <td>9.048338e-13</td>\n",
       "      <td>9.877339e-18</td>\n",
       "      <td>2.068186e-15</td>\n",
       "      <td>3.498894e-16</td>\n",
       "      <td>8.138709e-17</td>\n",
       "    </tr>\n",
       "    <tr>\n",
       "      <th>3</th>\n",
       "      <td>1814022</td>\n",
       "      <td>1791177</td>\n",
       "      <td>1</td>\n",
       "      <td>0.0</td>\n",
       "      <td>0.000000</td>\n",
       "      <td>0.0</td>\n",
       "      <td>0.000000</td>\n",
       "      <td>1</td>\n",
       "      <td>1</td>\n",
       "      <td>2</td>\n",
       "      <td>4</td>\n",
       "      <td>0</td>\n",
       "      <td>0</td>\n",
       "      <td>4</td>\n",
       "      <td>0.000000</td>\n",
       "      <td>1</td>\n",
       "      <td>0</td>\n",
       "      <td>-1</td>\n",
       "      <td>0.577350</td>\n",
       "      <td>0.707107</td>\n",
       "      <td>1.284457</td>\n",
       "      <td>0.408248</td>\n",
       "      <td>1.861807</td>\n",
       "      <td>1.991564</td>\n",
       "      <td>2.848986e-07</td>\n",
       "      <td>8.815667e-07</td>\n",
       "      <td>0.000735</td>\n",
       "      <td>0.000739</td>\n",
       "      <td>0.000000e+00</td>\n",
       "      <td>5.132290e-22</td>\n",
       "      <td>0.000000e+00</td>\n",
       "      <td>-8.684146e-20</td>\n",
       "      <td>2.724252e-20</td>\n",
       "      <td>3.203752e-20</td>\n",
       "      <td>-2.134539e-20</td>\n",
       "      <td>-7.157906e-21</td>\n",
       "      <td>-5.906794e-21</td>\n",
       "      <td>-4.935456e-19</td>\n",
       "      <td>4.270668e-19</td>\n",
       "      <td>1.201956e-15</td>\n",
       "      <td>1.954941e-18</td>\n",
       "      <td>3.802028e-20</td>\n",
       "      <td>6.048757e-20</td>\n",
       "      <td>-4.999468e-21</td>\n",
       "      <td>4.255337e-21</td>\n",
       "      <td>1.166742e-17</td>\n",
       "      <td>1.868446e-20</td>\n",
       "      <td>3.037791e-22</td>\n",
       "      <td>4.297382e-22</td>\n",
       "      <td>-1.532090e-21</td>\n",
       "      <td>7.853008e-22</td>\n",
       "      <td>1.902937e-22</td>\n",
       "      <td>-4.362955e-22</td>\n",
       "      <td>5.882412e-22</td>\n",
       "      <td>-8.762249e-22</td>\n",
       "      <td>3.851983e-35</td>\n",
       "      <td>2.222888e-39</td>\n",
       "      <td>3.739417e-37</td>\n",
       "      <td>2.289326e-37</td>\n",
       "    </tr>\n",
       "    <tr>\n",
       "      <th>4</th>\n",
       "      <td>1825190</td>\n",
       "      <td>1686004</td>\n",
       "      <td>1</td>\n",
       "      <td>0.0</td>\n",
       "      <td>0.000000</td>\n",
       "      <td>0.0</td>\n",
       "      <td>0.000000</td>\n",
       "      <td>2</td>\n",
       "      <td>3</td>\n",
       "      <td>1</td>\n",
       "      <td>1</td>\n",
       "      <td>0</td>\n",
       "      <td>0</td>\n",
       "      <td>3</td>\n",
       "      <td>0.000000</td>\n",
       "      <td>1</td>\n",
       "      <td>0</td>\n",
       "      <td>-1</td>\n",
       "      <td>0.707107</td>\n",
       "      <td>0.500000</td>\n",
       "      <td>1.207107</td>\n",
       "      <td>0.353553</td>\n",
       "      <td>1.914214</td>\n",
       "      <td>1.707107</td>\n",
       "      <td>8.815667e-07</td>\n",
       "      <td>3.246765e-07</td>\n",
       "      <td>0.000739</td>\n",
       "      <td>0.000735</td>\n",
       "      <td>3.675139e-18</td>\n",
       "      <td>0.000000e+00</td>\n",
       "      <td>2.584445e-20</td>\n",
       "      <td>-3.482731e-14</td>\n",
       "      <td>7.454880e-15</td>\n",
       "      <td>9.842030e-13</td>\n",
       "      <td>2.495123e-14</td>\n",
       "      <td>5.135090e-14</td>\n",
       "      <td>6.759265e-17</td>\n",
       "      <td>-6.964461e-20</td>\n",
       "      <td>7.177758e-20</td>\n",
       "      <td>-4.418104e-20</td>\n",
       "      <td>-3.040501e-20</td>\n",
       "      <td>1.573541e-19</td>\n",
       "      <td>-2.142644e-19</td>\n",
       "      <td>-3.018256e-21</td>\n",
       "      <td>1.689432e-21</td>\n",
       "      <td>-6.239815e-24</td>\n",
       "      <td>-9.394175e-22</td>\n",
       "      <td>2.016868e-21</td>\n",
       "      <td>-2.601438e-21</td>\n",
       "      <td>-3.527901e-16</td>\n",
       "      <td>7.428118e-17</td>\n",
       "      <td>9.553685e-15</td>\n",
       "      <td>2.384728e-16</td>\n",
       "      <td>4.102897e-16</td>\n",
       "      <td>4.802167e-19</td>\n",
       "      <td>-3.321534e-32</td>\n",
       "      <td>1.732916e-36</td>\n",
       "      <td>1.915235e-34</td>\n",
       "      <td>-3.349830e-34</td>\n",
       "    </tr>\n",
       "  </tbody>\n",
       "</table>\n",
       "</div>"
      ],
      "text/plain": [
       "   source_node  destination_node  ...     svd_u_v_s     svd_u_v_d\n",
       "0       273084           1505602  ...  2.069080e-11  1.206394e-12\n",
       "1      1409846            845593  ...  8.765929e-09  6.802179e-10\n",
       "2       396322            149376  ...  3.498894e-16  8.138709e-17\n",
       "3      1814022           1791177  ...  3.739417e-37  2.289326e-37\n",
       "4      1825190           1686004  ...  1.915235e-34 -3.349830e-34\n",
       "\n",
       "[5 rows x 59 columns]"
      ]
     },
     "execution_count": 34,
     "metadata": {
      "tags": []
     },
     "output_type": "execute_result"
    }
   ],
   "source": [
    "if os.path.isfile(d+'final_train.csv'):\n",
    "    df_train = pd.read_csv(d+'final_train.csv')\n",
    "    print('Shape of featurized train data is: ', df_train.shape)\n",
    "else:\n",
    "    # readining randomly only 1m rows from train data: #https://stackoverflow.com/a/22259008/4084039\n",
    "    n_train =  15100030\n",
    "    s = 1000000 #desired sample size i.e. 1 million\n",
    "    skip_train = sorted(random.sample(range(1,n_train+1),n_train-s))\n",
    "    \n",
    "    print(\"Number of rows in the train data file:\", n_train)\n",
    "    print(\"Number of rows we are going to elimiate in train data are:\",len(skip_train))\n",
    "    \n",
    "    df_train = pd.read_csv(d+'after_eda/train_after_eda.csv', skiprows=skip_train,  names=['source_node', 'destination_node'])\n",
    "    df_train['indicator_link'] = pd.read_csv(d+'after_eda/train_y.csv', skiprows=skip_train, names=['indicator_link'])\n",
    "    print(\"\\nShape of data before featurization \",df_train.shape)\n",
    "\n",
    "    print('Featurizing train data')\n",
    "    df_train = featurize_my_df(df_train)\n",
    "    df_train.to_csv(d+'final_train.csv', index = False)\n",
    "    print('Shape of train data after featurization is: ', df_train.shape)\n",
    "df_train.head()"
   ]
  },
  {
   "cell_type": "markdown",
   "metadata": {
    "colab_type": "text",
    "id": "-RiwYOCmulFt"
   },
   "source": [
    "**Note:** 302 rows in test and CV dataset are common. "
   ]
  },
  {
   "cell_type": "code",
   "execution_count": 35,
   "metadata": {
    "colab": {
     "base_uri": "https://localhost:8080/",
     "height": 51
    },
    "colab_type": "code",
    "id": "XCi0JwAfw0sL",
    "outputId": "00dc9159-4e3c-43b2-f59a-1ca29720cacb"
   },
   "outputs": [
    {
     "name": "stdout",
     "output_type": "stream",
     "text": [
      "Shape of train data is:  (50001, 59)\n",
      "Shape of CV data is:  (25001, 59)\n"
     ]
    }
   ],
   "source": [
    "if os.path.isfile(d+'final_test.csv'):\n",
    "    df_test = pd.read_csv(d+'final_test.csv')\n",
    "    df_cv   = pd.read_csv(d+'final_cv.csv')\n",
    "    print('Shape of train data is: ', df_test.shape)\n",
    "    print('Shape of CV data is: ', df_cv.shape)\n",
    "    \n",
    "else:\n",
    "    # selecting only radom rows: #https://stackoverflow.com/a/22259008/4084039\n",
    "    n_test = 3775008\n",
    "    s1 = 50000 #desired sample size: i.e. 50k\n",
    "    s2 = 25000 #size of cv dataset\n",
    "    skip_test = sorted(random.sample(range(1,n_test+1),n_test-s1))\n",
    "    skip_cv   = sorted(random.sample(range(1,n_test+1),n_test-s2))\n",
    "    \n",
    "    print(\"Number of rows in the test data file:\", n_test)\n",
    "    print(\"Number of rows we are going to elimiate in test data are:\",len(skip_test))\n",
    "        \n",
    "    print('Numeber of common rows in CV and test data: ', len(set(np.arange(n_test+1))-set(set(skip_cv)|set(skip_test))))\n",
    "    df_test = pd.read_csv(d+'after_eda/test_after_eda.csv', skiprows=skip_test, names=['source_node', 'destination_node'])\n",
    "    df_test['indicator_link'] = pd.read_csv(d+'after_eda/test_y.csv', skiprows=skip_test, names=['indicator_link'])\n",
    "    \n",
    "    df_cv = pd.read_csv(d+'after_eda/test_after_eda.csv', skiprows=skip_cv, names=['source_node', 'destination_node'])\n",
    "    df_cv['indicator_link'] = pd.read_csv(d+'after_eda/test_y.csv', skiprows=skip_cv, names=['indicator_link'])\n",
    "    \n",
    "    print(\"Shape of data before featurization \",df_test.shape)\n",
    "    \n",
    "    print('Featurizing CV data')\n",
    "    df_cv    = featurize_my_df(df_cv)\n",
    "    df_cv.to_csv(d+'final_cv.csv', index = False) \n",
    "    \n",
    "    print('Featurizing test data')\n",
    "    df_test  = featurize_my_df(df_test)\n",
    "    df_test.to_csv(d+'final_test.csv', index = False) \n",
    "    \n",
    "    print('Shape of CV data after featurization is  : ', df_cv.shape)\n",
    "    print('Shape of test data after featurization is: ', df_test.shape)\n"
   ]
  },
  {
   "cell_type": "code",
   "execution_count": 36,
   "metadata": {
    "colab": {
     "base_uri": "https://localhost:8080/",
     "height": 309
    },
    "colab_type": "code",
    "id": "knaBPnUtUODH",
    "outputId": "4738710c-963f-47b2-8006-81e5e3dbff01"
   },
   "outputs": [
    {
     "data": {
      "text/html": [
       "<div>\n",
       "<style scoped>\n",
       "    .dataframe tbody tr th:only-of-type {\n",
       "        vertical-align: middle;\n",
       "    }\n",
       "\n",
       "    .dataframe tbody tr th {\n",
       "        vertical-align: top;\n",
       "    }\n",
       "\n",
       "    .dataframe thead th {\n",
       "        text-align: right;\n",
       "    }\n",
       "</style>\n",
       "<table border=\"1\" class=\"dataframe\">\n",
       "  <thead>\n",
       "    <tr style=\"text-align: right;\">\n",
       "      <th></th>\n",
       "      <th>source_node</th>\n",
       "      <th>destination_node</th>\n",
       "      <th>indicator_link</th>\n",
       "      <th>jaccard_followers</th>\n",
       "      <th>jaccard_followees</th>\n",
       "      <th>cosine_followers</th>\n",
       "      <th>cosine_followees</th>\n",
       "      <th>num_followers_s</th>\n",
       "      <th>num_followers_d</th>\n",
       "      <th>num_followees_s</th>\n",
       "      <th>num_followees_d</th>\n",
       "      <th>inter_followers</th>\n",
       "      <th>inter_followees</th>\n",
       "      <th>preferntial_attachment</th>\n",
       "      <th>adar_index</th>\n",
       "      <th>follows_back</th>\n",
       "      <th>same_comp</th>\n",
       "      <th>shortest_path</th>\n",
       "      <th>weight_in</th>\n",
       "      <th>weight_out</th>\n",
       "      <th>weight_f1</th>\n",
       "      <th>weight_f2</th>\n",
       "      <th>weight_f3</th>\n",
       "      <th>weight_f4</th>\n",
       "      <th>page_rank_s</th>\n",
       "      <th>page_rank_d</th>\n",
       "      <th>katz_s</th>\n",
       "      <th>katz_d</th>\n",
       "      <th>hubs_s</th>\n",
       "      <th>hubs_d</th>\n",
       "      <th>authorities_s</th>\n",
       "      <th>svd_u_s_1</th>\n",
       "      <th>svd_u_s_2</th>\n",
       "      <th>svd_u_s_3</th>\n",
       "      <th>svd_u_s_4</th>\n",
       "      <th>svd_u_s_5</th>\n",
       "      <th>svd_u_s_6</th>\n",
       "      <th>svd_u_d_1</th>\n",
       "      <th>svd_u_d_2</th>\n",
       "      <th>svd_u_d_3</th>\n",
       "      <th>svd_u_d_4</th>\n",
       "      <th>svd_u_d_5</th>\n",
       "      <th>svd_u_d_6</th>\n",
       "      <th>svd_v_s_1</th>\n",
       "      <th>svd_v_s_2</th>\n",
       "      <th>svd_v_s_3</th>\n",
       "      <th>svd_v_s_4</th>\n",
       "      <th>svd_v_s_5</th>\n",
       "      <th>svd_v_s_6</th>\n",
       "      <th>svd_v_d_1</th>\n",
       "      <th>svd_v_d_2</th>\n",
       "      <th>svd_v_d_3</th>\n",
       "      <th>svd_v_d_4</th>\n",
       "      <th>svd_v_d_5</th>\n",
       "      <th>svd_v_d_6</th>\n",
       "      <th>svd_u_s_d</th>\n",
       "      <th>svd_v_s_d</th>\n",
       "      <th>svd_u_v_s</th>\n",
       "      <th>svd_u_v_d</th>\n",
       "    </tr>\n",
       "  </thead>\n",
       "  <tbody>\n",
       "    <tr>\n",
       "      <th>0</th>\n",
       "      <td>848424</td>\n",
       "      <td>784690</td>\n",
       "      <td>1</td>\n",
       "      <td>0.052632</td>\n",
       "      <td>0.0</td>\n",
       "      <td>0.109109</td>\n",
       "      <td>0.0</td>\n",
       "      <td>6</td>\n",
       "      <td>6</td>\n",
       "      <td>14</td>\n",
       "      <td>9</td>\n",
       "      <td>1</td>\n",
       "      <td>0</td>\n",
       "      <td>133</td>\n",
       "      <td>0.872503</td>\n",
       "      <td>1</td>\n",
       "      <td>1</td>\n",
       "      <td>2</td>\n",
       "      <td>0.258199</td>\n",
       "      <td>0.377964</td>\n",
       "      <td>0.636163</td>\n",
       "      <td>0.097590</td>\n",
       "      <td>0.894362</td>\n",
       "      <td>1.014128</td>\n",
       "      <td>6.557971e-07</td>\n",
       "      <td>1.559547e-06</td>\n",
       "      <td>0.000754</td>\n",
       "      <td>0.000786</td>\n",
       "      <td>3.243237e-16</td>\n",
       "      <td>1.745627e-16</td>\n",
       "      <td>9.269213e-14</td>\n",
       "      <td>-9.987980e-12</td>\n",
       "      <td>2.283698e-13</td>\n",
       "      <td>1.439960e-10</td>\n",
       "      <td>6.136176e-13</td>\n",
       "      <td>4.188171e-13</td>\n",
       "      <td>5.983441e-15</td>\n",
       "      <td>-1.026186e-11</td>\n",
       "      <td>5.316647e-13</td>\n",
       "      <td>5.843192e-10</td>\n",
       "      <td>1.166050e-13</td>\n",
       "      <td>2.253356e-11</td>\n",
       "      <td>3.220456e-15</td>\n",
       "      <td>-2.148852e-13</td>\n",
       "      <td>1.883259e-13</td>\n",
       "      <td>5.904813e-11</td>\n",
       "      <td>2.701538e-12</td>\n",
       "      <td>4.341620e-13</td>\n",
       "      <td>5.535503e-14</td>\n",
       "      <td>-9.994077e-10</td>\n",
       "      <td>5.791914e-10</td>\n",
       "      <td>3.512351e-07</td>\n",
       "      <td>2.486660e-09</td>\n",
       "      <td>2.771146e-09</td>\n",
       "      <td>1.727695e-12</td>\n",
       "      <td>8.425175e-20</td>\n",
       "      <td>2.074802e-17</td>\n",
       "      <td>8.506723e-21</td>\n",
       "      <td>2.053067e-16</td>\n",
       "    </tr>\n",
       "    <tr>\n",
       "      <th>1</th>\n",
       "      <td>1160264</td>\n",
       "      <td>1270588</td>\n",
       "      <td>1</td>\n",
       "      <td>0.555556</td>\n",
       "      <td>0.0</td>\n",
       "      <td>0.745356</td>\n",
       "      <td>0.0</td>\n",
       "      <td>9</td>\n",
       "      <td>25</td>\n",
       "      <td>5</td>\n",
       "      <td>0</td>\n",
       "      <td>5</td>\n",
       "      <td>0</td>\n",
       "      <td>150</td>\n",
       "      <td>3.279655</td>\n",
       "      <td>0</td>\n",
       "      <td>1</td>\n",
       "      <td>2</td>\n",
       "      <td>0.408248</td>\n",
       "      <td>0.196116</td>\n",
       "      <td>0.604364</td>\n",
       "      <td>0.080064</td>\n",
       "      <td>1.012613</td>\n",
       "      <td>0.800481</td>\n",
       "      <td>4.419306e-07</td>\n",
       "      <td>2.418359e-07</td>\n",
       "      <td>0.000765</td>\n",
       "      <td>0.000750</td>\n",
       "      <td>2.433689e-195</td>\n",
       "      <td>0.000000e+00</td>\n",
       "      <td>1.263933e-194</td>\n",
       "      <td>5.970698e-19</td>\n",
       "      <td>-2.040362e-19</td>\n",
       "      <td>4.739243e-19</td>\n",
       "      <td>-6.512985e-19</td>\n",
       "      <td>-2.917969e-20</td>\n",
       "      <td>5.854696e-19</td>\n",
       "      <td>-1.543385e-19</td>\n",
       "      <td>3.409813e-20</td>\n",
       "      <td>3.134960e-20</td>\n",
       "      <td>8.127028e-20</td>\n",
       "      <td>-3.397369e-20</td>\n",
       "      <td>-8.850713e-20</td>\n",
       "      <td>2.050807e-20</td>\n",
       "      <td>-1.814967e-20</td>\n",
       "      <td>3.209467e-20</td>\n",
       "      <td>-4.610276e-20</td>\n",
       "      <td>4.480243e-21</td>\n",
       "      <td>2.885330e-20</td>\n",
       "      <td>8.381996e-21</td>\n",
       "      <td>-1.391114e-20</td>\n",
       "      <td>2.260277e-20</td>\n",
       "      <td>-3.184752e-20</td>\n",
       "      <td>3.210733e-21</td>\n",
       "      <td>1.935941e-20</td>\n",
       "      <td>-1.880089e-37</td>\n",
       "      <td>3.191036e-39</td>\n",
       "      <td>7.794704e-38</td>\n",
       "      <td>-5.470204e-39</td>\n",
       "    </tr>\n",
       "    <tr>\n",
       "      <th>2</th>\n",
       "      <td>766166</td>\n",
       "      <td>850674</td>\n",
       "      <td>1</td>\n",
       "      <td>0.000000</td>\n",
       "      <td>0.0</td>\n",
       "      <td>0.000000</td>\n",
       "      <td>0.0</td>\n",
       "      <td>3</td>\n",
       "      <td>5</td>\n",
       "      <td>6</td>\n",
       "      <td>4</td>\n",
       "      <td>0</td>\n",
       "      <td>0</td>\n",
       "      <td>42</td>\n",
       "      <td>0.000000</td>\n",
       "      <td>0</td>\n",
       "      <td>1</td>\n",
       "      <td>3</td>\n",
       "      <td>0.377964</td>\n",
       "      <td>0.408248</td>\n",
       "      <td>0.786213</td>\n",
       "      <td>0.154303</td>\n",
       "      <td>1.164177</td>\n",
       "      <td>1.194461</td>\n",
       "      <td>3.680705e-07</td>\n",
       "      <td>7.959495e-07</td>\n",
       "      <td>0.000743</td>\n",
       "      <td>0.000754</td>\n",
       "      <td>1.499315e-15</td>\n",
       "      <td>2.365667e-16</td>\n",
       "      <td>2.348261e-17</td>\n",
       "      <td>-2.168921e-14</td>\n",
       "      <td>3.138449e-13</td>\n",
       "      <td>7.902062e-13</td>\n",
       "      <td>6.651568e-12</td>\n",
       "      <td>4.764876e-12</td>\n",
       "      <td>2.766118e-14</td>\n",
       "      <td>-2.036965e-14</td>\n",
       "      <td>1.717373e-14</td>\n",
       "      <td>8.833559e-12</td>\n",
       "      <td>6.159764e-12</td>\n",
       "      <td>1.168462e-11</td>\n",
       "      <td>4.364386e-15</td>\n",
       "      <td>-2.235688e-15</td>\n",
       "      <td>3.068982e-13</td>\n",
       "      <td>2.306734e-13</td>\n",
       "      <td>2.782631e-12</td>\n",
       "      <td>4.796504e-14</td>\n",
       "      <td>4.431302e-13</td>\n",
       "      <td>-9.841215e-16</td>\n",
       "      <td>9.238453e-15</td>\n",
       "      <td>4.377835e-14</td>\n",
       "      <td>4.561890e-13</td>\n",
       "      <td>6.147218e-14</td>\n",
       "      <td>4.376945e-16</td>\n",
       "      <td>1.036341e-22</td>\n",
       "      <td>1.285484e-24</td>\n",
       "      <td>1.902831e-23</td>\n",
       "      <td>3.915194e-24</td>\n",
       "    </tr>\n",
       "    <tr>\n",
       "      <th>3</th>\n",
       "      <td>1730930</td>\n",
       "      <td>1021730</td>\n",
       "      <td>1</td>\n",
       "      <td>0.000000</td>\n",
       "      <td>0.0</td>\n",
       "      <td>0.000000</td>\n",
       "      <td>0.0</td>\n",
       "      <td>8</td>\n",
       "      <td>7</td>\n",
       "      <td>43</td>\n",
       "      <td>42</td>\n",
       "      <td>0</td>\n",
       "      <td>0</td>\n",
       "      <td>513</td>\n",
       "      <td>0.000000</td>\n",
       "      <td>1</td>\n",
       "      <td>1</td>\n",
       "      <td>7</td>\n",
       "      <td>0.150756</td>\n",
       "      <td>0.353553</td>\n",
       "      <td>0.504309</td>\n",
       "      <td>0.053300</td>\n",
       "      <td>0.655065</td>\n",
       "      <td>0.857862</td>\n",
       "      <td>8.682250e-07</td>\n",
       "      <td>4.978000e-06</td>\n",
       "      <td>0.000762</td>\n",
       "      <td>0.000898</td>\n",
       "      <td>5.731288e-18</td>\n",
       "      <td>4.151718e-13</td>\n",
       "      <td>2.304104e-13</td>\n",
       "      <td>-1.191717e-15</td>\n",
       "      <td>6.296930e-14</td>\n",
       "      <td>1.473531e-13</td>\n",
       "      <td>7.013950e-14</td>\n",
       "      <td>3.998318e-15</td>\n",
       "      <td>1.056584e-16</td>\n",
       "      <td>-2.985524e-11</td>\n",
       "      <td>2.012668e-10</td>\n",
       "      <td>1.553877e-09</td>\n",
       "      <td>2.026831e-10</td>\n",
       "      <td>3.941107e-10</td>\n",
       "      <td>7.659634e-12</td>\n",
       "      <td>-3.034200e-13</td>\n",
       "      <td>2.441602e-12</td>\n",
       "      <td>1.515123e-11</td>\n",
       "      <td>2.438649e-12</td>\n",
       "      <td>3.152527e-12</td>\n",
       "      <td>5.580904e-14</td>\n",
       "      <td>-8.674741e-12</td>\n",
       "      <td>3.357381e-10</td>\n",
       "      <td>1.110601e-09</td>\n",
       "      <td>2.150155e-11</td>\n",
       "      <td>1.482890e-09</td>\n",
       "      <td>4.294637e-12</td>\n",
       "      <td>2.574705e-22</td>\n",
       "      <td>2.237688e-20</td>\n",
       "      <td>2.570345e-24</td>\n",
       "      <td>2.382383e-18</td>\n",
       "    </tr>\n",
       "    <tr>\n",
       "      <th>4</th>\n",
       "      <td>1454639</td>\n",
       "      <td>713591</td>\n",
       "      <td>1</td>\n",
       "      <td>0.000000</td>\n",
       "      <td>0.0</td>\n",
       "      <td>0.000000</td>\n",
       "      <td>0.0</td>\n",
       "      <td>0</td>\n",
       "      <td>0</td>\n",
       "      <td>1</td>\n",
       "      <td>1</td>\n",
       "      <td>0</td>\n",
       "      <td>0</td>\n",
       "      <td>0</td>\n",
       "      <td>0.000000</td>\n",
       "      <td>0</td>\n",
       "      <td>0</td>\n",
       "      <td>-1</td>\n",
       "      <td>0.707107</td>\n",
       "      <td>0.601457</td>\n",
       "      <td>1.308564</td>\n",
       "      <td>0.425294</td>\n",
       "      <td>2.015671</td>\n",
       "      <td>1.910021</td>\n",
       "      <td>5.615700e-07</td>\n",
       "      <td>2.848986e-07</td>\n",
       "      <td>0.000748</td>\n",
       "      <td>0.000735</td>\n",
       "      <td>0.000000e+00</td>\n",
       "      <td>2.554745e-17</td>\n",
       "      <td>8.520731e-18</td>\n",
       "      <td>0.000000e+00</td>\n",
       "      <td>0.000000e+00</td>\n",
       "      <td>0.000000e+00</td>\n",
       "      <td>0.000000e+00</td>\n",
       "      <td>0.000000e+00</td>\n",
       "      <td>0.000000e+00</td>\n",
       "      <td>-1.791217e-14</td>\n",
       "      <td>2.955285e-15</td>\n",
       "      <td>1.356772e-08</td>\n",
       "      <td>9.265312e-16</td>\n",
       "      <td>5.217553e-15</td>\n",
       "      <td>4.713970e-16</td>\n",
       "      <td>0.000000e+00</td>\n",
       "      <td>0.000000e+00</td>\n",
       "      <td>0.000000e+00</td>\n",
       "      <td>0.000000e+00</td>\n",
       "      <td>0.000000e+00</td>\n",
       "      <td>0.000000e+00</td>\n",
       "      <td>-3.189441e-13</td>\n",
       "      <td>7.258514e-15</td>\n",
       "      <td>4.536167e-08</td>\n",
       "      <td>1.763661e-15</td>\n",
       "      <td>5.147947e-15</td>\n",
       "      <td>1.588197e-16</td>\n",
       "      <td>0.000000e+00</td>\n",
       "      <td>0.000000e+00</td>\n",
       "      <td>0.000000e+00</td>\n",
       "      <td>6.154546e-16</td>\n",
       "    </tr>\n",
       "  </tbody>\n",
       "</table>\n",
       "</div>"
      ],
      "text/plain": [
       "   source_node  destination_node  ...     svd_u_v_s     svd_u_v_d\n",
       "0       848424            784690  ...  8.506723e-21  2.053067e-16\n",
       "1      1160264           1270588  ...  7.794704e-38 -5.470204e-39\n",
       "2       766166            850674  ...  1.902831e-23  3.915194e-24\n",
       "3      1730930           1021730  ...  2.570345e-24  2.382383e-18\n",
       "4      1454639            713591  ...  0.000000e+00  6.154546e-16\n",
       "\n",
       "[5 rows x 59 columns]"
      ]
     },
     "execution_count": 36,
     "metadata": {
      "tags": []
     },
     "output_type": "execute_result"
    }
   ],
   "source": [
    "df_test.head()"
   ]
  },
  {
   "cell_type": "code",
   "execution_count": 37,
   "metadata": {
    "colab": {
     "base_uri": "https://localhost:8080/",
     "height": 309
    },
    "colab_type": "code",
    "id": "DKw78hjeXTmt",
    "outputId": "894130d2-4100-4ddd-dff4-f175d5c665de"
   },
   "outputs": [
    {
     "data": {
      "text/html": [
       "<div>\n",
       "<style scoped>\n",
       "    .dataframe tbody tr th:only-of-type {\n",
       "        vertical-align: middle;\n",
       "    }\n",
       "\n",
       "    .dataframe tbody tr th {\n",
       "        vertical-align: top;\n",
       "    }\n",
       "\n",
       "    .dataframe thead th {\n",
       "        text-align: right;\n",
       "    }\n",
       "</style>\n",
       "<table border=\"1\" class=\"dataframe\">\n",
       "  <thead>\n",
       "    <tr style=\"text-align: right;\">\n",
       "      <th></th>\n",
       "      <th>source_node</th>\n",
       "      <th>destination_node</th>\n",
       "      <th>indicator_link</th>\n",
       "      <th>jaccard_followers</th>\n",
       "      <th>jaccard_followees</th>\n",
       "      <th>cosine_followers</th>\n",
       "      <th>cosine_followees</th>\n",
       "      <th>num_followers_s</th>\n",
       "      <th>num_followers_d</th>\n",
       "      <th>num_followees_s</th>\n",
       "      <th>num_followees_d</th>\n",
       "      <th>inter_followers</th>\n",
       "      <th>inter_followees</th>\n",
       "      <th>preferntial_attachment</th>\n",
       "      <th>adar_index</th>\n",
       "      <th>follows_back</th>\n",
       "      <th>same_comp</th>\n",
       "      <th>shortest_path</th>\n",
       "      <th>weight_in</th>\n",
       "      <th>weight_out</th>\n",
       "      <th>weight_f1</th>\n",
       "      <th>weight_f2</th>\n",
       "      <th>weight_f3</th>\n",
       "      <th>weight_f4</th>\n",
       "      <th>page_rank_s</th>\n",
       "      <th>page_rank_d</th>\n",
       "      <th>katz_s</th>\n",
       "      <th>katz_d</th>\n",
       "      <th>hubs_s</th>\n",
       "      <th>hubs_d</th>\n",
       "      <th>authorities_s</th>\n",
       "      <th>svd_u_s_1</th>\n",
       "      <th>svd_u_s_2</th>\n",
       "      <th>svd_u_s_3</th>\n",
       "      <th>svd_u_s_4</th>\n",
       "      <th>svd_u_s_5</th>\n",
       "      <th>svd_u_s_6</th>\n",
       "      <th>svd_u_d_1</th>\n",
       "      <th>svd_u_d_2</th>\n",
       "      <th>svd_u_d_3</th>\n",
       "      <th>svd_u_d_4</th>\n",
       "      <th>svd_u_d_5</th>\n",
       "      <th>svd_u_d_6</th>\n",
       "      <th>svd_v_s_1</th>\n",
       "      <th>svd_v_s_2</th>\n",
       "      <th>svd_v_s_3</th>\n",
       "      <th>svd_v_s_4</th>\n",
       "      <th>svd_v_s_5</th>\n",
       "      <th>svd_v_s_6</th>\n",
       "      <th>svd_v_d_1</th>\n",
       "      <th>svd_v_d_2</th>\n",
       "      <th>svd_v_d_3</th>\n",
       "      <th>svd_v_d_4</th>\n",
       "      <th>svd_v_d_5</th>\n",
       "      <th>svd_v_d_6</th>\n",
       "      <th>svd_u_s_d</th>\n",
       "      <th>svd_v_s_d</th>\n",
       "      <th>svd_u_v_s</th>\n",
       "      <th>svd_u_v_d</th>\n",
       "    </tr>\n",
       "  </thead>\n",
       "  <tbody>\n",
       "    <tr>\n",
       "      <th>0</th>\n",
       "      <td>848424</td>\n",
       "      <td>784690</td>\n",
       "      <td>1</td>\n",
       "      <td>0.052632</td>\n",
       "      <td>0.000000</td>\n",
       "      <td>0.109109</td>\n",
       "      <td>0.000000</td>\n",
       "      <td>6</td>\n",
       "      <td>6</td>\n",
       "      <td>14</td>\n",
       "      <td>9</td>\n",
       "      <td>1</td>\n",
       "      <td>0</td>\n",
       "      <td>133</td>\n",
       "      <td>0.872503</td>\n",
       "      <td>1</td>\n",
       "      <td>1</td>\n",
       "      <td>2</td>\n",
       "      <td>0.258199</td>\n",
       "      <td>0.377964</td>\n",
       "      <td>0.636163</td>\n",
       "      <td>0.097590</td>\n",
       "      <td>0.894362</td>\n",
       "      <td>1.014128</td>\n",
       "      <td>6.557971e-07</td>\n",
       "      <td>1.559547e-06</td>\n",
       "      <td>0.000754</td>\n",
       "      <td>0.000786</td>\n",
       "      <td>3.243237e-16</td>\n",
       "      <td>1.745627e-16</td>\n",
       "      <td>9.269213e-14</td>\n",
       "      <td>-9.987980e-12</td>\n",
       "      <td>2.283698e-13</td>\n",
       "      <td>1.439960e-10</td>\n",
       "      <td>6.136176e-13</td>\n",
       "      <td>4.188171e-13</td>\n",
       "      <td>5.983441e-15</td>\n",
       "      <td>-1.026186e-11</td>\n",
       "      <td>5.316647e-13</td>\n",
       "      <td>5.843192e-10</td>\n",
       "      <td>1.166050e-13</td>\n",
       "      <td>2.253356e-11</td>\n",
       "      <td>3.220456e-15</td>\n",
       "      <td>-2.148852e-13</td>\n",
       "      <td>1.883259e-13</td>\n",
       "      <td>5.904813e-11</td>\n",
       "      <td>2.701538e-12</td>\n",
       "      <td>4.341620e-13</td>\n",
       "      <td>5.535503e-14</td>\n",
       "      <td>-9.994077e-10</td>\n",
       "      <td>5.791914e-10</td>\n",
       "      <td>3.512351e-07</td>\n",
       "      <td>2.486660e-09</td>\n",
       "      <td>2.771146e-09</td>\n",
       "      <td>1.727695e-12</td>\n",
       "      <td>8.425175e-20</td>\n",
       "      <td>2.074802e-17</td>\n",
       "      <td>8.506723e-21</td>\n",
       "      <td>2.053067e-16</td>\n",
       "    </tr>\n",
       "    <tr>\n",
       "      <th>1</th>\n",
       "      <td>1494573</td>\n",
       "      <td>1088031</td>\n",
       "      <td>1</td>\n",
       "      <td>0.000000</td>\n",
       "      <td>0.000000</td>\n",
       "      <td>0.000000</td>\n",
       "      <td>0.000000</td>\n",
       "      <td>2</td>\n",
       "      <td>2</td>\n",
       "      <td>2</td>\n",
       "      <td>5</td>\n",
       "      <td>0</td>\n",
       "      <td>0</td>\n",
       "      <td>20</td>\n",
       "      <td>1.430677</td>\n",
       "      <td>1</td>\n",
       "      <td>1</td>\n",
       "      <td>6</td>\n",
       "      <td>0.577350</td>\n",
       "      <td>0.577350</td>\n",
       "      <td>1.154701</td>\n",
       "      <td>0.333333</td>\n",
       "      <td>1.732051</td>\n",
       "      <td>1.732051</td>\n",
       "      <td>3.803655e-07</td>\n",
       "      <td>2.037218e-07</td>\n",
       "      <td>0.000739</td>\n",
       "      <td>0.000739</td>\n",
       "      <td>1.352607e-17</td>\n",
       "      <td>9.758370e-17</td>\n",
       "      <td>2.043969e-15</td>\n",
       "      <td>-1.268575e-14</td>\n",
       "      <td>5.081077e-15</td>\n",
       "      <td>6.128186e-09</td>\n",
       "      <td>2.637256e-14</td>\n",
       "      <td>6.800240e-15</td>\n",
       "      <td>2.495802e-16</td>\n",
       "      <td>-3.888018e-14</td>\n",
       "      <td>1.625755e-14</td>\n",
       "      <td>1.651897e-07</td>\n",
       "      <td>6.761970e-15</td>\n",
       "      <td>1.829764e-13</td>\n",
       "      <td>1.800353e-15</td>\n",
       "      <td>-1.670641e-18</td>\n",
       "      <td>1.180784e-15</td>\n",
       "      <td>7.308777e-08</td>\n",
       "      <td>7.858512e-16</td>\n",
       "      <td>2.211163e-15</td>\n",
       "      <td>5.638269e-17</td>\n",
       "      <td>-1.201278e-14</td>\n",
       "      <td>1.220945e-14</td>\n",
       "      <td>1.674028e-07</td>\n",
       "      <td>2.486195e-14</td>\n",
       "      <td>3.649407e-14</td>\n",
       "      <td>3.809769e-14</td>\n",
       "      <td>1.012313e-15</td>\n",
       "      <td>1.223510e-14</td>\n",
       "      <td>4.478954e-16</td>\n",
       "      <td>2.765323e-14</td>\n",
       "    </tr>\n",
       "    <tr>\n",
       "      <th>2</th>\n",
       "      <td>1480280</td>\n",
       "      <td>1221992</td>\n",
       "      <td>1</td>\n",
       "      <td>0.025641</td>\n",
       "      <td>0.037037</td>\n",
       "      <td>0.160128</td>\n",
       "      <td>0.138675</td>\n",
       "      <td>39</td>\n",
       "      <td>26</td>\n",
       "      <td>1</td>\n",
       "      <td>2</td>\n",
       "      <td>1</td>\n",
       "      <td>1</td>\n",
       "      <td>98</td>\n",
       "      <td>0.706727</td>\n",
       "      <td>1</td>\n",
       "      <td>1</td>\n",
       "      <td>2</td>\n",
       "      <td>0.707107</td>\n",
       "      <td>0.192450</td>\n",
       "      <td>0.899557</td>\n",
       "      <td>0.136083</td>\n",
       "      <td>1.606664</td>\n",
       "      <td>1.092007</td>\n",
       "      <td>2.428049e-06</td>\n",
       "      <td>1.872620e-07</td>\n",
       "      <td>0.000887</td>\n",
       "      <td>0.000735</td>\n",
       "      <td>5.149650e-15</td>\n",
       "      <td>5.242421e-16</td>\n",
       "      <td>2.778235e-17</td>\n",
       "      <td>-6.981071e-13</td>\n",
       "      <td>4.471772e-08</td>\n",
       "      <td>2.261156e-07</td>\n",
       "      <td>1.574584e-12</td>\n",
       "      <td>4.752161e-12</td>\n",
       "      <td>9.500738e-14</td>\n",
       "      <td>-1.024079e-13</td>\n",
       "      <td>4.796267e-11</td>\n",
       "      <td>1.464332e-09</td>\n",
       "      <td>6.492712e-13</td>\n",
       "      <td>9.746253e-14</td>\n",
       "      <td>9.671808e-15</td>\n",
       "      <td>-7.926587e-12</td>\n",
       "      <td>3.628682e-09</td>\n",
       "      <td>1.484885e-07</td>\n",
       "      <td>5.596091e-11</td>\n",
       "      <td>1.110414e-11</td>\n",
       "      <td>1.342510e-12</td>\n",
       "      <td>-6.788610e-15</td>\n",
       "      <td>3.502357e-12</td>\n",
       "      <td>2.237453e-11</td>\n",
       "      <td>1.040298e-12</td>\n",
       "      <td>2.694240e-14</td>\n",
       "      <td>5.178373e-16</td>\n",
       "      <td>3.332529e-16</td>\n",
       "      <td>3.335127e-18</td>\n",
       "      <td>3.373782e-14</td>\n",
       "      <td>3.293239e-20</td>\n",
       "    </tr>\n",
       "    <tr>\n",
       "      <th>3</th>\n",
       "      <td>199064</td>\n",
       "      <td>100138</td>\n",
       "      <td>1</td>\n",
       "      <td>0.000000</td>\n",
       "      <td>0.000000</td>\n",
       "      <td>0.000000</td>\n",
       "      <td>0.000000</td>\n",
       "      <td>5</td>\n",
       "      <td>5</td>\n",
       "      <td>0</td>\n",
       "      <td>3</td>\n",
       "      <td>0</td>\n",
       "      <td>0</td>\n",
       "      <td>21</td>\n",
       "      <td>0.000000</td>\n",
       "      <td>0</td>\n",
       "      <td>1</td>\n",
       "      <td>-1</td>\n",
       "      <td>1.000000</td>\n",
       "      <td>0.408248</td>\n",
       "      <td>1.408248</td>\n",
       "      <td>0.408248</td>\n",
       "      <td>2.408248</td>\n",
       "      <td>1.816497</td>\n",
       "      <td>4.956266e-07</td>\n",
       "      <td>1.655650e-07</td>\n",
       "      <td>0.000750</td>\n",
       "      <td>0.000731</td>\n",
       "      <td>2.819259e-19</td>\n",
       "      <td>8.539501e-18</td>\n",
       "      <td>0.000000e+00</td>\n",
       "      <td>-4.197272e-15</td>\n",
       "      <td>2.311236e-12</td>\n",
       "      <td>1.660947e-13</td>\n",
       "      <td>7.988226e-16</td>\n",
       "      <td>1.175672e-15</td>\n",
       "      <td>5.299641e-18</td>\n",
       "      <td>-2.873520e-14</td>\n",
       "      <td>4.404743e-13</td>\n",
       "      <td>1.264190e-12</td>\n",
       "      <td>3.511241e-15</td>\n",
       "      <td>9.217326e-14</td>\n",
       "      <td>1.575650e-16</td>\n",
       "      <td>-6.013204e-16</td>\n",
       "      <td>5.291141e-13</td>\n",
       "      <td>2.321092e-14</td>\n",
       "      <td>2.726608e-15</td>\n",
       "      <td>6.568976e-15</td>\n",
       "      <td>1.809385e-16</td>\n",
       "      <td>0.000000e+00</td>\n",
       "      <td>0.000000e+00</td>\n",
       "      <td>0.000000e+00</td>\n",
       "      <td>0.000000e+00</td>\n",
       "      <td>0.000000e+00</td>\n",
       "      <td>0.000000e+00</td>\n",
       "      <td>1.228247e-24</td>\n",
       "      <td>0.000000e+00</td>\n",
       "      <td>1.226775e-24</td>\n",
       "      <td>0.000000e+00</td>\n",
       "    </tr>\n",
       "    <tr>\n",
       "      <th>4</th>\n",
       "      <td>796220</td>\n",
       "      <td>1700343</td>\n",
       "      <td>1</td>\n",
       "      <td>0.025000</td>\n",
       "      <td>0.014925</td>\n",
       "      <td>0.058926</td>\n",
       "      <td>0.048393</td>\n",
       "      <td>9</td>\n",
       "      <td>7</td>\n",
       "      <td>32</td>\n",
       "      <td>61</td>\n",
       "      <td>1</td>\n",
       "      <td>1</td>\n",
       "      <td>715</td>\n",
       "      <td>1.300501</td>\n",
       "      <td>1</td>\n",
       "      <td>1</td>\n",
       "      <td>3</td>\n",
       "      <td>0.174078</td>\n",
       "      <td>0.353553</td>\n",
       "      <td>0.527631</td>\n",
       "      <td>0.061546</td>\n",
       "      <td>0.701709</td>\n",
       "      <td>0.881184</td>\n",
       "      <td>3.383960e-07</td>\n",
       "      <td>1.382374e-06</td>\n",
       "      <td>0.000769</td>\n",
       "      <td>0.000865</td>\n",
       "      <td>5.035257e-13</td>\n",
       "      <td>8.937457e-12</td>\n",
       "      <td>4.210956e-11</td>\n",
       "      <td>-8.241874e-11</td>\n",
       "      <td>1.448558e-11</td>\n",
       "      <td>4.492112e-10</td>\n",
       "      <td>2.715749e-11</td>\n",
       "      <td>2.970341e-11</td>\n",
       "      <td>9.289701e-12</td>\n",
       "      <td>-4.346418e-10</td>\n",
       "      <td>6.175454e-11</td>\n",
       "      <td>7.641265e-08</td>\n",
       "      <td>6.993390e-10</td>\n",
       "      <td>4.124855e-08</td>\n",
       "      <td>1.648899e-10</td>\n",
       "      <td>-4.251895e-11</td>\n",
       "      <td>6.393418e-11</td>\n",
       "      <td>1.888170e-09</td>\n",
       "      <td>1.220502e-10</td>\n",
       "      <td>9.714286e-10</td>\n",
       "      <td>2.512368e-10</td>\n",
       "      <td>-1.085707e-09</td>\n",
       "      <td>1.210319e-10</td>\n",
       "      <td>8.962166e-09</td>\n",
       "      <td>2.662319e-10</td>\n",
       "      <td>1.080588e-09</td>\n",
       "      <td>7.848833e-10</td>\n",
       "      <td>3.560788e-17</td>\n",
       "      <td>1.825540e-17</td>\n",
       "      <td>8.871210e-19</td>\n",
       "      <td>7.301905e-16</td>\n",
       "    </tr>\n",
       "  </tbody>\n",
       "</table>\n",
       "</div>"
      ],
      "text/plain": [
       "   source_node  destination_node  ...     svd_u_v_s     svd_u_v_d\n",
       "0       848424            784690  ...  8.506723e-21  2.053067e-16\n",
       "1      1494573           1088031  ...  4.478954e-16  2.765323e-14\n",
       "2      1480280           1221992  ...  3.373782e-14  3.293239e-20\n",
       "3       199064            100138  ...  1.226775e-24  0.000000e+00\n",
       "4       796220           1700343  ...  8.871210e-19  7.301905e-16\n",
       "\n",
       "[5 rows x 59 columns]"
      ]
     },
     "execution_count": 37,
     "metadata": {
      "tags": []
     },
     "output_type": "execute_result"
    }
   ],
   "source": [
    "df_cv.head()"
   ]
  },
  {
   "cell_type": "code",
   "execution_count": 0,
   "metadata": {
    "colab": {},
    "colab_type": "code",
    "id": "mZCyRqdxqd3u"
   },
   "outputs": [],
   "source": []
  }
 ],
 "metadata": {
  "accelerator": "GPU",
  "colab": {
   "collapsed_sections": [
    "0nB48_DyGkIT",
    "BlS9holfOzUA",
    "AihV7BXacZxO",
    "Z073o28diT9Z",
    "7-oJw9NdjV4y",
    "9Mpfhng2kygv",
    "b2eSUaEYzb69",
    "dGA3QDqMzxqN",
    "rwUN3FGd0Nhb"
   ],
   "machine_shape": "hm",
   "name": "Facebook_Recruiting_Featurization.ipynb",
   "provenance": [],
   "version": "0.3.2"
  },
  "kernelspec": {
   "display_name": "Python 3",
   "language": "python",
   "name": "python3"
  },
  "language_info": {
   "codemirror_mode": {
    "name": "ipython",
    "version": 3
   },
   "file_extension": ".py",
   "mimetype": "text/x-python",
   "name": "python",
   "nbconvert_exporter": "python",
   "pygments_lexer": "ipython3",
   "version": "3.6.8"
  }
 },
 "nbformat": 4,
 "nbformat_minor": 1
}
